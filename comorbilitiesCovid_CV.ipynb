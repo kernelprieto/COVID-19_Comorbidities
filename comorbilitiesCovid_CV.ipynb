{
 "cells": [
  {
   "cell_type": "code",
   "execution_count": 1,
   "metadata": {
    "colab": {},
    "colab_type": "code",
    "id": "1WF2KF5PpKvM"
   },
   "outputs": [],
   "source": [
    "from sklearn.preprocessing import MinMaxScaler,StandardScaler,PolynomialFeatures\n",
    "from sklearn.model_selection import train_test_split,cross_val_score,GridSearchCV\n",
    "from sklearn.linear_model import LinearRegression,LogisticRegression\n",
    "from sklearn.feature_selection import SelectKBest, chi2,RFECV\n",
    "\n",
    "#from xgboost import XGBClassifier\n",
    "from sklearn.ensemble import RandomForestClassifier\n",
    "\n",
    "\n",
    "from sklearn.tree import DecisionTreeRegressor\n",
    "from sklearn.tree import DecisionTreeClassifier\n",
    "\n",
    "from sklearn.neighbors import KNeighborsRegressor\n",
    "from sklearn.neighbors import KNeighborsClassifier\n",
    "\n",
    "from sklearn.metrics import r2_score,mean_squared_error,accuracy_score,classification_report\n",
    "from sklearn.metrics import confusion_matrix,plot_confusion_matrix,roc_curve,auc,fbeta_score\n",
    "\n",
    "from sklearn.pipeline import make_pipeline\n",
    "\n",
    "from sklearn.naive_bayes import BernoulliNB,MultinomialNB,CategoricalNB,GaussianNB,ComplementNB\n",
    "\n",
    "import pandas as pd\n",
    "import numpy as np\n",
    "import matplotlib.pyplot as plt\n",
    "import seaborn as sns; sns.set();\n",
    "\n",
    "import warnings\n",
    "warnings.filterwarnings(\"ignore\")\n",
    "\n",
    "\n",
    "import numpy as np\n",
    "import pandas as pd\n",
    "\n",
    "%matplotlib inline\n",
    "import matplotlib.pyplot as plt\n",
    "from scipy.optimize import least_squares\n",
    "\n",
    "import requests, zipfile, io\n",
    "from datetime import date, timedelta\n",
    "\n",
    "from matplotlib import rcParams\n",
    "rcParams['figure.figsize'] = (10, 6)\n",
    "rcParams['legend.fontsize'] = 16\n",
    "rcParams['axes.labelsize'] = 16"
   ]
  },
  {
   "cell_type": "code",
   "execution_count": 2,
   "metadata": {
    "colab": {
     "base_uri": "https://localhost:8080/",
     "height": 34
    },
    "colab_type": "code",
    "id": "GI7m4NxxC5hr",
    "outputId": "c5693fd9-6c90-47bf-c3a2-f6de0a115210"
   },
   "outputs": [
    {
     "data": {
      "text/plain": [
       "'210918COVID19MEXICO.csv'"
      ]
     },
     "execution_count": 2,
     "metadata": {},
     "output_type": "execute_result"
    }
   ],
   "source": [
    "urlnew = \"http://187.191.75.115/gobmx/salud/datos_abiertos/datos_abiertos_covid19.zip\"\n",
    "\n",
    "# fecha_archivo = pd.Timestamp(\"today\")\n",
    "# fecha_archivo\n",
    "yesterday = date.today() - timedelta(days=1)\n",
    "yesterday.strftime('%m%d%y')\n",
    "\n",
    "archivo = yesterday.strftime(\"%y%m%d\")+\"COVID19MEXICO.csv\"\n",
    "archivo"
   ]
  },
  {
   "cell_type": "code",
   "execution_count": null,
   "metadata": {
    "colab": {},
    "colab_type": "code",
    "id": "zWF247LrD1ny"
   },
   "outputs": [],
   "source": [
    "#df = pd.read_csv(archivo,encoding='utf-8', low_memory=False)\n",
    "#df = pd.read_csv(archivo,encoding='latin1', low_memory=False)\n",
    "#df0 = pd.read_csv('200623COVID19MEXICO.csv',encoding='latin1', low_memory=False)\n",
    "#df0 = pd.read_csv('200616COVID19MEXICO.csv',encoding='latin1', low_memory=False)"
   ]
  },
  {
   "cell_type": "code",
   "execution_count": 47,
   "metadata": {
    "colab": {},
    "colab_type": "code",
    "id": "5WYPbu2AB3J5"
   },
   "outputs": [],
   "source": [
    "df0  = pd.read_csv('200806COVID19MEXICO.csv',\n",
    "                   encoding='latin1', low_memory=False)"
   ]
  },
  {
   "cell_type": "code",
   "execution_count": 49,
   "metadata": {
    "colab": {
     "base_uri": "https://localhost:8080/",
     "height": 34
    },
    "colab_type": "code",
    "id": "Sn9N1wVkLQGh",
    "outputId": "662d8778-aa8b-42a3-b238-2d9367d0812f"
   },
   "outputs": [
    {
     "data": {
      "text/plain": [
       "(462690, 35)"
      ]
     },
     "execution_count": 49,
     "metadata": {},
     "output_type": "execute_result"
    }
   ],
   "source": [
    "df = df0[(df0[\"RESULTADO\"] == 1)]\n",
    "df.shape"
   ]
  },
  {
   "cell_type": "code",
   "execution_count": 50,
   "metadata": {
    "colab": {
     "base_uri": "https://localhost:8080/",
     "height": 175
    },
    "colab_type": "code",
    "id": "8_1PhxkwIvMl",
    "outputId": "eb05336f-f104-4852-c6d6-3f8fbbc8586b"
   },
   "outputs": [
    {
     "name": "stdout",
     "output_type": "stream",
     "text": [
      "[ 2  1 99]\n",
      "[ 2  1 98]\n",
      "[ 2  1 98]\n",
      "[ 2  1 98]\n",
      "[ 2  1 98]\n",
      "[ 2  1 98]\n",
      "[ 2  1 98]\n",
      "[ 2 98  1]\n",
      "[ 2  1 98]\n"
     ]
    }
   ],
   "source": [
    "print(df['NEUMONIA'].unique())\n",
    "print(df['DIABETES'].unique())\n",
    "print(df['EPOC'].unique())\n",
    "print(df['ASMA'].unique())\n",
    "print(df['INMUSUPR'].unique())\n",
    "print(df['CARDIOVASCULAR'].unique())\n",
    "print(df['OBESIDAD'].unique())\n",
    "print(df['RENAL_CRONICA'].unique())\n",
    "print(df['TABAQUISMO'].unique())"
   ]
  },
  {
   "cell_type": "code",
   "execution_count": 51,
   "metadata": {
    "colab": {
     "base_uri": "https://localhost:8080/",
     "height": 422
    },
    "colab_type": "code",
    "id": "JXg_N3s_NbKh",
    "outputId": "a020b7ef-02be-435d-8185-cff4673d5523"
   },
   "outputs": [
    {
     "data": {
      "text/html": [
       "<div>\n",
       "<style scoped>\n",
       "    .dataframe tbody tr th:only-of-type {\n",
       "        vertical-align: middle;\n",
       "    }\n",
       "\n",
       "    .dataframe tbody tr th {\n",
       "        vertical-align: top;\n",
       "    }\n",
       "\n",
       "    .dataframe thead th {\n",
       "        text-align: right;\n",
       "    }\n",
       "</style>\n",
       "<table border=\"1\" class=\"dataframe\">\n",
       "  <thead>\n",
       "    <tr style=\"text-align: right;\">\n",
       "      <th></th>\n",
       "      <th>FECHA_ACTUALIZACION</th>\n",
       "      <th>ID_REGISTRO</th>\n",
       "      <th>ORIGEN</th>\n",
       "      <th>SECTOR</th>\n",
       "      <th>ENTIDAD_UM</th>\n",
       "      <th>SEXO</th>\n",
       "      <th>ENTIDAD_NAC</th>\n",
       "      <th>ENTIDAD_RES</th>\n",
       "      <th>MUNICIPIO_RES</th>\n",
       "      <th>TIPO_PACIENTE</th>\n",
       "      <th>...</th>\n",
       "      <th>CARDIOVASCULAR</th>\n",
       "      <th>OBESIDAD</th>\n",
       "      <th>RENAL_CRONICA</th>\n",
       "      <th>TABAQUISMO</th>\n",
       "      <th>OTRO_CASO</th>\n",
       "      <th>RESULTADO</th>\n",
       "      <th>MIGRANTE</th>\n",
       "      <th>PAIS_NACIONALIDAD</th>\n",
       "      <th>PAIS_ORIGEN</th>\n",
       "      <th>UCI</th>\n",
       "    </tr>\n",
       "  </thead>\n",
       "  <tbody>\n",
       "    <tr>\n",
       "      <th>0</th>\n",
       "      <td>2020-08-06</td>\n",
       "      <td>0cfcc3</td>\n",
       "      <td>2</td>\n",
       "      <td>4</td>\n",
       "      <td>25</td>\n",
       "      <td>1</td>\n",
       "      <td>25</td>\n",
       "      <td>25</td>\n",
       "      <td>1</td>\n",
       "      <td>1</td>\n",
       "      <td>...</td>\n",
       "      <td>2</td>\n",
       "      <td>2</td>\n",
       "      <td>2</td>\n",
       "      <td>2</td>\n",
       "      <td>99</td>\n",
       "      <td>1</td>\n",
       "      <td>99</td>\n",
       "      <td>MÃ©xico</td>\n",
       "      <td>99</td>\n",
       "      <td>97</td>\n",
       "    </tr>\n",
       "    <tr>\n",
       "      <th>1</th>\n",
       "      <td>2020-08-06</td>\n",
       "      <td>1d67f9</td>\n",
       "      <td>2</td>\n",
       "      <td>4</td>\n",
       "      <td>9</td>\n",
       "      <td>1</td>\n",
       "      <td>9</td>\n",
       "      <td>9</td>\n",
       "      <td>7</td>\n",
       "      <td>1</td>\n",
       "      <td>...</td>\n",
       "      <td>2</td>\n",
       "      <td>2</td>\n",
       "      <td>2</td>\n",
       "      <td>2</td>\n",
       "      <td>99</td>\n",
       "      <td>1</td>\n",
       "      <td>99</td>\n",
       "      <td>MÃ©xico</td>\n",
       "      <td>99</td>\n",
       "      <td>97</td>\n",
       "    </tr>\n",
       "    <tr>\n",
       "      <th>2</th>\n",
       "      <td>2020-08-06</td>\n",
       "      <td>07d040</td>\n",
       "      <td>2</td>\n",
       "      <td>3</td>\n",
       "      <td>25</td>\n",
       "      <td>2</td>\n",
       "      <td>25</td>\n",
       "      <td>25</td>\n",
       "      <td>6</td>\n",
       "      <td>1</td>\n",
       "      <td>...</td>\n",
       "      <td>2</td>\n",
       "      <td>2</td>\n",
       "      <td>2</td>\n",
       "      <td>2</td>\n",
       "      <td>1</td>\n",
       "      <td>1</td>\n",
       "      <td>99</td>\n",
       "      <td>MÃ©xico</td>\n",
       "      <td>99</td>\n",
       "      <td>97</td>\n",
       "    </tr>\n",
       "    <tr>\n",
       "      <th>3</th>\n",
       "      <td>2020-08-06</td>\n",
       "      <td>17241d</td>\n",
       "      <td>2</td>\n",
       "      <td>3</td>\n",
       "      <td>27</td>\n",
       "      <td>1</td>\n",
       "      <td>27</td>\n",
       "      <td>27</td>\n",
       "      <td>4</td>\n",
       "      <td>1</td>\n",
       "      <td>...</td>\n",
       "      <td>2</td>\n",
       "      <td>2</td>\n",
       "      <td>2</td>\n",
       "      <td>2</td>\n",
       "      <td>1</td>\n",
       "      <td>1</td>\n",
       "      <td>99</td>\n",
       "      <td>MÃ©xico</td>\n",
       "      <td>99</td>\n",
       "      <td>97</td>\n",
       "    </tr>\n",
       "    <tr>\n",
       "      <th>4</th>\n",
       "      <td>2020-08-06</td>\n",
       "      <td>0276dd</td>\n",
       "      <td>2</td>\n",
       "      <td>4</td>\n",
       "      <td>9</td>\n",
       "      <td>1</td>\n",
       "      <td>9</td>\n",
       "      <td>9</td>\n",
       "      <td>7</td>\n",
       "      <td>1</td>\n",
       "      <td>...</td>\n",
       "      <td>2</td>\n",
       "      <td>2</td>\n",
       "      <td>2</td>\n",
       "      <td>2</td>\n",
       "      <td>99</td>\n",
       "      <td>1</td>\n",
       "      <td>99</td>\n",
       "      <td>MÃ©xico</td>\n",
       "      <td>99</td>\n",
       "      <td>97</td>\n",
       "    </tr>\n",
       "    <tr>\n",
       "      <th>...</th>\n",
       "      <td>...</td>\n",
       "      <td>...</td>\n",
       "      <td>...</td>\n",
       "      <td>...</td>\n",
       "      <td>...</td>\n",
       "      <td>...</td>\n",
       "      <td>...</td>\n",
       "      <td>...</td>\n",
       "      <td>...</td>\n",
       "      <td>...</td>\n",
       "      <td>...</td>\n",
       "      <td>...</td>\n",
       "      <td>...</td>\n",
       "      <td>...</td>\n",
       "      <td>...</td>\n",
       "      <td>...</td>\n",
       "      <td>...</td>\n",
       "      <td>...</td>\n",
       "      <td>...</td>\n",
       "      <td>...</td>\n",
       "      <td>...</td>\n",
       "    </tr>\n",
       "    <tr>\n",
       "      <th>813243</th>\n",
       "      <td>2020-08-06</td>\n",
       "      <td>1980a4</td>\n",
       "      <td>1</td>\n",
       "      <td>4</td>\n",
       "      <td>32</td>\n",
       "      <td>1</td>\n",
       "      <td>32</td>\n",
       "      <td>32</td>\n",
       "      <td>17</td>\n",
       "      <td>1</td>\n",
       "      <td>...</td>\n",
       "      <td>2</td>\n",
       "      <td>1</td>\n",
       "      <td>2</td>\n",
       "      <td>2</td>\n",
       "      <td>99</td>\n",
       "      <td>1</td>\n",
       "      <td>99</td>\n",
       "      <td>MÃ©xico</td>\n",
       "      <td>99</td>\n",
       "      <td>97</td>\n",
       "    </tr>\n",
       "    <tr>\n",
       "      <th>813244</th>\n",
       "      <td>2020-08-06</td>\n",
       "      <td>176de0</td>\n",
       "      <td>1</td>\n",
       "      <td>4</td>\n",
       "      <td>5</td>\n",
       "      <td>2</td>\n",
       "      <td>32</td>\n",
       "      <td>5</td>\n",
       "      <td>25</td>\n",
       "      <td>1</td>\n",
       "      <td>...</td>\n",
       "      <td>2</td>\n",
       "      <td>2</td>\n",
       "      <td>2</td>\n",
       "      <td>1</td>\n",
       "      <td>99</td>\n",
       "      <td>1</td>\n",
       "      <td>99</td>\n",
       "      <td>MÃ©xico</td>\n",
       "      <td>99</td>\n",
       "      <td>97</td>\n",
       "    </tr>\n",
       "    <tr>\n",
       "      <th>813245</th>\n",
       "      <td>2020-08-06</td>\n",
       "      <td>065899</td>\n",
       "      <td>2</td>\n",
       "      <td>4</td>\n",
       "      <td>5</td>\n",
       "      <td>1</td>\n",
       "      <td>5</td>\n",
       "      <td>5</td>\n",
       "      <td>33</td>\n",
       "      <td>1</td>\n",
       "      <td>...</td>\n",
       "      <td>2</td>\n",
       "      <td>2</td>\n",
       "      <td>2</td>\n",
       "      <td>2</td>\n",
       "      <td>99</td>\n",
       "      <td>1</td>\n",
       "      <td>99</td>\n",
       "      <td>MÃ©xico</td>\n",
       "      <td>99</td>\n",
       "      <td>97</td>\n",
       "    </tr>\n",
       "    <tr>\n",
       "      <th>813246</th>\n",
       "      <td>2020-08-06</td>\n",
       "      <td>131fc5</td>\n",
       "      <td>2</td>\n",
       "      <td>12</td>\n",
       "      <td>2</td>\n",
       "      <td>1</td>\n",
       "      <td>25</td>\n",
       "      <td>2</td>\n",
       "      <td>4</td>\n",
       "      <td>1</td>\n",
       "      <td>...</td>\n",
       "      <td>2</td>\n",
       "      <td>1</td>\n",
       "      <td>2</td>\n",
       "      <td>2</td>\n",
       "      <td>1</td>\n",
       "      <td>1</td>\n",
       "      <td>99</td>\n",
       "      <td>MÃ©xico</td>\n",
       "      <td>99</td>\n",
       "      <td>97</td>\n",
       "    </tr>\n",
       "    <tr>\n",
       "      <th>813247</th>\n",
       "      <td>2020-08-06</td>\n",
       "      <td>1deddc</td>\n",
       "      <td>1</td>\n",
       "      <td>4</td>\n",
       "      <td>9</td>\n",
       "      <td>2</td>\n",
       "      <td>9</td>\n",
       "      <td>15</td>\n",
       "      <td>33</td>\n",
       "      <td>1</td>\n",
       "      <td>...</td>\n",
       "      <td>2</td>\n",
       "      <td>1</td>\n",
       "      <td>2</td>\n",
       "      <td>1</td>\n",
       "      <td>99</td>\n",
       "      <td>1</td>\n",
       "      <td>99</td>\n",
       "      <td>MÃ©xico</td>\n",
       "      <td>99</td>\n",
       "      <td>97</td>\n",
       "    </tr>\n",
       "  </tbody>\n",
       "</table>\n",
       "<p>462690 rows × 35 columns</p>\n",
       "</div>"
      ],
      "text/plain": [
       "       FECHA_ACTUALIZACION ID_REGISTRO  ORIGEN  SECTOR  ENTIDAD_UM  SEXO  \\\n",
       "0               2020-08-06      0cfcc3       2       4          25     1   \n",
       "1               2020-08-06      1d67f9       2       4           9     1   \n",
       "2               2020-08-06      07d040       2       3          25     2   \n",
       "3               2020-08-06      17241d       2       3          27     1   \n",
       "4               2020-08-06      0276dd       2       4           9     1   \n",
       "...                    ...         ...     ...     ...         ...   ...   \n",
       "813243          2020-08-06      1980a4       1       4          32     1   \n",
       "813244          2020-08-06      176de0       1       4           5     2   \n",
       "813245          2020-08-06      065899       2       4           5     1   \n",
       "813246          2020-08-06      131fc5       2      12           2     1   \n",
       "813247          2020-08-06      1deddc       1       4           9     2   \n",
       "\n",
       "        ENTIDAD_NAC  ENTIDAD_RES  MUNICIPIO_RES  TIPO_PACIENTE  ...  \\\n",
       "0                25           25              1              1  ...   \n",
       "1                 9            9              7              1  ...   \n",
       "2                25           25              6              1  ...   \n",
       "3                27           27              4              1  ...   \n",
       "4                 9            9              7              1  ...   \n",
       "...             ...          ...            ...            ...  ...   \n",
       "813243           32           32             17              1  ...   \n",
       "813244           32            5             25              1  ...   \n",
       "813245            5            5             33              1  ...   \n",
       "813246           25            2              4              1  ...   \n",
       "813247            9           15             33              1  ...   \n",
       "\n",
       "       CARDIOVASCULAR OBESIDAD  RENAL_CRONICA  TABAQUISMO  OTRO_CASO  \\\n",
       "0                   2        2              2           2         99   \n",
       "1                   2        2              2           2         99   \n",
       "2                   2        2              2           2          1   \n",
       "3                   2        2              2           2          1   \n",
       "4                   2        2              2           2         99   \n",
       "...               ...      ...            ...         ...        ...   \n",
       "813243              2        1              2           2         99   \n",
       "813244              2        2              2           1         99   \n",
       "813245              2        2              2           2         99   \n",
       "813246              2        1              2           2          1   \n",
       "813247              2        1              2           1         99   \n",
       "\n",
       "        RESULTADO  MIGRANTE  PAIS_NACIONALIDAD  PAIS_ORIGEN  UCI  \n",
       "0               1        99            MÃ©xico           99   97  \n",
       "1               1        99            MÃ©xico           99   97  \n",
       "2               1        99            MÃ©xico           99   97  \n",
       "3               1        99            MÃ©xico           99   97  \n",
       "4               1        99            MÃ©xico           99   97  \n",
       "...           ...       ...                ...          ...  ...  \n",
       "813243          1        99            MÃ©xico           99   97  \n",
       "813244          1        99            MÃ©xico           99   97  \n",
       "813245          1        99            MÃ©xico           99   97  \n",
       "813246          1        99            MÃ©xico           99   97  \n",
       "813247          1        99            MÃ©xico           99   97  \n",
       "\n",
       "[462690 rows x 35 columns]"
      ]
     },
     "execution_count": 51,
     "metadata": {},
     "output_type": "execute_result"
    }
   ],
   "source": [
    "df['FECHA_DEF'] = (df['FECHA_DEF'] == '9999-99-99').astype(int)\n",
    "df       "
   ]
  },
  {
   "cell_type": "code",
   "execution_count": 52,
   "metadata": {
    "colab": {
     "base_uri": "https://localhost:8080/",
     "height": 70
    },
    "colab_type": "code",
    "id": "-N4PiDHYFfzS",
    "outputId": "ce8df126-a4fe-4e04-f24f-e445b2da8e86"
   },
   "outputs": [
    {
     "name": "stdout",
     "output_type": "stream",
     "text": [
      "[1 0]\n",
      "50517\n",
      "412173\n"
     ]
    }
   ],
   "source": [
    "print(df['FECHA_DEF'].unique())\n",
    "print(len(df[df['FECHA_DEF'] == 0] ) )\n",
    "print(len(df[df['FECHA_DEF'] == 1] ) )"
   ]
  },
  {
   "cell_type": "code",
   "execution_count": 53,
   "metadata": {
    "colab": {
     "base_uri": "https://localhost:8080/",
     "height": 52
    },
    "colab_type": "code",
    "id": "JYSySFG4pZsb",
    "outputId": "9e2c4ff0-2db2-44d7-8cd1-9672cfe12bf9"
   },
   "outputs": [
    {
     "name": "stdout",
     "output_type": "stream",
     "text": [
      "9935\n",
      "4808\n"
     ]
    }
   ],
   "source": [
    "print(len(df[df['UCI'] == 1] ) )\n",
    "print(len(df[ (df[\"UCI\"] == 1) & (df[\"INTUBADO\"] == 2 ) ] ) )"
   ]
  },
  {
   "cell_type": "code",
   "execution_count": 54,
   "metadata": {
    "colab": {
     "base_uri": "https://localhost:8080/",
     "height": 70
    },
    "colab_type": "code",
    "id": "Noht6NzRmJd4",
    "outputId": "d4f522f9-4227-4010-ad56-deabcd5f60fb"
   },
   "outputs": [
    {
     "name": "stdout",
     "output_type": "stream",
     "text": [
      "[1 0]\n",
      "50517\n",
      "412173\n"
     ]
    }
   ],
   "source": [
    "print(df['FECHA_DEF'].unique())\n",
    "print(len(df[df['FECHA_DEF'] == 0] ) )\n",
    "print(len(df[df['FECHA_DEF'] == 1] ) )"
   ]
  },
  {
   "cell_type": "code",
   "execution_count": 55,
   "metadata": {
    "colab": {
     "base_uri": "https://localhost:8080/",
     "height": 52
    },
    "colab_type": "code",
    "id": "v6aujdazZxlU",
    "outputId": "c8fc59ad-acfc-4e44-ecef-2668103d767d"
   },
   "outputs": [
    {
     "name": "stdout",
     "output_type": "stream",
     "text": [
      "338693\n",
      "5696\n"
     ]
    }
   ],
   "source": [
    "print(len(df[df[\"TIPO_PACIENTE\"] == 1] ) )\n",
    "print(len(df[ (df[\"TIPO_PACIENTE\"] == 1) & (df[\"FECHA_DEF\"] == 0 ) ] ) )"
   ]
  },
  {
   "cell_type": "code",
   "execution_count": 56,
   "metadata": {
    "colab": {
     "base_uri": "https://localhost:8080/",
     "height": 52
    },
    "colab_type": "code",
    "id": "1_WVUXNnaeKS",
    "outputId": "b83214fe-c90f-44b7-8dff-55567b5d7ede"
   },
   "outputs": [
    {
     "name": "stdout",
     "output_type": "stream",
     "text": [
      "11928\n",
      "6801\n"
     ]
    }
   ],
   "source": [
    "print(len(df[df[\"INTUBADO\"] == 1] ) )\n",
    "print(len(df[ (df[\"INTUBADO\"] == 1) & (df[\"UCI\"] == 2 ) ] ) )"
   ]
  },
  {
   "cell_type": "code",
   "execution_count": 60,
   "metadata": {
    "colab": {
     "base_uri": "https://localhost:8080/",
     "height": 34
    },
    "colab_type": "code",
    "id": "QvqiSqyQeP6C",
    "outputId": "0a3fdbd2-575b-4d20-8edc-81ed0e1c79f8"
   },
   "outputs": [],
   "source": [
    "#df = df0[(df0[\"RESULTADO\"] == 3)]\n",
    "#df.shape"
   ]
  },
  {
   "cell_type": "code",
   "execution_count": 35,
   "metadata": {
    "colab": {
     "base_uri": "https://localhost:8080/",
     "height": 52
    },
    "colab_type": "code",
    "id": "x7oBi92IeV4O",
    "outputId": "adf0b99c-fd0b-4898-b6ed-3c4389f6aa4a"
   },
   "outputs": [
    {
     "name": "stdout",
     "output_type": "stream",
     "text": [
      "1030\n",
      "553\n"
     ]
    }
   ],
   "source": [
    "print(len(df[df['UCI'] == 1] ) )\n",
    "print(len(df[ (df[\"UCI\"] == 1) & (df[\"INTUBADO\"] == 2 ) ] ) )"
   ]
  },
  {
   "cell_type": "code",
   "execution_count": 36,
   "metadata": {
    "colab": {
     "base_uri": "https://localhost:8080/",
     "height": 34
    },
    "colab_type": "code",
    "id": "3ptfzLKaetby",
    "outputId": "47b5f625-052c-419b-c631-23db591da4a3"
   },
   "outputs": [
    {
     "data": {
      "text/plain": [
       "(233137, 35)"
      ]
     },
     "execution_count": 36,
     "metadata": {},
     "output_type": "execute_result"
    }
   ],
   "source": [
    "df = df0[(df0[\"RESULTADO\"] == 2)]\n",
    "df.shape"
   ]
  },
  {
   "cell_type": "code",
   "execution_count": 57,
   "metadata": {
    "colab": {
     "base_uri": "https://localhost:8080/",
     "height": 52
    },
    "colab_type": "code",
    "id": "Z6qqTdNOev_D",
    "outputId": "7934c76b-5a05-43ad-f6a1-6275be08f51e"
   },
   "outputs": [
    {
     "name": "stdout",
     "output_type": "stream",
     "text": [
      "9935\n",
      "4808\n"
     ]
    }
   ],
   "source": [
    "print(len(df[df['UCI'] == 1] ) )\n",
    "print(len(df[ (df[\"UCI\"] == 1) & (df[\"INTUBADO\"] == 2 ) ] ) )"
   ]
  },
  {
   "cell_type": "code",
   "execution_count": 58,
   "metadata": {
    "colab": {
     "base_uri": "https://localhost:8080/",
     "height": 193
    },
    "colab_type": "code",
    "id": "F-8gvjubPc-g",
    "outputId": "8ecaf43a-d358-4585-f990-891be6b53716"
   },
   "outputs": [
    {
     "name": "stdout",
     "output_type": "stream",
     "text": [
      "5\n",
      "1485\n",
      "1325\n",
      "1319\n",
      "1461\n",
      "1400\n",
      "1407\n",
      "1365\n",
      "1358\n",
      "1461\n"
     ]
    }
   ],
   "source": [
    "missing_neumonia       = df[\"NEUMONIA\"].isin([99]).sum()\n",
    "missing_diabetes       = df[\"DIABETES\"].isin([98]).sum()\n",
    "missing_epoc           = df[\"EPOC\"].isin([98]).sum()\n",
    "missing_asma           = df[\"ASMA\"].isin([98]).sum()\n",
    "missing_inmusupr       = df[\"INMUSUPR\"].isin([98]).sum()\n",
    "missing_hipertension   = df[\"HIPERTENSION\"].isin([98]).sum()\n",
    "missing_cardiovascular = df[\"CARDIOVASCULAR\"].isin([98]).sum()\n",
    "missing_obesidad       = df[\"OBESIDAD\"].isin([98]).sum()\n",
    "missing_renal_cronica  = df[\"RENAL_CRONICA\"].isin([98]).sum()\n",
    "missing_tabaquismo     = df[\"TABAQUISMO\"].isin([98]).sum()\n",
    "print(missing_neumonia)\n",
    "print(missing_diabetes)\n",
    "print(missing_epoc)\n",
    "print(missing_asma)\n",
    "print(missing_inmusupr)\n",
    "print(missing_hipertension)\n",
    "print(missing_cardiovascular)\n",
    "print(missing_obesidad)\n",
    "print(missing_renal_cronica)\n",
    "print(missing_tabaquismo)\n"
   ]
  },
  {
   "cell_type": "code",
   "execution_count": 59,
   "metadata": {
    "colab": {
     "base_uri": "https://localhost:8080/",
     "height": 175
    },
    "colab_type": "code",
    "id": "98PHoRm5RvOD",
    "outputId": "83ac0f4c-df9d-484d-fd9a-a462a63764f3"
   },
   "outputs": [
    {
     "name": "stdout",
     "output_type": "stream",
     "text": [
      "73771\n",
      "7211\n",
      "12346\n",
      "5454\n",
      "91464\n",
      "9724\n",
      "86729\n",
      "9115\n",
      "33317\n"
     ]
    }
   ],
   "source": [
    "pos_diabetes       = df[\"DIABETES\"].isin([1]).sum()\n",
    "pos_epoc           = df[\"EPOC\"].isin([1]).sum()\n",
    "pos_asma           = df[\"ASMA\"].isin([1]).sum()\n",
    "pos_inmusupr       = df[\"INMUSUPR\"].isin([1]).sum()\n",
    "pos_hipertension   = df[\"HIPERTENSION\"].isin([1]).sum()\n",
    "pos_cardiovascular = df[\"CARDIOVASCULAR\"].isin([1]).sum()\n",
    "pos_obesidad       = df[\"OBESIDAD\"].isin([1]).sum()\n",
    "pos_renal_cronica  = df[\"RENAL_CRONICA\"].isin([1]).sum()\n",
    "pos_tabaquismo     = df[\"TABAQUISMO\"].isin([1]).sum()\n",
    "print(pos_diabetes)\n",
    "print(pos_epoc)\n",
    "print(pos_asma)\n",
    "print(pos_inmusupr)\n",
    "print(pos_hipertension)\n",
    "print(pos_cardiovascular)\n",
    "print(pos_obesidad)\n",
    "print(pos_renal_cronica)\n",
    "print(pos_tabaquismo)"
   ]
  },
  {
   "cell_type": "code",
   "execution_count": 61,
   "metadata": {
    "colab": {},
    "colab_type": "code",
    "id": "-SVFu9raVoPp"
   },
   "outputs": [],
   "source": [
    "clean_df=df.drop(df[ (df[\"NEUMONIA\"] == 99) \n",
    "                    | (df[\"DIABETES\"] == 98 ) | (df[\"HIPERTENSION\"] == 98)\n",
    "                    | (df[\"OBESIDAD\"] == 98) | (df[\"TABAQUISMO\"] == 98)\n",
    "                   ].index)"
   ]
  },
  {
   "cell_type": "code",
   "execution_count": 62,
   "metadata": {
    "colab": {
     "base_uri": "https://localhost:8080/",
     "height": 193
    },
    "colab_type": "code",
    "id": "NS1G2jl0dgPk",
    "outputId": "388e446e-a6b9-47a2-8897-d3223ab17fc5"
   },
   "outputs": [
    {
     "name": "stdout",
     "output_type": "stream",
     "text": [
      "0\n",
      "0\n",
      "76\n",
      "56\n",
      "180\n",
      "0\n",
      "115\n",
      "0\n",
      "76\n",
      "0\n"
     ]
    }
   ],
   "source": [
    "missing_neumonia       = clean_df[\"NEUMONIA\"].isin([99]).sum()\n",
    "missing_diabetes       = clean_df[\"DIABETES\"].isin([98]).sum()\n",
    "missing_epoc           = clean_df[\"EPOC\"].isin([98]).sum()\n",
    "missing_asma           = clean_df[\"ASMA\"].isin([98]).sum()\n",
    "missing_inmusupr       = clean_df[\"INMUSUPR\"].isin([98]).sum()\n",
    "missing_hipertension   = clean_df[\"HIPERTENSION\"].isin([98]).sum()\n",
    "missing_cardiovascular = clean_df[\"CARDIOVASCULAR\"].isin([98]).sum()\n",
    "missing_obesidad       = clean_df[\"OBESIDAD\"].isin([98]).sum()\n",
    "missing_renal_cronica  = clean_df[\"RENAL_CRONICA\"].isin([98]).sum()\n",
    "missing_tabaquismo     = clean_df[\"TABAQUISMO\"].isin([98]).sum()\n",
    "print(missing_neumonia)\n",
    "print(missing_diabetes)\n",
    "print(missing_epoc)\n",
    "print(missing_asma)\n",
    "print(missing_inmusupr)\n",
    "print(missing_hipertension)\n",
    "print(missing_cardiovascular)\n",
    "print(missing_obesidad)\n",
    "print(missing_renal_cronica)\n",
    "print(missing_tabaquismo)"
   ]
  },
  {
   "cell_type": "code",
   "execution_count": 63,
   "metadata": {
    "colab": {},
    "colab_type": "code",
    "id": "gZi73CIfVoeo"
   },
   "outputs": [],
   "source": [
    "clean_df.rename(columns={'FECHA_DEF':'SURVIVED'}, inplace=True)"
   ]
  },
  {
   "cell_type": "code",
   "execution_count": 64,
   "metadata": {
    "colab": {
     "base_uri": "https://localhost:8080/",
     "height": 70
    },
    "colab_type": "code",
    "id": "auvdGm4NnOLR",
    "outputId": "3d59cb1a-3ce5-44c8-e0b0-af9c9ceb4f05"
   },
   "outputs": [
    {
     "name": "stdout",
     "output_type": "stream",
     "text": [
      "[1 0]\n",
      "50051\n",
      "410554\n"
     ]
    }
   ],
   "source": [
    "print(clean_df['SURVIVED'].unique())\n",
    "print(len(clean_df[clean_df['SURVIVED'] == 0] ) )\n",
    "print(len(clean_df[clean_df['SURVIVED'] == 1] ) )"
   ]
  },
  {
   "cell_type": "code",
   "execution_count": 65,
   "metadata": {
    "colab": {
     "base_uri": "https://localhost:8080/",
     "height": 373
    },
    "colab_type": "code",
    "id": "gp-VRzcqKY9d",
    "outputId": "9ece92f3-bfc9-467a-8cb7-aafce1d1cfec"
   },
   "outputs": [
    {
     "data": {
      "image/png": "[encoded data removed]",
      "text/plain": [
       "<Figure size 432x432 with 1 Axes>"
      ]
     },
     "metadata": {},
     "output_type": "display_data"
    }
   ],
   "source": [
    "plot = clean_df['SURVIVED'].value_counts().plot(kind='pie', autopct='%.2f', \n",
    "                                            figsize=(6, 6),\n",
    "                                            title='MORTALITY')"
   ]
  },
  {
   "cell_type": "code",
   "execution_count": 66,
   "metadata": {
    "colab": {
     "base_uri": "https://localhost:8080/",
     "height": 402
    },
    "colab_type": "code",
    "id": "fYBpZUD2fvmE",
    "outputId": "296e5fbe-767b-48a7-a619-321c21eb5d99"
   },
   "outputs": [
    {
     "data": {
      "text/html": [
       "<div>\n",
       "<style scoped>\n",
       "    .dataframe tbody tr th:only-of-type {\n",
       "        vertical-align: middle;\n",
       "    }\n",
       "\n",
       "    .dataframe tbody tr th {\n",
       "        vertical-align: top;\n",
       "    }\n",
       "\n",
       "    .dataframe thead th {\n",
       "        text-align: right;\n",
       "    }\n",
       "</style>\n",
       "<table border=\"1\" class=\"dataframe\">\n",
       "  <thead>\n",
       "    <tr style=\"text-align: right;\">\n",
       "      <th></th>\n",
       "      <th>HIPERTENSION</th>\n",
       "      <th>OBESIDAD</th>\n",
       "      <th>DIABETES</th>\n",
       "      <th>TABAQUISMO</th>\n",
       "      <th>SURVIVED</th>\n",
       "    </tr>\n",
       "  </thead>\n",
       "  <tbody>\n",
       "    <tr>\n",
       "      <th>0</th>\n",
       "      <td>2</td>\n",
       "      <td>2</td>\n",
       "      <td>2</td>\n",
       "      <td>2</td>\n",
       "      <td>1</td>\n",
       "    </tr>\n",
       "    <tr>\n",
       "      <th>1</th>\n",
       "      <td>2</td>\n",
       "      <td>2</td>\n",
       "      <td>2</td>\n",
       "      <td>2</td>\n",
       "      <td>1</td>\n",
       "    </tr>\n",
       "    <tr>\n",
       "      <th>2</th>\n",
       "      <td>1</td>\n",
       "      <td>2</td>\n",
       "      <td>2</td>\n",
       "      <td>2</td>\n",
       "      <td>1</td>\n",
       "    </tr>\n",
       "    <tr>\n",
       "      <th>3</th>\n",
       "      <td>2</td>\n",
       "      <td>2</td>\n",
       "      <td>2</td>\n",
       "      <td>2</td>\n",
       "      <td>1</td>\n",
       "    </tr>\n",
       "    <tr>\n",
       "      <th>4</th>\n",
       "      <td>2</td>\n",
       "      <td>2</td>\n",
       "      <td>2</td>\n",
       "      <td>2</td>\n",
       "      <td>1</td>\n",
       "    </tr>\n",
       "    <tr>\n",
       "      <th>...</th>\n",
       "      <td>...</td>\n",
       "      <td>...</td>\n",
       "      <td>...</td>\n",
       "      <td>...</td>\n",
       "      <td>...</td>\n",
       "    </tr>\n",
       "    <tr>\n",
       "      <th>813243</th>\n",
       "      <td>1</td>\n",
       "      <td>1</td>\n",
       "      <td>2</td>\n",
       "      <td>2</td>\n",
       "      <td>1</td>\n",
       "    </tr>\n",
       "    <tr>\n",
       "      <th>813244</th>\n",
       "      <td>2</td>\n",
       "      <td>2</td>\n",
       "      <td>2</td>\n",
       "      <td>1</td>\n",
       "      <td>1</td>\n",
       "    </tr>\n",
       "    <tr>\n",
       "      <th>813245</th>\n",
       "      <td>2</td>\n",
       "      <td>2</td>\n",
       "      <td>2</td>\n",
       "      <td>2</td>\n",
       "      <td>1</td>\n",
       "    </tr>\n",
       "    <tr>\n",
       "      <th>813246</th>\n",
       "      <td>2</td>\n",
       "      <td>1</td>\n",
       "      <td>2</td>\n",
       "      <td>2</td>\n",
       "      <td>1</td>\n",
       "    </tr>\n",
       "    <tr>\n",
       "      <th>813247</th>\n",
       "      <td>2</td>\n",
       "      <td>1</td>\n",
       "      <td>2</td>\n",
       "      <td>1</td>\n",
       "      <td>1</td>\n",
       "    </tr>\n",
       "  </tbody>\n",
       "</table>\n",
       "<p>460605 rows × 5 columns</p>\n",
       "</div>"
      ],
      "text/plain": [
       "        HIPERTENSION  OBESIDAD  DIABETES  TABAQUISMO  SURVIVED\n",
       "0                  2         2         2           2         1\n",
       "1                  2         2         2           2         1\n",
       "2                  1         2         2           2         1\n",
       "3                  2         2         2           2         1\n",
       "4                  2         2         2           2         1\n",
       "...              ...       ...       ...         ...       ...\n",
       "813243             1         1         2           2         1\n",
       "813244             2         2         2           1         1\n",
       "813245             2         2         2           2         1\n",
       "813246             2         1         2           2         1\n",
       "813247             2         1         2           1         1\n",
       "\n",
       "[460605 rows x 5 columns]"
      ]
     },
     "execution_count": 66,
     "metadata": {},
     "output_type": "execute_result"
    }
   ],
   "source": [
    "cormob_df=clean_df[[\"HIPERTENSION\", \"OBESIDAD\",\"DIABETES\",\"TABAQUISMO\",\"SURVIVED\"]]\n",
    "cormob_df"
   ]
  },
  {
   "cell_type": "code",
   "execution_count": 67,
   "metadata": {
    "colab": {
     "base_uri": "https://localhost:8080/",
     "height": 402
    },
    "colab_type": "code",
    "id": "uiP8Gj2RmFNu",
    "outputId": "681ad640-beac-491c-bcd3-df5d4a14f6b6"
   },
   "outputs": [
    {
     "data": {
      "text/html": [
       "<div>\n",
       "<style scoped>\n",
       "    .dataframe tbody tr th:only-of-type {\n",
       "        vertical-align: middle;\n",
       "    }\n",
       "\n",
       "    .dataframe tbody tr th {\n",
       "        vertical-align: top;\n",
       "    }\n",
       "\n",
       "    .dataframe thead th {\n",
       "        text-align: right;\n",
       "    }\n",
       "</style>\n",
       "<table border=\"1\" class=\"dataframe\">\n",
       "  <thead>\n",
       "    <tr style=\"text-align: right;\">\n",
       "      <th></th>\n",
       "      <th>HIPERTENSION</th>\n",
       "      <th>OBESIDAD</th>\n",
       "      <th>DIABETES</th>\n",
       "      <th>TABAQUISMO</th>\n",
       "      <th>SURVIVED</th>\n",
       "    </tr>\n",
       "  </thead>\n",
       "  <tbody>\n",
       "    <tr>\n",
       "      <th>0</th>\n",
       "      <td>0</td>\n",
       "      <td>0</td>\n",
       "      <td>0</td>\n",
       "      <td>0</td>\n",
       "      <td>1</td>\n",
       "    </tr>\n",
       "    <tr>\n",
       "      <th>1</th>\n",
       "      <td>0</td>\n",
       "      <td>0</td>\n",
       "      <td>0</td>\n",
       "      <td>0</td>\n",
       "      <td>1</td>\n",
       "    </tr>\n",
       "    <tr>\n",
       "      <th>2</th>\n",
       "      <td>1</td>\n",
       "      <td>0</td>\n",
       "      <td>0</td>\n",
       "      <td>0</td>\n",
       "      <td>1</td>\n",
       "    </tr>\n",
       "    <tr>\n",
       "      <th>3</th>\n",
       "      <td>0</td>\n",
       "      <td>0</td>\n",
       "      <td>0</td>\n",
       "      <td>0</td>\n",
       "      <td>1</td>\n",
       "    </tr>\n",
       "    <tr>\n",
       "      <th>4</th>\n",
       "      <td>0</td>\n",
       "      <td>0</td>\n",
       "      <td>0</td>\n",
       "      <td>0</td>\n",
       "      <td>1</td>\n",
       "    </tr>\n",
       "    <tr>\n",
       "      <th>...</th>\n",
       "      <td>...</td>\n",
       "      <td>...</td>\n",
       "      <td>...</td>\n",
       "      <td>...</td>\n",
       "      <td>...</td>\n",
       "    </tr>\n",
       "    <tr>\n",
       "      <th>813243</th>\n",
       "      <td>1</td>\n",
       "      <td>1</td>\n",
       "      <td>0</td>\n",
       "      <td>0</td>\n",
       "      <td>1</td>\n",
       "    </tr>\n",
       "    <tr>\n",
       "      <th>813244</th>\n",
       "      <td>0</td>\n",
       "      <td>0</td>\n",
       "      <td>0</td>\n",
       "      <td>1</td>\n",
       "      <td>1</td>\n",
       "    </tr>\n",
       "    <tr>\n",
       "      <th>813245</th>\n",
       "      <td>0</td>\n",
       "      <td>0</td>\n",
       "      <td>0</td>\n",
       "      <td>0</td>\n",
       "      <td>1</td>\n",
       "    </tr>\n",
       "    <tr>\n",
       "      <th>813246</th>\n",
       "      <td>0</td>\n",
       "      <td>1</td>\n",
       "      <td>0</td>\n",
       "      <td>0</td>\n",
       "      <td>1</td>\n",
       "    </tr>\n",
       "    <tr>\n",
       "      <th>813247</th>\n",
       "      <td>0</td>\n",
       "      <td>1</td>\n",
       "      <td>0</td>\n",
       "      <td>1</td>\n",
       "      <td>1</td>\n",
       "    </tr>\n",
       "  </tbody>\n",
       "</table>\n",
       "<p>460605 rows × 5 columns</p>\n",
       "</div>"
      ],
      "text/plain": [
       "        HIPERTENSION  OBESIDAD  DIABETES  TABAQUISMO  SURVIVED\n",
       "0                  0         0         0           0         1\n",
       "1                  0         0         0           0         1\n",
       "2                  1         0         0           0         1\n",
       "3                  0         0         0           0         1\n",
       "4                  0         0         0           0         1\n",
       "...              ...       ...       ...         ...       ...\n",
       "813243             1         1         0           0         1\n",
       "813244             0         0         0           1         1\n",
       "813245             0         0         0           0         1\n",
       "813246             0         1         0           0         1\n",
       "813247             0         1         0           1         1\n",
       "\n",
       "[460605 rows x 5 columns]"
      ]
     },
     "execution_count": 67,
     "metadata": {},
     "output_type": "execute_result"
    }
   ],
   "source": [
    "cormob_df.replace(to_replace = 2, value = 0, inplace = True)\n",
    "cormob_df"
   ]
  },
  {
   "cell_type": "code",
   "execution_count": 68,
   "metadata": {
    "colab": {
     "base_uri": "https://localhost:8080/",
     "height": 70
    },
    "colab_type": "code",
    "id": "saZ5bexVn4U7",
    "outputId": "d5032b2c-e429-4783-9d17-ff323e46a8ae"
   },
   "outputs": [
    {
     "name": "stdout",
     "output_type": "stream",
     "text": [
      "[1 0]\n",
      "50051\n",
      "410554\n"
     ]
    }
   ],
   "source": [
    "print(clean_df['SURVIVED'].unique())\n",
    "print(len(clean_df[clean_df['SURVIVED'] == 0] ) )\n",
    "print(len(clean_df[clean_df['SURVIVED'] == 1] ) )"
   ]
  },
  {
   "cell_type": "code",
   "execution_count": 69,
   "metadata": {
    "colab": {
     "base_uri": "https://localhost:8080/",
     "height": 394
    },
    "colab_type": "code",
    "id": "HWwVYEvy0dJt",
    "outputId": "a2694c39-03da-4066-badd-778cf5e0258e"
   },
   "outputs": [
    {
     "data": {
      "text/plain": [
       "<AxesSubplot:>"
      ]
     },
     "execution_count": 69,
     "metadata": {},
     "output_type": "execute_result"
    },
    {
     "data": {
      "image/png": "[encoded data removed]",
      "text/plain": [
       "<Figure size 720x432 with 2 Axes>"
      ]
     },
     "metadata": {
      "needs_background": "light"
     },
     "output_type": "display_data"
    }
   ],
   "source": [
    "corr_mtx=cormob_df.corr(method='spearman')\n",
    "mask_ut=np.triu(np.ones(corr_mtx.shape)).astype(np.bool)\n",
    "sns.heatmap(corr_mtx,\n",
    "            mask=mask_ut,\n",
    "            annot=True,              \n",
    "            cmap=sns.color_palette(\"coolwarm\", 20))"
   ]
  },
  {
   "cell_type": "code",
   "execution_count": 70,
   "metadata": {
    "colab": {
     "base_uri": "https://localhost:8080/",
     "height": 195
    },
    "colab_type": "code",
    "id": "VVtW4X7VRNjs",
    "outputId": "58a8448e-0c5f-491d-f767-c728481c6a3f"
   },
   "outputs": [
    {
     "data": {
      "text/html": [
       "<div>\n",
       "<style scoped>\n",
       "    .dataframe tbody tr th:only-of-type {\n",
       "        vertical-align: middle;\n",
       "    }\n",
       "\n",
       "    .dataframe tbody tr th {\n",
       "        vertical-align: top;\n",
       "    }\n",
       "\n",
       "    .dataframe thead th {\n",
       "        text-align: right;\n",
       "    }\n",
       "</style>\n",
       "<table border=\"1\" class=\"dataframe\">\n",
       "  <thead>\n",
       "    <tr style=\"text-align: right;\">\n",
       "      <th></th>\n",
       "      <th>SURVIVED</th>\n",
       "      <th>0</th>\n",
       "      <th>1</th>\n",
       "    </tr>\n",
       "    <tr>\n",
       "      <th>HIPERTENSION</th>\n",
       "      <th>DIABETES</th>\n",
       "      <th></th>\n",
       "      <th></th>\n",
       "    </tr>\n",
       "  </thead>\n",
       "  <tbody>\n",
       "    <tr>\n",
       "      <th rowspan=\"2\" valign=\"top\">0</th>\n",
       "      <th>0</th>\n",
       "      <td>0.062613</td>\n",
       "      <td>0.937387</td>\n",
       "    </tr>\n",
       "    <tr>\n",
       "      <th>1</th>\n",
       "      <td>0.206847</td>\n",
       "      <td>0.793153</td>\n",
       "    </tr>\n",
       "    <tr>\n",
       "      <th rowspan=\"2\" valign=\"top\">1</th>\n",
       "      <th>0</th>\n",
       "      <td>0.193639</td>\n",
       "      <td>0.806361</td>\n",
       "    </tr>\n",
       "    <tr>\n",
       "      <th>1</th>\n",
       "      <td>0.303535</td>\n",
       "      <td>0.696465</td>\n",
       "    </tr>\n",
       "  </tbody>\n",
       "</table>\n",
       "</div>"
      ],
      "text/plain": [
       "SURVIVED                      0         1\n",
       "HIPERTENSION DIABETES                    \n",
       "0            0         0.062613  0.937387\n",
       "             1         0.206847  0.793153\n",
       "1            0         0.193639  0.806361\n",
       "             1         0.303535  0.696465"
      ]
     },
     "execution_count": 70,
     "metadata": {},
     "output_type": "execute_result"
    }
   ],
   "source": [
    "X0 = cormob_df[\"HIPERTENSION\"]\n",
    "X1 = cormob_df[\"DIABETES\"]\n",
    "#X = cormob_df[\"DIABETES\"]\n",
    "y = cormob_df['SURVIVED']\n",
    "#contingency_table_diab = pd.crosstab(X,y )\n",
    "contingency_table = pd.crosstab([X0,X1],y ).apply(lambda r: r/r.sum(), axis=1)\n",
    "contingency_table\n"
   ]
  },
  {
   "cell_type": "code",
   "execution_count": 71,
   "metadata": {
    "colab": {
     "base_uri": "https://localhost:8080/",
     "height": 752
    },
    "colab_type": "code",
    "id": "tbYlXmfIUIRQ",
    "outputId": "219e65fc-f4af-4c29-bdf7-82c93d3d321f"
   },
   "outputs": [
    {
     "data": {
      "text/plain": [
       "<AxesSubplot:>"
      ]
     },
     "execution_count": 71,
     "metadata": {},
     "output_type": "execute_result"
    },
    {
     "data": {
      "image/png": "[encoded data removed]",
      "text/plain": [
       "<Figure size 648x648 with 2 Axes>"
      ]
     },
     "metadata": {},
     "output_type": "display_data"
    }
   ],
   "source": [
    "from sklearn.preprocessing import PolynomialFeatures\n",
    "from sklearn.preprocessing import StandardScaler\n",
    "from sklearn.model_selection import train_test_split\n",
    "from sklearn.metrics import r2_score\n",
    "from sklearn.pipeline import make_pipeline\n",
    "\n",
    "import seaborn as sns; sns.set()\n",
    "import matplotlib.pyplot as plt\n",
    "import numpy as np\n",
    "import pandas as pd\n",
    "\n",
    "std_scl = StandardScaler()\n",
    "poly = PolynomialFeatures(3)\n",
    "\n",
    "X = cormob_df.iloc[:,0:4]\n",
    "y = cormob_df['SURVIVED']\n",
    "\n",
    "# X_train, X_test, y_train, y_test = train_test_split(X_ccpp, y_ccpp, \n",
    "#                                                     test_size=0.2, \n",
    "#                                                     random_state=1)\n",
    "\n",
    "#Standardize X_train into X_train_scl\n",
    "X_train_scl = std_scl.fit_transform(X) #Standardize and assign it to a variable\n",
    "\n",
    "#Construct a DataFrame with column names\n",
    "X_train_scl_df = pd.DataFrame(X_train_scl, \n",
    "                              index=X.index, \n",
    "                              columns=X.columns)\n",
    "\n",
    "#Create PolynomialFeatures -> get their names\n",
    "p_model     = poly.fit(X_train_scl_df)\n",
    "poly_names  = p_model.get_feature_names(X_train_scl_df.columns)\n",
    "\n",
    "#Transform X_train_scl into X_train_poly where polynomial features are stored\n",
    "X_train_poly    = poly.fit_transform(X_train_scl_df)\n",
    "X_train_poly_df = pd.DataFrame(X_train_poly, \n",
    "                              index=X.index, \n",
    "                              columns= poly_names)\n",
    "\n",
    "#Create the full Train_df which is the matrix composed by Xy\n",
    "all_names = np.concatenate((X_train_poly_df.columns, 'PE'), axis=None)\n",
    "Train_ndarray = np.hstack([X_train_poly_df, y[:, np.newaxis]])\n",
    "Train_df = pd.DataFrame(Train_ndarray, \n",
    "                              index=X.index, \n",
    "                              columns = all_names)\n",
    "\n",
    "# Compute the correlation matrix\n",
    "corr_mtx = Train_df.corr()\n",
    "# corr_mtx = Train_df.corr('spearman')\n",
    "\n",
    "# Generate a mask for the upper triangle\n",
    "# mask = np.triu(np.ones_like(corr_mtx, dtype=np.bool))\n",
    "\n",
    "f, ax = plt.subplots(figsize=(9, 9))\n",
    "sns.heatmap(corr_mtx, \n",
    "            # mask=mask, \n",
    "            cmap=sns.color_palette(\"coolwarm\", 20))\n",
    "# sns.heatmap(corr_mtx,ax=ax, cmap =\"YlGnBu\", linewidths = 0.1,)\n",
    "\n"
   ]
  },
  {
   "cell_type": "code",
   "execution_count": 72,
   "metadata": {
    "colab": {
     "base_uri": "https://localhost:8080/",
     "height": 633
    },
    "colab_type": "code",
    "id": "ozIYLnRNWl0-",
    "outputId": "551db9b4-2736-4f97-ece8-da7c039f3185"
   },
   "outputs": [
    {
     "name": "stdout",
     "output_type": "stream",
     "text": [
      "HIPERTENSION                         True\n",
      "OBESIDAD                            False\n",
      "DIABETES                             True\n",
      "TABAQUISMO                          False\n",
      "HIPERTENSION^2                       True\n",
      "HIPERTENSION OBESIDAD               False\n",
      "HIPERTENSION DIABETES               False\n",
      "HIPERTENSION TABAQUISMO             False\n",
      "OBESIDAD^2                          False\n",
      "OBESIDAD DIABETES                   False\n",
      "OBESIDAD TABAQUISMO                 False\n",
      "DIABETES^2                           True\n",
      "DIABETES TABAQUISMO                 False\n",
      "TABAQUISMO^2                        False\n",
      "HIPERTENSION^3                       True\n",
      "HIPERTENSION^2 OBESIDAD             False\n",
      "HIPERTENSION^2 DIABETES              True\n",
      "HIPERTENSION^2 TABAQUISMO           False\n",
      "HIPERTENSION OBESIDAD^2             False\n",
      "HIPERTENSION OBESIDAD DIABETES      False\n",
      "HIPERTENSION OBESIDAD TABAQUISMO    False\n",
      "HIPERTENSION DIABETES^2              True\n",
      "HIPERTENSION DIABETES TABAQUISMO    False\n",
      "HIPERTENSION TABAQUISMO^2           False\n",
      "OBESIDAD^3                          False\n",
      "OBESIDAD^2 DIABETES                 False\n",
      "OBESIDAD^2 TABAQUISMO               False\n",
      "OBESIDAD DIABETES^2                 False\n",
      "OBESIDAD DIABETES TABAQUISMO        False\n",
      "OBESIDAD TABAQUISMO^2               False\n",
      "DIABETES^3                           True\n",
      "DIABETES^2 TABAQUISMO               False\n",
      "DIABETES TABAQUISMO^2               False\n",
      "TABAQUISMO^3                        False\n",
      "Name: PE, dtype: bool\n"
     ]
    }
   ],
   "source": [
    "print(corr_mtx.iloc[1:35,-1].abs()>0.15)"
   ]
  },
  {
   "cell_type": "code",
   "execution_count": 73,
   "metadata": {
    "colab": {},
    "colab_type": "code",
    "id": "avVBWJj3XPs8"
   },
   "outputs": [],
   "source": [
    "X = cormob_df[[\"HIPERTENSION\", \"DIABETES\"]]\n",
    "y = cormob_df['SURVIVED']\n",
    "\n",
    "X_train, X_test, y_train, y_test = train_test_split(X, y, \n",
    "                                                    test_size=0.3, \n",
    "                                                    random_state=42)"
   ]
  },
  {
   "cell_type": "code",
   "execution_count": 74,
   "metadata": {
    "colab": {
     "base_uri": "https://localhost:8080/",
     "height": 402
    },
    "colab_type": "code",
    "id": "hKeu5cIm-iVi",
    "outputId": "447be632-d506-4dca-8c6d-59fd6e24e82e"
   },
   "outputs": [
    {
     "data": {
      "text/html": [
       "<div>\n",
       "<style scoped>\n",
       "    .dataframe tbody tr th:only-of-type {\n",
       "        vertical-align: middle;\n",
       "    }\n",
       "\n",
       "    .dataframe tbody tr th {\n",
       "        vertical-align: top;\n",
       "    }\n",
       "\n",
       "    .dataframe thead th {\n",
       "        text-align: right;\n",
       "    }\n",
       "</style>\n",
       "<table border=\"1\" class=\"dataframe\">\n",
       "  <thead>\n",
       "    <tr style=\"text-align: right;\">\n",
       "      <th></th>\n",
       "      <th>HIPERTENSION</th>\n",
       "      <th>DIABETES</th>\n",
       "    </tr>\n",
       "  </thead>\n",
       "  <tbody>\n",
       "    <tr>\n",
       "      <th>144808</th>\n",
       "      <td>0</td>\n",
       "      <td>0</td>\n",
       "    </tr>\n",
       "    <tr>\n",
       "      <th>157523</th>\n",
       "      <td>0</td>\n",
       "      <td>0</td>\n",
       "    </tr>\n",
       "    <tr>\n",
       "      <th>166532</th>\n",
       "      <td>1</td>\n",
       "      <td>1</td>\n",
       "    </tr>\n",
       "    <tr>\n",
       "      <th>803317</th>\n",
       "      <td>0</td>\n",
       "      <td>0</td>\n",
       "    </tr>\n",
       "    <tr>\n",
       "      <th>211880</th>\n",
       "      <td>0</td>\n",
       "      <td>0</td>\n",
       "    </tr>\n",
       "    <tr>\n",
       "      <th>...</th>\n",
       "      <td>...</td>\n",
       "      <td>...</td>\n",
       "    </tr>\n",
       "    <tr>\n",
       "      <th>170132</th>\n",
       "      <td>0</td>\n",
       "      <td>0</td>\n",
       "    </tr>\n",
       "    <tr>\n",
       "      <th>232882</th>\n",
       "      <td>0</td>\n",
       "      <td>0</td>\n",
       "    </tr>\n",
       "    <tr>\n",
       "      <th>636759</th>\n",
       "      <td>0</td>\n",
       "      <td>0</td>\n",
       "    </tr>\n",
       "    <tr>\n",
       "      <th>709893</th>\n",
       "      <td>0</td>\n",
       "      <td>0</td>\n",
       "    </tr>\n",
       "    <tr>\n",
       "      <th>742165</th>\n",
       "      <td>0</td>\n",
       "      <td>0</td>\n",
       "    </tr>\n",
       "  </tbody>\n",
       "</table>\n",
       "<p>138182 rows × 2 columns</p>\n",
       "</div>"
      ],
      "text/plain": [
       "        HIPERTENSION  DIABETES\n",
       "144808             0         0\n",
       "157523             0         0\n",
       "166532             1         1\n",
       "803317             0         0\n",
       "211880             0         0\n",
       "...              ...       ...\n",
       "170132             0         0\n",
       "232882             0         0\n",
       "636759             0         0\n",
       "709893             0         0\n",
       "742165             0         0\n",
       "\n",
       "[138182 rows x 2 columns]"
      ]
     },
     "execution_count": 74,
     "metadata": {},
     "output_type": "execute_result"
    }
   ],
   "source": [
    "X_test"
   ]
  },
  {
   "cell_type": "code",
   "execution_count": 75,
   "metadata": {
    "colab": {
     "base_uri": "https://localhost:8080/",
     "height": 228
    },
    "colab_type": "code",
    "id": "Ujy8stP181fe",
    "outputId": "a529e3bb-1c8e-402a-cca9-6cafff1f88dc"
   },
   "outputs": [
    {
     "data": {
      "text/plain": [
       "0         1\n",
       "1         1\n",
       "2         1\n",
       "3         1\n",
       "4         1\n",
       "         ..\n",
       "813243    1\n",
       "813244    1\n",
       "813245    1\n",
       "813246    1\n",
       "813247    1\n",
       "Name: SURVIVED, Length: 460605, dtype: int64"
      ]
     },
     "execution_count": 75,
     "metadata": {},
     "output_type": "execute_result"
    }
   ],
   "source": [
    "y"
   ]
  },
  {
   "cell_type": "code",
   "execution_count": 76,
   "metadata": {
    "colab": {
     "base_uri": "https://localhost:8080/",
     "height": 87
    },
    "colab_type": "code",
    "id": "t5bNwfx48lQ7",
    "outputId": "9377ceff-8e9c-4206-bcf8-b518ded4e533"
   },
   "outputs": [
    {
     "name": "stdout",
     "output_type": "stream",
     "text": [
      "<class 'pandas.core.series.Series'>\n",
      "322423\n",
      "34922\n",
      "287501\n"
     ]
    }
   ],
   "source": [
    "print(type(y_train))\n",
    "#print(y_test.unique())\n",
    "print(len(y_train ) )\n",
    "print(len(y_train[y_train == 0]  ) )\n",
    "print(len(y_train[y_train == 1]  ) )"
   ]
  },
  {
   "cell_type": "code",
   "execution_count": 77,
   "metadata": {
    "colab": {
     "base_uri": "https://localhost:8080/",
     "height": 87
    },
    "colab_type": "code",
    "id": "yAsihBAQ7b6z",
    "outputId": "4ab4bf9c-80b0-4538-a6dc-8c3a089cb806"
   },
   "outputs": [
    {
     "name": "stdout",
     "output_type": "stream",
     "text": [
      "<class 'pandas.core.series.Series'>\n",
      "138182\n",
      "15129\n",
      "123053\n"
     ]
    }
   ],
   "source": [
    "print(type(y_test))\n",
    "#print(y_test.unique())\n",
    "print(len(y_test ) )\n",
    "print(len(y_test[y_test == 0]  ) )\n",
    "print(len(y_test[y_test == 1]  ) )"
   ]
  },
  {
   "cell_type": "code",
   "execution_count": 78,
   "metadata": {
    "colab": {},
    "colab_type": "code",
    "id": "QN97v9DyoQ_d"
   },
   "outputs": [],
   "source": [
    "#--------\n",
    "### CREATE PIPELINES\n",
    "no_poly = 1\n",
    "no_sel_fts = 2\n",
    "\n",
    "sclr_01 = MinMaxScaler()\n",
    "std_sclr = StandardScaler()\n",
    "\n",
    "polyFt_m = PolynomialFeatures(no_poly,include_bias=False)\n",
    "#polyFt_m = PolynomialFeatures(no_poly)\n",
    "\n",
    "### Initialize Ft Selection\n",
    "sel = SelectKBest(chi2, k=no_sel_fts)\n",
    "#sel = SelectKBest(chi2, k=2)\n",
    "\n",
    "\n",
    "\n",
    "lr_m  = LogisticRegression()\n",
    "\n",
    "dt_m = DecisionTreeClassifier(criterion='entropy',\n",
    "                               max_depth=5,\n",
    "                               min_samples_split = 20, \n",
    "                               random_state=0)\n",
    "\n",
    "\n",
    "knn_m = KNeighborsClassifier(n_neighbors=15)"
   ]
  },
  {
   "cell_type": "code",
   "execution_count": 79,
   "metadata": {
    "colab": {},
    "colab_type": "code",
    "id": "7Mm6OEiro0X2"
   },
   "outputs": [],
   "source": [
    "model_lr = make_pipeline(\n",
    "                         sclr_01,\n",
    "                         polyFt_m,\n",
    "                         sel,\n",
    "                         lr_m)\n",
    "\n",
    "model_dt = make_pipeline(sclr_01,\n",
    "                         polyFt_m,\n",
    "                         sel,\n",
    "                         dt_m)\n",
    "\n",
    "model_knn = make_pipeline(sclr_01,\n",
    "                          polyFt_m,\n",
    "                          sel,\n",
    "                          knn_m)"
   ]
  },
  {
   "cell_type": "code",
   "execution_count": 80,
   "metadata": {
    "colab": {
     "base_uri": "https://localhost:8080/",
     "height": 70
    },
    "colab_type": "code",
    "id": "XlhwbmgKpDuS",
    "outputId": "b7e86c14-b939-4aa8-d723-78efb533c1df"
   },
   "outputs": [
    {
     "name": "stdout",
     "output_type": "stream",
     "text": [
      "TEST ERROR----\n",
      "LR R2:  -0.1229470228275622\n",
      "LR RMSE:  0.3308867482235382 MW\n"
     ]
    }
   ],
   "source": [
    "model_lr.fit(X_train, y_train)\n",
    "#lr_m.fit(X_train, y_train)\n",
    "# model_dt.fit(X_train, y_train[:, np.newaxis])\n",
    "# model_knn.fit(X_train,y_train[:, np.newaxis])\n",
    "\n",
    "\n",
    "# #--------\n",
    "# ### PREDICT TEST DATA \n",
    "\n",
    "y_hat = model_lr.predict(X_test)\n",
    "# y_hatdt = model_dt.predict(X_test)\n",
    "# y_hatknn = model_knn.predict(X_test)\n",
    "\n",
    "\n",
    "# #--------\n",
    "# ### PRINT SCORES\n",
    "\n",
    "print('TEST ERROR----')\n",
    "\n",
    "print('LR R2: ',r2_score(y_test,y_hat))\n",
    "# print('DT R2: ',r2_score(y_test,y_hatdt))\n",
    "# print('KNN R2: ',r2_score(y_test,y_hatknn))\n",
    "\n",
    "print('LR RMSE: ',mean_squared_error(y_test,y_hat, squared=False), 'MW')\n",
    "# print('DT RMSE: ',mean_squared_error(y_test,y_hatdt, squared=False), 'MW')\n",
    "# print('KNN RMSE: ',mean_squared_error(y_test,y_hatknn, squared=False), 'MW')"
   ]
  },
  {
   "cell_type": "code",
   "execution_count": 81,
   "metadata": {
    "colab": {
     "base_uri": "https://localhost:8080/",
     "height": 34
    },
    "colab_type": "code",
    "id": "V84MUCA_pOIh",
    "outputId": "f5b776e8-98c2-4e0b-d094-647aaa9c1776"
   },
   "outputs": [
    {
     "name": "stdout",
     "output_type": "stream",
     "text": [
      "[1 1 1 ... 1 1 1]\n"
     ]
    }
   ],
   "source": [
    "print(y_hat)\n",
    "# print(y_hatdt)\n",
    "# print(y_hatknn)"
   ]
  },
  {
   "cell_type": "code",
   "execution_count": 82,
   "metadata": {
    "colab": {
     "base_uri": "https://localhost:8080/",
     "height": 122
    },
    "colab_type": "code",
    "id": "o27m7YhWrnMr",
    "outputId": "f2c89222-aceb-4d70-d3d3-f9778e508df3"
   },
   "outputs": [
    {
     "name": "stdout",
     "output_type": "stream",
     "text": [
      "(138182,)\n",
      "[1]\n",
      "<class 'numpy.ndarray'>\n",
      "138182\n",
      "0\n",
      "138182\n"
     ]
    }
   ],
   "source": [
    "print(y_hat.shape)\n",
    "print(np.unique(y_hat))\n",
    "print(type(y_hat))\n",
    "#print(y_test.unique())\n",
    "print(len(y_hat ) )\n",
    "print(len(y_hat[y_hat == 0]  ) )\n",
    "print(len(y_hat[y_hat == 1]  ) )"
   ]
  },
  {
   "cell_type": "code",
   "execution_count": 83,
   "metadata": {
    "colab": {
     "base_uri": "https://localhost:8080/",
     "height": 87
    },
    "colab_type": "code",
    "id": "av3f84O_Xdcm",
    "outputId": "e69259ff-76e9-4678-daa6-90e663c8a30c"
   },
   "outputs": [
    {
     "name": "stdout",
     "output_type": "stream",
     "text": [
      "<class 'pandas.core.series.Series'>\n",
      "138182\n",
      "15129\n",
      "123053\n"
     ]
    }
   ],
   "source": [
    "print(type(y_test))\n",
    "#print(y_test.unique())\n",
    "print(len(y_test ) )\n",
    "print(len(y_test[y_test == 0]  ) )\n",
    "print(len(y_test[y_test == 1]  ) )"
   ]
  },
  {
   "cell_type": "code",
   "execution_count": 84,
   "metadata": {
    "colab": {
     "base_uri": "https://localhost:8080/",
     "height": 246
    },
    "colab_type": "code",
    "id": "YN5D9voDselP",
    "outputId": "886a2dc2-63dc-48f0-dd22-8ecb15a60719"
   },
   "outputs": [
    {
     "name": "stdout",
     "output_type": "stream",
     "text": [
      "Prediction with Logistic Regression:\n",
      "\n",
      "              precision    recall  f1-score   support\n",
      "\n",
      "           0       0.00      0.00      0.00     15129\n",
      "           1       0.89      1.00      0.94    123053\n",
      "\n",
      "    accuracy                           0.89    138182\n",
      "   macro avg       0.45      0.50      0.47    138182\n",
      "weighted avg       0.79      0.89      0.84    138182\n",
      "\n",
      "0.8905139598500529\n",
      "\n"
     ]
    }
   ],
   "source": [
    "print(\"Prediction with Logistic Regression:\")\n",
    "print()\n",
    "print(classification_report(y_test, y_hat))\n",
    "print(accuracy_score(y_test, y_hat))\n",
    "print()\n",
    "#print(classification_report(y_train, y_train))\n",
    "#print(accuracy_score(y_train, y_hat))\n",
    "# print(\"Prediction with Decission Tree Classifier:\")\n",
    "# print(classification_report(y_test, y_hatdt))\n",
    "# print(accuracy_score(y_test, y_hatdt))\n",
    "# print()\n",
    "# print(\"Prediction with K-NN Classifier:\")\n",
    "# print(classification_report(y_test, y_hatdt))\n",
    "# print(accuracy_score(y_test, y_hatdt))"
   ]
  },
  {
   "cell_type": "code",
   "execution_count": 85,
   "metadata": {
    "colab": {
     "base_uri": "https://localhost:8080/",
     "height": 34
    },
    "colab_type": "code",
    "id": "WXP92qdpsigY",
    "outputId": "d9fe3c6b-a7e7-42dc-bcbb-d0ea264502c3"
   },
   "outputs": [
    {
     "data": {
      "text/plain": [
       "array([0, 1])"
      ]
     },
     "execution_count": 85,
     "metadata": {},
     "output_type": "execute_result"
    }
   ],
   "source": [
    "np.unique(y_test)"
   ]
  },
  {
   "cell_type": "code",
   "execution_count": 86,
   "metadata": {
    "colab": {
     "base_uri": "https://localhost:8080/",
     "height": 158
    },
    "colab_type": "code",
    "id": "tw75f_clyosm",
    "outputId": "fe5f58f6-f18d-4798-cf2f-f52c36dfc1dd"
   },
   "outputs": [
    {
     "name": "stdout",
     "output_type": "stream",
     "text": [
      "TN =  0\n",
      "FN =  0\n",
      "TP =  123053\n",
      "FP =  15129\n",
      "PPV =  0.8905139598500529\n",
      "NPV =  nan\n",
      "Sensitivity =  1.0\n",
      "Specificitivity =  0.0\n"
     ]
    }
   ],
   "source": [
    "df_cm=confusion_matrix(y_test, y_hat)\n",
    "TN  = df_cm[0][0]\n",
    "FN  = df_cm[1][0]\n",
    "TP  = df_cm[1][1]\n",
    "FP  = df_cm[0][1]\n",
    "PPV = TP/(TP + FP)\n",
    "NPV = TN/(FN + TN)\n",
    "Sensitivity       = TP/(TP + FN)\n",
    "Spec = TN/(FP + TN)\n",
    "print('TN = ',TN)\n",
    "print('FN = ',FN)\n",
    "print('TP = ',TP)\n",
    "print('FP = ',FP)\n",
    "print('PPV = ',PPV) #Positive Predictive Value\n",
    "print('NPV = ',NPV) #Negative Predictive Value\n",
    "print('Sensitivity = ',Sensitivity)\n",
    "print('Specificitivity = ',Spec)"
   ]
  },
  {
   "cell_type": "code",
   "execution_count": 87,
   "metadata": {
    "colab": {
     "base_uri": "https://localhost:8080/",
     "height": 412
    },
    "colab_type": "code",
    "id": "D9_UjLi5tl3X",
    "outputId": "7d63b0d8-bb2a-414c-c7dc-d017ae7f2ccf"
   },
   "outputs": [
    {
     "data": {
      "text/plain": [
       "<Figure size 720x432 with 0 Axes>"
      ]
     },
     "metadata": {},
     "output_type": "display_data"
    },
    {
     "data": {
      "image/png": "[encoded data removed]",
      "text/plain": [
       "<Figure size 720x432 with 2 Axes>"
      ]
     },
     "metadata": {},
     "output_type": "display_data"
    }
   ],
   "source": [
    "fig = plt.figure()\n",
    "disp = plot_confusion_matrix(model_lr, X_test, y_test,\n",
    "                            #  display_labels=['1','0'],\n",
    "                             cmap=plt.cm.Reds, normalize = 'all'\n",
    "                            )"
   ]
  },
  {
   "cell_type": "code",
   "execution_count": 57,
   "metadata": {
    "colab": {
     "base_uri": "https://localhost:8080/",
     "height": 34
    },
    "colab_type": "code",
    "id": "BmdV9Kcb5HJe",
    "outputId": "311fad5a-282c-41e6-8157-f1764a4cff32"
   },
   "outputs": [
    {
     "data": {
      "text/plain": [
       "(138182, 2)"
      ]
     },
     "execution_count": 57,
     "metadata": {},
     "output_type": "execute_result"
    }
   ],
   "source": [
    "#y_hat = model_lr.predict(X_test)\n",
    "probs = model_lr.predict_proba(X_test)\n",
    "probs.shape"
   ]
  },
  {
   "cell_type": "code",
   "execution_count": 58,
   "metadata": {
    "colab": {
     "base_uri": "https://localhost:8080/",
     "height": 195
    },
    "colab_type": "code",
    "id": "bk2R3w2553CW",
    "outputId": "c9de9ca0-67b4-4ac7-98e2-0519204eb3e5"
   },
   "outputs": [
    {
     "data": {
      "text/html": [
       "<div>\n",
       "<style scoped>\n",
       "    .dataframe tbody tr th:only-of-type {\n",
       "        vertical-align: middle;\n",
       "    }\n",
       "\n",
       "    .dataframe tbody tr th {\n",
       "        vertical-align: top;\n",
       "    }\n",
       "\n",
       "    .dataframe thead th {\n",
       "        text-align: right;\n",
       "    }\n",
       "</style>\n",
       "<table border=\"1\" class=\"dataframe\">\n",
       "  <thead>\n",
       "    <tr style=\"text-align: right;\">\n",
       "      <th></th>\n",
       "      <th>0</th>\n",
       "      <th>prediction</th>\n",
       "      <th>actual</th>\n",
       "    </tr>\n",
       "  </thead>\n",
       "  <tbody>\n",
       "    <tr>\n",
       "      <th>0</th>\n",
       "      <td>0.933157</td>\n",
       "      <td>1</td>\n",
       "      <td>1</td>\n",
       "    </tr>\n",
       "    <tr>\n",
       "      <th>1</th>\n",
       "      <td>0.933157</td>\n",
       "      <td>1</td>\n",
       "      <td>1</td>\n",
       "    </tr>\n",
       "    <tr>\n",
       "      <th>2</th>\n",
       "      <td>0.657115</td>\n",
       "      <td>1</td>\n",
       "      <td>1</td>\n",
       "    </tr>\n",
       "    <tr>\n",
       "      <th>3</th>\n",
       "      <td>0.933157</td>\n",
       "      <td>1</td>\n",
       "      <td>1</td>\n",
       "    </tr>\n",
       "    <tr>\n",
       "      <th>4</th>\n",
       "      <td>0.933157</td>\n",
       "      <td>1</td>\n",
       "      <td>1</td>\n",
       "    </tr>\n",
       "  </tbody>\n",
       "</table>\n",
       "</div>"
      ],
      "text/plain": [
       "          0  prediction  actual\n",
       "0  0.933157           1       1\n",
       "1  0.933157           1       1\n",
       "2  0.657115           1       1\n",
       "3  0.933157           1       1\n",
       "4  0.933157           1       1"
      ]
     },
     "execution_count": 58,
     "metadata": {},
     "output_type": "execute_result"
    }
   ],
   "source": [
    "prob=probs[:,1]\n",
    "prob_df = pd.DataFrame(prob)\n",
    "threshold = 0.1\n",
    "prob_df[\"prediction\"] = np.where(prob_df[0]>=threshold, 1, 0)\n",
    "prob_df[\"actual\"] = list(y_test)\n",
    "prob_df.head()"
   ]
  },
  {
   "cell_type": "code",
   "execution_count": 59,
   "metadata": {
    "colab": {},
    "colab_type": "code",
    "id": "-XAGmQK39zVN"
   },
   "outputs": [],
   "source": [
    "thresholds = [0.04, 0.05, 0.07, 0.10, 0.12, 0.15, 0.18, 0.20, 0.25, 0.3, 0.4, 0.5]\n",
    "sensitivities = [1]\n",
    "especifities_1 = [1]\n",
    "\n",
    "for t in thresholds:\n",
    "    prob_df[\"prediction\"] = np.where(prob_df[0]>=t, 0, 1)\n",
    "    prob_df[\"actual\"] = list(y_test)\n",
    "    prob_df.head()\n",
    "\n",
    "    confusion_matrix = pd.crosstab(prob_df.prediction, prob_df.actual)\n",
    "    TN  = df_cm[0][0]\n",
    "    FN  = df_cm[1][0]\n",
    "    TP  = df_cm[1][1]\n",
    "    FP  = df_cm[0][1]\n",
    "    \n",
    "    sens = TP/(TP+FN)\n",
    "    sensitivities.append(sens)\n",
    "    espc_1 = 1-TN/(TN+FP)\n",
    "    especifities_1.append(espc_1)\n",
    "\n",
    "sensitivities.append(0)\n",
    "especifities_1.append(0)"
   ]
  },
  {
   "cell_type": "code",
   "execution_count": 60,
   "metadata": {
    "colab": {
     "base_uri": "https://localhost:8080/",
     "height": 34
    },
    "colab_type": "code",
    "id": "B_Uj2WHq-h0W",
    "outputId": "5a4cbf69-5f1a-4fdc-d815-56044a37dafe"
   },
   "outputs": [
    {
     "data": {
      "text/plain": [
       "[1, 1.0, 1.0, 1.0, 1.0, 1.0, 1.0, 1.0, 1.0, 1.0, 1.0, 1.0, 1.0, 0]"
      ]
     },
     "execution_count": 60,
     "metadata": {},
     "output_type": "execute_result"
    }
   ],
   "source": [
    "np.shape(sensitivities)\n",
    "sensitivities"
   ]
  },
  {
   "cell_type": "code",
   "execution_count": 61,
   "metadata": {
    "colab": {
     "base_uri": "https://localhost:8080/",
     "height": 410
    },
    "colab_type": "code",
    "id": "zrq-AFVu-qAU",
    "outputId": "1a7493a3-bdc1-4890-ac4d-ccfd2e831c80"
   },
   "outputs": [
    {
     "data": {
      "image/png": "[encoded data removed]",
      "text/plain": [
       "<Figure size 720x432 with 1 Axes>"
      ]
     },
     "metadata": {},
     "output_type": "display_data"
    }
   ],
   "source": [
    "probs = model_lr.predict_proba(X_test)\n",
    "preds = probs[:,1]\n",
    "fpr, tpr, threshold = roc_curve(y_test, preds)\n",
    "roc_auc = auc(fpr, tpr)\n",
    "\n",
    "# method I: plt\n",
    "\n",
    "plt.title('Receiver Operating Characteristic')\n",
    "plt.plot(fpr, tpr, 'b', label = 'AUC = %0.2f' % roc_auc)\n",
    "plt.legend(loc = 'lower right')\n",
    "plt.plot([0, 1], [0, 1],'r--')\n",
    "plt.xlim([0, 1])\n",
    "plt.ylim([0, 1])\n",
    "plt.ylabel('True Positive Rate')\n",
    "plt.xlabel('False Positive Rate')\n",
    "plt.show()"
   ]
  },
  {
   "cell_type": "code",
   "execution_count": 65,
   "metadata": {
    "colab": {
     "base_uri": "https://localhost:8080/",
     "height": 283
    },
    "colab_type": "code",
    "id": "QHZ8ELPS8_iz",
    "outputId": "3dde9258-b9b5-4509-e629-703950f670cd"
   },
   "outputs": [
    {
     "name": "stdout",
     "output_type": "stream",
     "text": [
      "Collecting scikit-plot\n",
      "  Downloading https://files.pythonhosted.org/packages/7c/47/32520e259340c140a4ad27c1b97050dd3254fdc517b1d59974d47037510e/scikit_plot-0.3.7-py3-none-any.whl\n",
      "Requirement already satisfied: scipy>=0.9 in /usr/local/lib/python3.6/dist-packages (from scikit-plot) (1.4.1)\n",
      "Requirement already satisfied: scikit-learn>=0.18 in /usr/local/lib/python3.6/dist-packages (from scikit-plot) (0.22.2.post1)\n",
      "Requirement already satisfied: joblib>=0.10 in /usr/local/lib/python3.6/dist-packages (from scikit-plot) (0.16.0)\n",
      "Requirement already satisfied: matplotlib>=1.4.0 in /usr/local/lib/python3.6/dist-packages (from scikit-plot) (3.2.2)\n",
      "Requirement already satisfied: numpy>=1.13.3 in /usr/local/lib/python3.6/dist-packages (from scipy>=0.9->scikit-plot) (1.18.5)\n",
      "Requirement already satisfied: pyparsing!=2.0.4,!=2.1.2,!=2.1.6,>=2.0.1 in /usr/local/lib/python3.6/dist-packages (from matplotlib>=1.4.0->scikit-plot) (2.4.7)\n",
      "Requirement already satisfied: cycler>=0.10 in /usr/local/lib/python3.6/dist-packages (from matplotlib>=1.4.0->scikit-plot) (0.10.0)\n",
      "Requirement already satisfied: kiwisolver>=1.0.1 in /usr/local/lib/python3.6/dist-packages (from matplotlib>=1.4.0->scikit-plot) (1.2.0)\n",
      "Requirement already satisfied: python-dateutil>=2.1 in /usr/local/lib/python3.6/dist-packages (from matplotlib>=1.4.0->scikit-plot) (2.8.1)\n",
      "Requirement already satisfied: six in /usr/local/lib/python3.6/dist-packages (from cycler>=0.10->matplotlib>=1.4.0->scikit-plot) (1.15.0)\n",
      "Installing collected packages: scikit-plot\n",
      "Successfully installed scikit-plot-0.3.7\n"
     ]
    }
   ],
   "source": [
    "!pip install scikit-plot"
   ]
  },
  {
   "cell_type": "code",
   "execution_count": 67,
   "metadata": {
    "colab": {
     "base_uri": "https://localhost:8080/",
     "height": 410
    },
    "colab_type": "code",
    "id": "DCuH_5dbI4br",
    "outputId": "1e731772-f4b0-444c-8cf0-2bad8c3cd58c"
   },
   "outputs": [
    {
     "data": {
      "image/png": "[encoded data removed]",
      "text/plain": [
       "<Figure size 720x432 with 1 Axes>"
      ]
     },
     "metadata": {
      "tags": []
     },
     "output_type": "display_data"
    }
   ],
   "source": [
    "from sklearn.metrics import confusion_matrix,plot_confusion_matrix,roc_curve,auc\n",
    "import matplotlib.pyplot as plt\n",
    "probs = model_lr.predict_proba(X_test)\n",
    "preds = probs[:,1]\n",
    "fpr, tpr, threshold = roc_curve(y_test, preds)\n",
    "roc_auc = auc(fpr, tpr)\n",
    "\n",
    "# method I: plt\n",
    "\n",
    "plt.title('Receiver Operating Characteristic')\n",
    "plt.plot(fpr, tpr, 'b', label = 'AUC = %0.2f' % roc_auc)\n",
    "plt.legend(loc = 'lower right')\n",
    "plt.plot([0, 1], [0, 1],'r--')\n",
    "plt.xlim([0, 1])\n",
    "plt.ylim([0, 1])\n",
    "plt.ylabel('True Positive Rate')\n",
    "plt.xlabel('False Positive Rate')\n",
    "plt.show()"
   ]
  },
  {
   "cell_type": "code",
   "execution_count": 70,
   "metadata": {
    "colab": {
     "base_uri": "https://localhost:8080/",
     "height": 414
    },
    "colab_type": "code",
    "id": "lM14xcVD8eGI",
    "outputId": "6af3cb10-78e7-4cfa-cf1d-7d40a8bc7a06"
   },
   "outputs": [
    {
     "data": {
      "image/png": "[encoded data removed]",
      "text/plain": [
       "<Figure size 720x432 with 1 Axes>"
      ]
     },
     "metadata": {
      "tags": []
     },
     "output_type": "display_data"
    }
   ],
   "source": [
    "import scikitplot as skplt\n",
    "\n",
    "skplt.metrics.plot_roc_curve(y_test, probs)\n",
    "plt.show()"
   ]
  },
  {
   "cell_type": "code",
   "execution_count": 75,
   "metadata": {
    "colab": {
     "base_uri": "https://localhost:8080/",
     "height": 52
    },
    "colab_type": "code",
    "id": "ExJ5MwtuJfeX",
    "outputId": "36b11374-d3b5-49de-8d69-0d9f4beec3de"
   },
   "outputs": [
    {
     "name": "stdout",
     "output_type": "stream",
     "text": [
      "Accuracy: 89.05%\n",
      "0.45522513950525395\n"
     ]
    }
   ],
   "source": [
    "model = XGBClassifier()\n",
    "model.fit(X_train, y_train)\n",
    "# make predictions for test data\n",
    "y_hat = model.predict(X_test)\n",
    "# evaluate predictions\n",
    "accuracy = accuracy_score(y_test, y_hat)\n",
    "print(\"Accuracy: %.2f%%\" % (accuracy * 100.0))\n",
    "print(fbeta_score(y_test, y_hat, average='macro', beta=0.5))"
   ]
  },
  {
   "cell_type": "code",
   "execution_count": 77,
   "metadata": {
    "colab": {
     "base_uri": "https://localhost:8080/",
     "height": 52
    },
    "colab_type": "code",
    "id": "Ot16I1j9Jf2e",
    "outputId": "904255c2-c1b2-480a-f589-030740774e97"
   },
   "outputs": [
    {
     "name": "stdout",
     "output_type": "stream",
     "text": [
      "Accuracy: 89.05%\n",
      "0.45522513950525395\n"
     ]
    }
   ],
   "source": [
    "model_RF = RandomForestClassifier(n_estimators=100)\n",
    "model_RF.fit(X_train, y_train)\n",
    "# make predictions for test data\n",
    "y_hat = model.predict(X_test)\n",
    "# evaluate predictions\n",
    "accuracy = accuracy_score(y_test, y_hat)\n",
    "print(\"Accuracy: %.2f%%\" % (accuracy * 100.0))\n",
    "print(fbeta_score(y_test, y_hat, average='macro', beta=0.5))"
   ]
  },
  {
   "cell_type": "code",
   "execution_count": null,
   "metadata": {
    "colab": {},
    "colab_type": "code",
    "id": "XXKBxCXyJgMG"
   },
   "outputs": [],
   "source": []
  },
  {
   "cell_type": "code",
   "execution_count": 115,
   "metadata": {
    "colab": {},
    "colab_type": "code",
    "id": "0wZRNdXfJgCT"
   },
   "outputs": [],
   "source": [
    "X = cormob_df[[\"HIPERTENSION\", \"DIABETES\"]]\n",
    "y = cormob_df['SURVIVED']"
   ]
  },
  {
   "cell_type": "code",
   "execution_count": 116,
   "metadata": {},
   "outputs": [],
   "source": [
    "X=X.to_numpy()\n",
    "y=y.to_numpy()"
   ]
  },
  {
   "cell_type": "code",
   "execution_count": 120,
   "metadata": {},
   "outputs": [
    {
     "name": "stdout",
     "output_type": "stream",
     "text": [
      "[[    0  5005]\n",
      " [    0 41056]]\n",
      "[[    0  5005]\n",
      " [    0 41056]]\n",
      "[[    0  5005]\n",
      " [    0 41056]]\n",
      "[[    0  5005]\n",
      " [    0 41056]]\n",
      "[[    0  5006]\n",
      " [    0 41055]]\n",
      "[[    0  5005]\n",
      " [    0 41055]]\n",
      "[[    0  5005]\n",
      " [    0 41055]]\n",
      "[[    0  5005]\n",
      " [    0 41055]]\n",
      "[[    0  5005]\n",
      " [    0 41055]]\n",
      "[[    0  5005]\n",
      " [    0 41055]]\n",
      "List of possible accuracy: [0.891339745120601, 0.891339745120601, 0.891339745120601, 0.891339745120601, 0.8913180347799657, 0.8913373860182371, 0.8913373860182371, 0.8913373860182371, 0.8913373860182371, 0.8913373860182371]\n",
      "\n",
      "Maximum Accuracy That can be obtained from this model is: 89.13397451206009 %\n",
      "\n",
      "Minimum Accuracy: 89.13180347799657 %\n",
      "\n",
      "Overall Accuracy: 89.13363945353555 %\n",
      "\n",
      "Standard Deviation is: 6.556603926520877e-06\n"
     ]
    },
    {
     "data": {
      "image/png": "[encoded data removed]",
      "text/plain": [
       "<Figure size 720x432 with 2 Axes>"
      ]
     },
     "metadata": {},
     "output_type": "display_data"
    },
    {
     "data": {
      "image/png": "[encoded data removed]",
      "text/plain": [
       "<Figure size 720x432 with 2 Axes>"
      ]
     },
     "metadata": {},
     "output_type": "display_data"
    },
    {
     "data": {
      "image/png": "[encoded data removed]",
      "text/plain": [
       "<Figure size 720x432 with 2 Axes>"
      ]
     },
     "metadata": {},
     "output_type": "display_data"
    },
    {
     "data": {
      "image/png": "[encoded data removed]",
      "text/plain": [
       "<Figure size 720x432 with 2 Axes>"
      ]
     },
     "metadata": {},
     "output_type": "display_data"
    },
    {
     "data": {
      "image/png": "[encoded data removed]",
      "text/plain": [
       "<Figure size 720x432 with 2 Axes>"
      ]
     },
     "metadata": {},
     "output_type": "display_data"
    },
    {
     "data": {
      "image/png": "[encoded data removed]",
      "text/plain": [
       "<Figure size 720x432 with 2 Axes>"
      ]
     },
     "metadata": {},
     "output_type": "display_data"
    },
    {
     "data": {
      "image/png": "[encoded data removed]",
      "text/plain": [
       "<Figure size 720x432 with 2 Axes>"
      ]
     },
     "metadata": {},
     "output_type": "display_data"
    },
    {
     "data": {
      "image/png": "[encoded data removed]",
      "text/plain": [
       "<Figure size 720x432 with 2 Axes>"
      ]
     },
     "metadata": {},
     "output_type": "display_data"
    },
    {
     "data": {
      "image/png": "[encoded data removed]",
      "text/plain": [
       "<Figure size 720x432 with 2 Axes>"
      ]
     },
     "metadata": {},
     "output_type": "display_data"
    },
    {
     "data": {
      "image/png": "[encoded data removed]",
      "text/plain": [
       "<Figure size 720x432 with 2 Axes>"
      ]
     },
     "metadata": {},
     "output_type": "display_data"
    }
   ],
   "source": [
    "from sklearn.model_selection import StratifiedKFold\n",
    "\n",
    "skf = StratifiedKFold(n_splits=10, shuffle=True, random_state=1)\n",
    "lst_accu_stratified = []\n",
    "  \n",
    "for train_index, test_index in skf.split(X, y):\n",
    "    x_train_fold, x_test_fold = X[train_index], X[test_index]\n",
    "    y_train_fold, y_test_fold = y[train_index], y[test_index]\n",
    "    model_lr.fit(x_train_fold, y_train_fold)\n",
    "    lst_accu_stratified.append(model_lr.score(x_test_fold, y_test_fold))\n",
    "    print( confusion_matrix(y_test_fold, model_lr.predict(x_test_fold)) )\n",
    "    plot_confusion_matrix(model_lr, x_test_fold, y_test_fold,\n",
    "                            #  display_labels=['1','0'],\n",
    "                             cmap=plt.cm.Reds, normalize = 'all'\n",
    "                            )\n",
    "  \n",
    "# Print the output.\n",
    "print('List of possible accuracy:', lst_accu_stratified)\n",
    "print('\\nMaximum Accuracy That can be obtained from this model is:',\n",
    "      max(lst_accu_stratified)*100, '%')\n",
    "print('\\nMinimum Accuracy:',\n",
    "      min(lst_accu_stratified)*100, '%')\n",
    "print('\\nOverall Accuracy:',\n",
    "      mean(lst_accu_stratified)*100, '%')\n",
    "print('\\nStandard Deviation is:', stdev(lst_accu_stratified))"
   ]
  },
  {
   "cell_type": "code",
   "execution_count": null,
   "metadata": {},
   "outputs": [],
   "source": []
  },
  {
   "cell_type": "code",
   "execution_count": null,
   "metadata": {
    "colab": {},
    "colab_type": "code",
    "id": "9XRb96KQJfrg"
   },
   "outputs": [],
   "source": []
  }
 ],
 "metadata": {
  "colab": {
   "collapsed_sections": [],
   "name": "comorbilitiesCovid.ipynb",
   "provenance": []
  },
  "kernelspec": {
   "display_name": "Python 3 (ipykernel)",
   "language": "python",
   "name": "python3"
  },
  "language_info": {
   "codemirror_mode": {
    "name": "ipython",
    "version": 3
   },
   "file_extension": ".py",
   "mimetype": "text/x-python",
   "name": "python",
   "nbconvert_exporter": "python",
   "pygments_lexer": "ipython3",
   "version": "3.8.11"
  }
 },
 "nbformat": 4,
 "nbformat_minor": 1
}
