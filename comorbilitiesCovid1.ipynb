{
 "cells": [
  {
   "cell_type": "code",
   "execution_count": 1,
   "metadata": {
    "colab": {},
    "colab_type": "code",
    "id": "1WF2KF5PpKvM"
   },
   "outputs": [],
   "source": [
    "from sklearn.preprocessing import MinMaxScaler,StandardScaler,PolynomialFeatures\n",
    "from sklearn.model_selection import train_test_split,cross_val_score,GridSearchCV\n",
    "from sklearn.linear_model import LinearRegression,LogisticRegression\n",
    "from sklearn.feature_selection import SelectKBest, chi2,RFECV\n",
    "\n",
    "#from xgboost import XGBClassifier\n",
    "from sklearn.ensemble import RandomForestClassifier\n",
    "\n",
    "\n",
    "from sklearn.tree import DecisionTreeRegressor\n",
    "from sklearn.tree import DecisionTreeClassifier\n",
    "\n",
    "from sklearn.neighbors import KNeighborsRegressor\n",
    "from sklearn.neighbors import KNeighborsClassifier\n",
    "\n",
    "from sklearn.metrics import r2_score,mean_squared_error,accuracy_score,classification_report\n",
    "from sklearn.metrics import confusion_matrix,plot_confusion_matrix,roc_curve,auc,fbeta_score\n",
    "\n",
    "from sklearn.pipeline import make_pipeline\n",
    "\n",
    "from sklearn.naive_bayes import BernoulliNB,MultinomialNB,CategoricalNB,GaussianNB,ComplementNB\n",
    "\n",
    "import pandas as pd\n",
    "import numpy as np\n",
    "import matplotlib.pyplot as plt\n",
    "import seaborn as sns; sns.set();\n",
    "\n",
    "import warnings\n",
    "warnings.filterwarnings(\"ignore\")\n",
    "\n",
    "\n",
    "import numpy as np\n",
    "import pandas as pd\n",
    "\n",
    "%matplotlib inline\n",
    "import matplotlib.pyplot as plt\n",
    "from scipy.optimize import least_squares\n",
    "\n",
    "import requests, zipfile, io\n",
    "from datetime import date, timedelta\n",
    "\n",
    "from matplotlib import rcParams\n",
    "rcParams['figure.figsize'] = (10, 6)\n",
    "rcParams['legend.fontsize'] = 16\n",
    "rcParams['axes.labelsize'] = 16"
   ]
  },
  {
   "cell_type": "code",
   "execution_count": 2,
   "metadata": {
    "colab": {
     "base_uri": "https://localhost:8080/",
     "height": 34
    },
    "colab_type": "code",
    "id": "GI7m4NxxC5hr",
    "outputId": "c5693fd9-6c90-47bf-c3a2-f6de0a115210"
   },
   "outputs": [
    {
     "data": {
      "text/plain": [
       "'201027COVID19MEXICO.csv'"
      ]
     },
     "execution_count": 2,
     "metadata": {},
     "output_type": "execute_result"
    }
   ],
   "source": [
    "# urlnew = \"http://187.191.75.115/gobmx/salud/datos_abiertos/datos_abiertos_covid19.zip\"\n",
    "\n",
    "# # fecha_archivo = pd.Timestamp(\"today\")\n",
    "# # fecha_archivo\n",
    "# yesterday = date.today() - timedelta(days=1)\n",
    "# yesterday.strftime('%m%d%y')\n",
    "\n",
    "# archivo = yesterday.strftime(\"%y%m%d\")+\"COVID19MEXICO.csv\"\n",
    "# archivo"
   ]
  },
  {
   "cell_type": "code",
   "execution_count": 3,
   "metadata": {
    "colab": {},
    "colab_type": "code",
    "id": "zWF247LrD1ny"
   },
   "outputs": [],
   "source": [
    "#df = pd.read_csv(archivo,encoding='utf-8', low_memory=False)\n",
    "#df0 = pd.read_csv(archivo,encoding='latin1', low_memory=False)\n",
    "#df0 = pd.read_csv('200623COVID19MEXICO.csv',encoding='latin1', low_memory=False)\n",
    "#df0 = pd.read_csv('200616COVID19MEXICO.csv',encoding='latin1', low_memory=False)"
   ]
  },
  {
   "cell_type": "code",
   "execution_count": 2,
   "metadata": {
    "colab": {},
    "colab_type": "code",
    "id": "5WYPbu2AB3J5"
   },
   "outputs": [],
   "source": [
    "df0  = pd.read_csv('200806COVID19MEXICO.csv',\n",
    "                   encoding='latin1', low_memory=False)"
   ]
  },
  {
   "cell_type": "code",
   "execution_count": 4,
   "metadata": {
    "colab": {
     "base_uri": "https://localhost:8080/",
     "height": 34
    },
    "colab_type": "code",
    "id": "Sn9N1wVkLQGh",
    "outputId": "662d8778-aa8b-42a3-b238-2d9367d0812f"
   },
   "outputs": [
    {
     "ename": "KeyError",
     "evalue": "'RESULTADO'",
     "output_type": "error",
     "traceback": [
      "\u001b[0;31m---------------------------------------------------------------------------\u001b[0m",
      "\u001b[0;31mKeyError\u001b[0m                                  Traceback (most recent call last)",
      "\u001b[0;32m~/anaconda3/lib/python3.8/site-packages/pandas/core/indexes/base.py\u001b[0m in \u001b[0;36mget_loc\u001b[0;34m(self, key, method, tolerance)\u001b[0m\n\u001b[1;32m   2645\u001b[0m             \u001b[0;32mtry\u001b[0m\u001b[0;34m:\u001b[0m\u001b[0;34m\u001b[0m\u001b[0;34m\u001b[0m\u001b[0m\n\u001b[0;32m-> 2646\u001b[0;31m                 \u001b[0;32mreturn\u001b[0m \u001b[0mself\u001b[0m\u001b[0;34m.\u001b[0m\u001b[0m_engine\u001b[0m\u001b[0;34m.\u001b[0m\u001b[0mget_loc\u001b[0m\u001b[0;34m(\u001b[0m\u001b[0mkey\u001b[0m\u001b[0;34m)\u001b[0m\u001b[0;34m\u001b[0m\u001b[0;34m\u001b[0m\u001b[0m\n\u001b[0m\u001b[1;32m   2647\u001b[0m             \u001b[0;32mexcept\u001b[0m \u001b[0mKeyError\u001b[0m\u001b[0;34m:\u001b[0m\u001b[0;34m\u001b[0m\u001b[0;34m\u001b[0m\u001b[0m\n",
      "\u001b[0;32mpandas/_libs/index.pyx\u001b[0m in \u001b[0;36mpandas._libs.index.IndexEngine.get_loc\u001b[0;34m()\u001b[0m\n",
      "\u001b[0;32mpandas/_libs/index.pyx\u001b[0m in \u001b[0;36mpandas._libs.index.IndexEngine.get_loc\u001b[0;34m()\u001b[0m\n",
      "\u001b[0;32mpandas/_libs/hashtable_class_helper.pxi\u001b[0m in \u001b[0;36mpandas._libs.hashtable.PyObjectHashTable.get_item\u001b[0;34m()\u001b[0m\n",
      "\u001b[0;32mpandas/_libs/hashtable_class_helper.pxi\u001b[0m in \u001b[0;36mpandas._libs.hashtable.PyObjectHashTable.get_item\u001b[0;34m()\u001b[0m\n",
      "\u001b[0;31mKeyError\u001b[0m: 'RESULTADO'",
      "\nDuring handling of the above exception, another exception occurred:\n",
      "\u001b[0;31mKeyError\u001b[0m                                  Traceback (most recent call last)",
      "\u001b[0;32m<ipython-input-4-4f3df2f79af9>\u001b[0m in \u001b[0;36m<module>\u001b[0;34m\u001b[0m\n\u001b[0;32m----> 1\u001b[0;31m \u001b[0mdf\u001b[0m \u001b[0;34m=\u001b[0m \u001b[0mdf0\u001b[0m\u001b[0;34m[\u001b[0m\u001b[0;34m(\u001b[0m\u001b[0mdf0\u001b[0m\u001b[0;34m[\u001b[0m\u001b[0;34m\"RESULTADO\"\u001b[0m\u001b[0;34m]\u001b[0m \u001b[0;34m==\u001b[0m \u001b[0;36m1\u001b[0m\u001b[0;34m)\u001b[0m\u001b[0;34m]\u001b[0m\u001b[0;34m\u001b[0m\u001b[0;34m\u001b[0m\u001b[0m\n\u001b[0m\u001b[1;32m      2\u001b[0m \u001b[0mdf\u001b[0m\u001b[0;34m.\u001b[0m\u001b[0mshape\u001b[0m\u001b[0;34m\u001b[0m\u001b[0;34m\u001b[0m\u001b[0m\n",
      "\u001b[0;32m~/anaconda3/lib/python3.8/site-packages/pandas/core/frame.py\u001b[0m in \u001b[0;36m__getitem__\u001b[0;34m(self, key)\u001b[0m\n\u001b[1;32m   2798\u001b[0m             \u001b[0;32mif\u001b[0m \u001b[0mself\u001b[0m\u001b[0;34m.\u001b[0m\u001b[0mcolumns\u001b[0m\u001b[0;34m.\u001b[0m\u001b[0mnlevels\u001b[0m \u001b[0;34m>\u001b[0m \u001b[0;36m1\u001b[0m\u001b[0;34m:\u001b[0m\u001b[0;34m\u001b[0m\u001b[0;34m\u001b[0m\u001b[0m\n\u001b[1;32m   2799\u001b[0m                 \u001b[0;32mreturn\u001b[0m \u001b[0mself\u001b[0m\u001b[0;34m.\u001b[0m\u001b[0m_getitem_multilevel\u001b[0m\u001b[0;34m(\u001b[0m\u001b[0mkey\u001b[0m\u001b[0;34m)\u001b[0m\u001b[0;34m\u001b[0m\u001b[0;34m\u001b[0m\u001b[0m\n\u001b[0;32m-> 2800\u001b[0;31m             \u001b[0mindexer\u001b[0m \u001b[0;34m=\u001b[0m \u001b[0mself\u001b[0m\u001b[0;34m.\u001b[0m\u001b[0mcolumns\u001b[0m\u001b[0;34m.\u001b[0m\u001b[0mget_loc\u001b[0m\u001b[0;34m(\u001b[0m\u001b[0mkey\u001b[0m\u001b[0;34m)\u001b[0m\u001b[0;34m\u001b[0m\u001b[0;34m\u001b[0m\u001b[0m\n\u001b[0m\u001b[1;32m   2801\u001b[0m             \u001b[0;32mif\u001b[0m \u001b[0mis_integer\u001b[0m\u001b[0;34m(\u001b[0m\u001b[0mindexer\u001b[0m\u001b[0;34m)\u001b[0m\u001b[0;34m:\u001b[0m\u001b[0;34m\u001b[0m\u001b[0;34m\u001b[0m\u001b[0m\n\u001b[1;32m   2802\u001b[0m                 \u001b[0mindexer\u001b[0m \u001b[0;34m=\u001b[0m \u001b[0;34m[\u001b[0m\u001b[0mindexer\u001b[0m\u001b[0;34m]\u001b[0m\u001b[0;34m\u001b[0m\u001b[0;34m\u001b[0m\u001b[0m\n",
      "\u001b[0;32m~/anaconda3/lib/python3.8/site-packages/pandas/core/indexes/base.py\u001b[0m in \u001b[0;36mget_loc\u001b[0;34m(self, key, method, tolerance)\u001b[0m\n\u001b[1;32m   2646\u001b[0m                 \u001b[0;32mreturn\u001b[0m \u001b[0mself\u001b[0m\u001b[0;34m.\u001b[0m\u001b[0m_engine\u001b[0m\u001b[0;34m.\u001b[0m\u001b[0mget_loc\u001b[0m\u001b[0;34m(\u001b[0m\u001b[0mkey\u001b[0m\u001b[0;34m)\u001b[0m\u001b[0;34m\u001b[0m\u001b[0;34m\u001b[0m\u001b[0m\n\u001b[1;32m   2647\u001b[0m             \u001b[0;32mexcept\u001b[0m \u001b[0mKeyError\u001b[0m\u001b[0;34m:\u001b[0m\u001b[0;34m\u001b[0m\u001b[0;34m\u001b[0m\u001b[0m\n\u001b[0;32m-> 2648\u001b[0;31m                 \u001b[0;32mreturn\u001b[0m \u001b[0mself\u001b[0m\u001b[0;34m.\u001b[0m\u001b[0m_engine\u001b[0m\u001b[0;34m.\u001b[0m\u001b[0mget_loc\u001b[0m\u001b[0;34m(\u001b[0m\u001b[0mself\u001b[0m\u001b[0;34m.\u001b[0m\u001b[0m_maybe_cast_indexer\u001b[0m\u001b[0;34m(\u001b[0m\u001b[0mkey\u001b[0m\u001b[0;34m)\u001b[0m\u001b[0;34m)\u001b[0m\u001b[0;34m\u001b[0m\u001b[0;34m\u001b[0m\u001b[0m\n\u001b[0m\u001b[1;32m   2649\u001b[0m         \u001b[0mindexer\u001b[0m \u001b[0;34m=\u001b[0m \u001b[0mself\u001b[0m\u001b[0;34m.\u001b[0m\u001b[0mget_indexer\u001b[0m\u001b[0;34m(\u001b[0m\u001b[0;34m[\u001b[0m\u001b[0mkey\u001b[0m\u001b[0;34m]\u001b[0m\u001b[0;34m,\u001b[0m \u001b[0mmethod\u001b[0m\u001b[0;34m=\u001b[0m\u001b[0mmethod\u001b[0m\u001b[0;34m,\u001b[0m \u001b[0mtolerance\u001b[0m\u001b[0;34m=\u001b[0m\u001b[0mtolerance\u001b[0m\u001b[0;34m)\u001b[0m\u001b[0;34m\u001b[0m\u001b[0;34m\u001b[0m\u001b[0m\n\u001b[1;32m   2650\u001b[0m         \u001b[0;32mif\u001b[0m \u001b[0mindexer\u001b[0m\u001b[0;34m.\u001b[0m\u001b[0mndim\u001b[0m \u001b[0;34m>\u001b[0m \u001b[0;36m1\u001b[0m \u001b[0;32mor\u001b[0m \u001b[0mindexer\u001b[0m\u001b[0;34m.\u001b[0m\u001b[0msize\u001b[0m \u001b[0;34m>\u001b[0m \u001b[0;36m1\u001b[0m\u001b[0;34m:\u001b[0m\u001b[0;34m\u001b[0m\u001b[0;34m\u001b[0m\u001b[0m\n",
      "\u001b[0;32mpandas/_libs/index.pyx\u001b[0m in \u001b[0;36mpandas._libs.index.IndexEngine.get_loc\u001b[0;34m()\u001b[0m\n",
      "\u001b[0;32mpandas/_libs/index.pyx\u001b[0m in \u001b[0;36mpandas._libs.index.IndexEngine.get_loc\u001b[0;34m()\u001b[0m\n",
      "\u001b[0;32mpandas/_libs/hashtable_class_helper.pxi\u001b[0m in \u001b[0;36mpandas._libs.hashtable.PyObjectHashTable.get_item\u001b[0;34m()\u001b[0m\n",
      "\u001b[0;32mpandas/_libs/hashtable_class_helper.pxi\u001b[0m in \u001b[0;36mpandas._libs.hashtable.PyObjectHashTable.get_item\u001b[0;34m()\u001b[0m\n",
      "\u001b[0;31mKeyError\u001b[0m: 'RESULTADO'"
     ]
    }
   ],
   "source": [
    "df = df0[(df0[\"RESULTADO\"] == 1)]\n",
    "df.shape"
   ]
  },
  {
   "cell_type": "code",
   "execution_count": 4,
   "metadata": {
    "colab": {
     "base_uri": "https://localhost:8080/",
     "height": 175
    },
    "colab_type": "code",
    "id": "8_1PhxkwIvMl",
    "outputId": "eb05336f-f104-4852-c6d6-3f8fbbc8586b"
   },
   "outputs": [
    {
     "name": "stdout",
     "output_type": "stream",
     "text": [
      "[ 2  1 99]\n",
      "[ 2  1 98]\n",
      "[ 2  1 98]\n",
      "[ 2  1 98]\n",
      "[ 2  1 98]\n",
      "[ 2  1 98]\n",
      "[ 2  1 98]\n",
      "[ 2 98  1]\n",
      "[ 2  1 98]\n"
     ]
    }
   ],
   "source": [
    "print(df['NEUMONIA'].unique())\n",
    "print(df['DIABETES'].unique())\n",
    "print(df['EPOC'].unique())\n",
    "print(df['ASMA'].unique())\n",
    "print(df['INMUSUPR'].unique())\n",
    "print(df['CARDIOVASCULAR'].unique())\n",
    "print(df['OBESIDAD'].unique())\n",
    "print(df['RENAL_CRONICA'].unique())\n",
    "print(df['TABAQUISMO'].unique())"
   ]
  },
  {
   "cell_type": "code",
   "execution_count": 5,
   "metadata": {
    "colab": {
     "base_uri": "https://localhost:8080/",
     "height": 422
    },
    "colab_type": "code",
    "id": "JXg_N3s_NbKh",
    "outputId": "a020b7ef-02be-435d-8185-cff4673d5523"
   },
   "outputs": [
    {
     "data": {
      "text/html": [
       "<div>\n",
       "<style scoped>\n",
       "    .dataframe tbody tr th:only-of-type {\n",
       "        vertical-align: middle;\n",
       "    }\n",
       "\n",
       "    .dataframe tbody tr th {\n",
       "        vertical-align: top;\n",
       "    }\n",
       "\n",
       "    .dataframe thead th {\n",
       "        text-align: right;\n",
       "    }\n",
       "</style>\n",
       "<table border=\"1\" class=\"dataframe\">\n",
       "  <thead>\n",
       "    <tr style=\"text-align: right;\">\n",
       "      <th></th>\n",
       "      <th>FECHA_ACTUALIZACION</th>\n",
       "      <th>ID_REGISTRO</th>\n",
       "      <th>ORIGEN</th>\n",
       "      <th>SECTOR</th>\n",
       "      <th>ENTIDAD_UM</th>\n",
       "      <th>SEXO</th>\n",
       "      <th>ENTIDAD_NAC</th>\n",
       "      <th>ENTIDAD_RES</th>\n",
       "      <th>MUNICIPIO_RES</th>\n",
       "      <th>TIPO_PACIENTE</th>\n",
       "      <th>...</th>\n",
       "      <th>CARDIOVASCULAR</th>\n",
       "      <th>OBESIDAD</th>\n",
       "      <th>RENAL_CRONICA</th>\n",
       "      <th>TABAQUISMO</th>\n",
       "      <th>OTRO_CASO</th>\n",
       "      <th>RESULTADO</th>\n",
       "      <th>MIGRANTE</th>\n",
       "      <th>PAIS_NACIONALIDAD</th>\n",
       "      <th>PAIS_ORIGEN</th>\n",
       "      <th>UCI</th>\n",
       "    </tr>\n",
       "  </thead>\n",
       "  <tbody>\n",
       "    <tr>\n",
       "      <th>0</th>\n",
       "      <td>2020-08-06</td>\n",
       "      <td>0cfcc3</td>\n",
       "      <td>2</td>\n",
       "      <td>4</td>\n",
       "      <td>25</td>\n",
       "      <td>1</td>\n",
       "      <td>25</td>\n",
       "      <td>25</td>\n",
       "      <td>1</td>\n",
       "      <td>1</td>\n",
       "      <td>...</td>\n",
       "      <td>2</td>\n",
       "      <td>2</td>\n",
       "      <td>2</td>\n",
       "      <td>2</td>\n",
       "      <td>99</td>\n",
       "      <td>1</td>\n",
       "      <td>99</td>\n",
       "      <td>MÃ©xico</td>\n",
       "      <td>99</td>\n",
       "      <td>97</td>\n",
       "    </tr>\n",
       "    <tr>\n",
       "      <th>1</th>\n",
       "      <td>2020-08-06</td>\n",
       "      <td>1d67f9</td>\n",
       "      <td>2</td>\n",
       "      <td>4</td>\n",
       "      <td>9</td>\n",
       "      <td>1</td>\n",
       "      <td>9</td>\n",
       "      <td>9</td>\n",
       "      <td>7</td>\n",
       "      <td>1</td>\n",
       "      <td>...</td>\n",
       "      <td>2</td>\n",
       "      <td>2</td>\n",
       "      <td>2</td>\n",
       "      <td>2</td>\n",
       "      <td>99</td>\n",
       "      <td>1</td>\n",
       "      <td>99</td>\n",
       "      <td>MÃ©xico</td>\n",
       "      <td>99</td>\n",
       "      <td>97</td>\n",
       "    </tr>\n",
       "    <tr>\n",
       "      <th>2</th>\n",
       "      <td>2020-08-06</td>\n",
       "      <td>07d040</td>\n",
       "      <td>2</td>\n",
       "      <td>3</td>\n",
       "      <td>25</td>\n",
       "      <td>2</td>\n",
       "      <td>25</td>\n",
       "      <td>25</td>\n",
       "      <td>6</td>\n",
       "      <td>1</td>\n",
       "      <td>...</td>\n",
       "      <td>2</td>\n",
       "      <td>2</td>\n",
       "      <td>2</td>\n",
       "      <td>2</td>\n",
       "      <td>1</td>\n",
       "      <td>1</td>\n",
       "      <td>99</td>\n",
       "      <td>MÃ©xico</td>\n",
       "      <td>99</td>\n",
       "      <td>97</td>\n",
       "    </tr>\n",
       "    <tr>\n",
       "      <th>3</th>\n",
       "      <td>2020-08-06</td>\n",
       "      <td>17241d</td>\n",
       "      <td>2</td>\n",
       "      <td>3</td>\n",
       "      <td>27</td>\n",
       "      <td>1</td>\n",
       "      <td>27</td>\n",
       "      <td>27</td>\n",
       "      <td>4</td>\n",
       "      <td>1</td>\n",
       "      <td>...</td>\n",
       "      <td>2</td>\n",
       "      <td>2</td>\n",
       "      <td>2</td>\n",
       "      <td>2</td>\n",
       "      <td>1</td>\n",
       "      <td>1</td>\n",
       "      <td>99</td>\n",
       "      <td>MÃ©xico</td>\n",
       "      <td>99</td>\n",
       "      <td>97</td>\n",
       "    </tr>\n",
       "    <tr>\n",
       "      <th>4</th>\n",
       "      <td>2020-08-06</td>\n",
       "      <td>0276dd</td>\n",
       "      <td>2</td>\n",
       "      <td>4</td>\n",
       "      <td>9</td>\n",
       "      <td>1</td>\n",
       "      <td>9</td>\n",
       "      <td>9</td>\n",
       "      <td>7</td>\n",
       "      <td>1</td>\n",
       "      <td>...</td>\n",
       "      <td>2</td>\n",
       "      <td>2</td>\n",
       "      <td>2</td>\n",
       "      <td>2</td>\n",
       "      <td>99</td>\n",
       "      <td>1</td>\n",
       "      <td>99</td>\n",
       "      <td>MÃ©xico</td>\n",
       "      <td>99</td>\n",
       "      <td>97</td>\n",
       "    </tr>\n",
       "    <tr>\n",
       "      <th>...</th>\n",
       "      <td>...</td>\n",
       "      <td>...</td>\n",
       "      <td>...</td>\n",
       "      <td>...</td>\n",
       "      <td>...</td>\n",
       "      <td>...</td>\n",
       "      <td>...</td>\n",
       "      <td>...</td>\n",
       "      <td>...</td>\n",
       "      <td>...</td>\n",
       "      <td>...</td>\n",
       "      <td>...</td>\n",
       "      <td>...</td>\n",
       "      <td>...</td>\n",
       "      <td>...</td>\n",
       "      <td>...</td>\n",
       "      <td>...</td>\n",
       "      <td>...</td>\n",
       "      <td>...</td>\n",
       "      <td>...</td>\n",
       "      <td>...</td>\n",
       "    </tr>\n",
       "    <tr>\n",
       "      <th>813243</th>\n",
       "      <td>2020-08-06</td>\n",
       "      <td>1980a4</td>\n",
       "      <td>1</td>\n",
       "      <td>4</td>\n",
       "      <td>32</td>\n",
       "      <td>1</td>\n",
       "      <td>32</td>\n",
       "      <td>32</td>\n",
       "      <td>17</td>\n",
       "      <td>1</td>\n",
       "      <td>...</td>\n",
       "      <td>2</td>\n",
       "      <td>1</td>\n",
       "      <td>2</td>\n",
       "      <td>2</td>\n",
       "      <td>99</td>\n",
       "      <td>1</td>\n",
       "      <td>99</td>\n",
       "      <td>MÃ©xico</td>\n",
       "      <td>99</td>\n",
       "      <td>97</td>\n",
       "    </tr>\n",
       "    <tr>\n",
       "      <th>813244</th>\n",
       "      <td>2020-08-06</td>\n",
       "      <td>176de0</td>\n",
       "      <td>1</td>\n",
       "      <td>4</td>\n",
       "      <td>5</td>\n",
       "      <td>2</td>\n",
       "      <td>32</td>\n",
       "      <td>5</td>\n",
       "      <td>25</td>\n",
       "      <td>1</td>\n",
       "      <td>...</td>\n",
       "      <td>2</td>\n",
       "      <td>2</td>\n",
       "      <td>2</td>\n",
       "      <td>1</td>\n",
       "      <td>99</td>\n",
       "      <td>1</td>\n",
       "      <td>99</td>\n",
       "      <td>MÃ©xico</td>\n",
       "      <td>99</td>\n",
       "      <td>97</td>\n",
       "    </tr>\n",
       "    <tr>\n",
       "      <th>813245</th>\n",
       "      <td>2020-08-06</td>\n",
       "      <td>065899</td>\n",
       "      <td>2</td>\n",
       "      <td>4</td>\n",
       "      <td>5</td>\n",
       "      <td>1</td>\n",
       "      <td>5</td>\n",
       "      <td>5</td>\n",
       "      <td>33</td>\n",
       "      <td>1</td>\n",
       "      <td>...</td>\n",
       "      <td>2</td>\n",
       "      <td>2</td>\n",
       "      <td>2</td>\n",
       "      <td>2</td>\n",
       "      <td>99</td>\n",
       "      <td>1</td>\n",
       "      <td>99</td>\n",
       "      <td>MÃ©xico</td>\n",
       "      <td>99</td>\n",
       "      <td>97</td>\n",
       "    </tr>\n",
       "    <tr>\n",
       "      <th>813246</th>\n",
       "      <td>2020-08-06</td>\n",
       "      <td>131fc5</td>\n",
       "      <td>2</td>\n",
       "      <td>12</td>\n",
       "      <td>2</td>\n",
       "      <td>1</td>\n",
       "      <td>25</td>\n",
       "      <td>2</td>\n",
       "      <td>4</td>\n",
       "      <td>1</td>\n",
       "      <td>...</td>\n",
       "      <td>2</td>\n",
       "      <td>1</td>\n",
       "      <td>2</td>\n",
       "      <td>2</td>\n",
       "      <td>1</td>\n",
       "      <td>1</td>\n",
       "      <td>99</td>\n",
       "      <td>MÃ©xico</td>\n",
       "      <td>99</td>\n",
       "      <td>97</td>\n",
       "    </tr>\n",
       "    <tr>\n",
       "      <th>813247</th>\n",
       "      <td>2020-08-06</td>\n",
       "      <td>1deddc</td>\n",
       "      <td>1</td>\n",
       "      <td>4</td>\n",
       "      <td>9</td>\n",
       "      <td>2</td>\n",
       "      <td>9</td>\n",
       "      <td>15</td>\n",
       "      <td>33</td>\n",
       "      <td>1</td>\n",
       "      <td>...</td>\n",
       "      <td>2</td>\n",
       "      <td>1</td>\n",
       "      <td>2</td>\n",
       "      <td>1</td>\n",
       "      <td>99</td>\n",
       "      <td>1</td>\n",
       "      <td>99</td>\n",
       "      <td>MÃ©xico</td>\n",
       "      <td>99</td>\n",
       "      <td>97</td>\n",
       "    </tr>\n",
       "  </tbody>\n",
       "</table>\n",
       "<p>462690 rows × 35 columns</p>\n",
       "</div>"
      ],
      "text/plain": [
       "       FECHA_ACTUALIZACION ID_REGISTRO  ORIGEN  SECTOR  ENTIDAD_UM  SEXO  \\\n",
       "0               2020-08-06      0cfcc3       2       4          25     1   \n",
       "1               2020-08-06      1d67f9       2       4           9     1   \n",
       "2               2020-08-06      07d040       2       3          25     2   \n",
       "3               2020-08-06      17241d       2       3          27     1   \n",
       "4               2020-08-06      0276dd       2       4           9     1   \n",
       "...                    ...         ...     ...     ...         ...   ...   \n",
       "813243          2020-08-06      1980a4       1       4          32     1   \n",
       "813244          2020-08-06      176de0       1       4           5     2   \n",
       "813245          2020-08-06      065899       2       4           5     1   \n",
       "813246          2020-08-06      131fc5       2      12           2     1   \n",
       "813247          2020-08-06      1deddc       1       4           9     2   \n",
       "\n",
       "        ENTIDAD_NAC  ENTIDAD_RES  MUNICIPIO_RES  TIPO_PACIENTE  ...  \\\n",
       "0                25           25              1              1  ...   \n",
       "1                 9            9              7              1  ...   \n",
       "2                25           25              6              1  ...   \n",
       "3                27           27              4              1  ...   \n",
       "4                 9            9              7              1  ...   \n",
       "...             ...          ...            ...            ...  ...   \n",
       "813243           32           32             17              1  ...   \n",
       "813244           32            5             25              1  ...   \n",
       "813245            5            5             33              1  ...   \n",
       "813246           25            2              4              1  ...   \n",
       "813247            9           15             33              1  ...   \n",
       "\n",
       "       CARDIOVASCULAR OBESIDAD  RENAL_CRONICA  TABAQUISMO  OTRO_CASO  \\\n",
       "0                   2        2              2           2         99   \n",
       "1                   2        2              2           2         99   \n",
       "2                   2        2              2           2          1   \n",
       "3                   2        2              2           2          1   \n",
       "4                   2        2              2           2         99   \n",
       "...               ...      ...            ...         ...        ...   \n",
       "813243              2        1              2           2         99   \n",
       "813244              2        2              2           1         99   \n",
       "813245              2        2              2           2         99   \n",
       "813246              2        1              2           2          1   \n",
       "813247              2        1              2           1         99   \n",
       "\n",
       "        RESULTADO  MIGRANTE  PAIS_NACIONALIDAD  PAIS_ORIGEN  UCI  \n",
       "0               1        99            MÃ©xico           99   97  \n",
       "1               1        99            MÃ©xico           99   97  \n",
       "2               1        99            MÃ©xico           99   97  \n",
       "3               1        99            MÃ©xico           99   97  \n",
       "4               1        99            MÃ©xico           99   97  \n",
       "...           ...       ...                ...          ...  ...  \n",
       "813243          1        99            MÃ©xico           99   97  \n",
       "813244          1        99            MÃ©xico           99   97  \n",
       "813245          1        99            MÃ©xico           99   97  \n",
       "813246          1        99            MÃ©xico           99   97  \n",
       "813247          1        99            MÃ©xico           99   97  \n",
       "\n",
       "[462690 rows x 35 columns]"
      ]
     },
     "execution_count": 5,
     "metadata": {},
     "output_type": "execute_result"
    }
   ],
   "source": [
    "df['FECHA_DEF'] = (df['FECHA_DEF'] == '9999-99-99').astype(int)\n",
    "df       "
   ]
  },
  {
   "cell_type": "code",
   "execution_count": 8,
   "metadata": {
    "colab": {
     "base_uri": "https://localhost:8080/",
     "height": 70
    },
    "colab_type": "code",
    "id": "-N4PiDHYFfzS",
    "outputId": "ce8df126-a4fe-4e04-f24f-e445b2da8e86"
   },
   "outputs": [
    {
     "name": "stdout",
     "output_type": "stream",
     "text": [
      "[1 0]\n",
      "50517\n",
      "412173\n"
     ]
    }
   ],
   "source": [
    "print(df['FECHA_DEF'].unique())\n",
    "print(len(df[df['FECHA_DEF'] == 0] ) )\n",
    "print(len(df[df['FECHA_DEF'] == 1] ) )"
   ]
  },
  {
   "cell_type": "code",
   "execution_count": 9,
   "metadata": {
    "colab": {
     "base_uri": "https://localhost:8080/",
     "height": 52
    },
    "colab_type": "code",
    "id": "JYSySFG4pZsb",
    "outputId": "9e2c4ff0-2db2-44d7-8cd1-9672cfe12bf9"
   },
   "outputs": [
    {
     "name": "stdout",
     "output_type": "stream",
     "text": [
      "9935\n",
      "4808\n"
     ]
    }
   ],
   "source": [
    "print(len(df[df['UCI'] == 1] ) )\n",
    "print(len(df[ (df[\"UCI\"] == 1) & (df[\"INTUBADO\"] == 2 ) ] ) )\n"
   ]
  },
  {
   "cell_type": "code",
   "execution_count": 10,
   "metadata": {
    "colab": {
     "base_uri": "https://localhost:8080/",
     "height": 70
    },
    "colab_type": "code",
    "id": "Noht6NzRmJd4",
    "outputId": "d4f522f9-4227-4010-ad56-deabcd5f60fb"
   },
   "outputs": [
    {
     "name": "stdout",
     "output_type": "stream",
     "text": [
      "[1 0]\n",
      "50517\n",
      "412173\n"
     ]
    }
   ],
   "source": [
    "print(df['FECHA_DEF'].unique())\n",
    "print(len(df[df['FECHA_DEF'] == 0] ) )\n",
    "print(len(df[df['FECHA_DEF'] == 1] ) )"
   ]
  },
  {
   "cell_type": "code",
   "execution_count": 11,
   "metadata": {
    "colab": {
     "base_uri": "https://localhost:8080/",
     "height": 52
    },
    "colab_type": "code",
    "id": "v6aujdazZxlU",
    "outputId": "c8fc59ad-acfc-4e44-ecef-2668103d767d"
   },
   "outputs": [
    {
     "name": "stdout",
     "output_type": "stream",
     "text": [
      "338693\n",
      "5696\n"
     ]
    }
   ],
   "source": [
    "print(len(df[df[\"TIPO_PACIENTE\"] == 1] ) )\n",
    "print(len(df[ (df[\"TIPO_PACIENTE\"] == 1) & (df[\"FECHA_DEF\"] == 0 ) ] ) )"
   ]
  },
  {
   "cell_type": "code",
   "execution_count": 12,
   "metadata": {
    "colab": {
     "base_uri": "https://localhost:8080/",
     "height": 52
    },
    "colab_type": "code",
    "id": "1_WVUXNnaeKS",
    "outputId": "b83214fe-c90f-44b7-8dff-55567b5d7ede"
   },
   "outputs": [
    {
     "name": "stdout",
     "output_type": "stream",
     "text": [
      "11928\n",
      "6801\n"
     ]
    }
   ],
   "source": [
    "print(len(df[df[\"INTUBADO\"] == 1] ) )\n",
    "print(len(df[ (df[\"INTUBADO\"] == 1) & (df[\"UCI\"] == 2 ) ] ) )"
   ]
  },
  {
   "cell_type": "code",
   "execution_count": 13,
   "metadata": {
    "colab": {
     "base_uri": "https://localhost:8080/",
     "height": 34
    },
    "colab_type": "code",
    "id": "QvqiSqyQeP6C",
    "outputId": "0a3fdbd2-575b-4d20-8edc-81ed0e1c79f8"
   },
   "outputs": [
    {
     "data": {
      "text/plain": [
       "(87973, 35)"
      ]
     },
     "execution_count": 13,
     "metadata": {},
     "output_type": "execute_result"
    }
   ],
   "source": [
    "df = df0[(df0[\"RESULTADO\"] == 3)]\n",
    "df.shape"
   ]
  },
  {
   "cell_type": "code",
   "execution_count": 14,
   "metadata": {
    "colab": {
     "base_uri": "https://localhost:8080/",
     "height": 52
    },
    "colab_type": "code",
    "id": "x7oBi92IeV4O",
    "outputId": "adf0b99c-fd0b-4898-b6ed-3c4389f6aa4a"
   },
   "outputs": [
    {
     "name": "stdout",
     "output_type": "stream",
     "text": [
      "1465\n",
      "773\n"
     ]
    }
   ],
   "source": [
    "print(len(df[df['UCI'] == 1] ) )\n",
    "print(len(df[ (df[\"UCI\"] == 1) & (df[\"INTUBADO\"] == 2 ) ] ) )"
   ]
  },
  {
   "cell_type": "code",
   "execution_count": 15,
   "metadata": {
    "colab": {
     "base_uri": "https://localhost:8080/",
     "height": 34
    },
    "colab_type": "code",
    "id": "3ptfzLKaetby",
    "outputId": "47b5f625-052c-419b-c631-23db591da4a3"
   },
   "outputs": [
    {
     "data": {
      "text/plain": [
       "(506252, 35)"
      ]
     },
     "execution_count": 15,
     "metadata": {},
     "output_type": "execute_result"
    }
   ],
   "source": [
    "df = df0[(df0[\"RESULTADO\"] == 2)]\n",
    "df.shape"
   ]
  },
  {
   "cell_type": "code",
   "execution_count": 16,
   "metadata": {
    "colab": {
     "base_uri": "https://localhost:8080/",
     "height": 52
    },
    "colab_type": "code",
    "id": "Z6qqTdNOev_D",
    "outputId": "7934c76b-5a05-43ad-f6a1-6275be08f51e"
   },
   "outputs": [
    {
     "name": "stdout",
     "output_type": "stream",
     "text": [
      "4809\n",
      "2798\n"
     ]
    }
   ],
   "source": [
    "print(len(df[df['UCI'] == 1] ) )\n",
    "print(len(df[ (df[\"UCI\"] == 1) & (df[\"INTUBADO\"] == 2 ) ] ) )"
   ]
  },
  {
   "cell_type": "code",
   "execution_count": 6,
   "metadata": {
    "colab": {
     "base_uri": "https://localhost:8080/",
     "height": 193
    },
    "colab_type": "code",
    "id": "F-8gvjubPc-g",
    "outputId": "8ecaf43a-d358-4585-f990-891be6b53716"
   },
   "outputs": [
    {
     "name": "stdout",
     "output_type": "stream",
     "text": [
      "5\n",
      "1485\n",
      "1325\n",
      "1319\n",
      "1461\n",
      "1400\n",
      "1407\n",
      "1365\n",
      "1358\n",
      "1461\n"
     ]
    }
   ],
   "source": [
    "missing_neumonia       = df[\"NEUMONIA\"].isin([99]).sum()\n",
    "missing_diabetes       = df[\"DIABETES\"].isin([98]).sum()\n",
    "missing_epoc           = df[\"EPOC\"].isin([98]).sum()\n",
    "missing_asma           = df[\"ASMA\"].isin([98]).sum()\n",
    "missing_inmusupr       = df[\"INMUSUPR\"].isin([98]).sum()\n",
    "missing_hipertension   = df[\"HIPERTENSION\"].isin([98]).sum()\n",
    "missing_cardiovascular = df[\"CARDIOVASCULAR\"].isin([98]).sum()\n",
    "missing_obesidad       = df[\"OBESIDAD\"].isin([98]).sum()\n",
    "missing_renal_cronica  = df[\"RENAL_CRONICA\"].isin([98]).sum()\n",
    "missing_tabaquismo     = df[\"TABAQUISMO\"].isin([98]).sum()\n",
    "print(missing_neumonia)\n",
    "print(missing_diabetes)\n",
    "print(missing_epoc)\n",
    "print(missing_asma)\n",
    "print(missing_inmusupr)\n",
    "print(missing_hipertension)\n",
    "print(missing_cardiovascular)\n",
    "print(missing_obesidad)\n",
    "print(missing_renal_cronica)\n",
    "print(missing_tabaquismo)\n"
   ]
  },
  {
   "cell_type": "code",
   "execution_count": 7,
   "metadata": {
    "colab": {
     "base_uri": "https://localhost:8080/",
     "height": 175
    },
    "colab_type": "code",
    "id": "98PHoRm5RvOD",
    "outputId": "83ac0f4c-df9d-484d-fd9a-a462a63764f3"
   },
   "outputs": [
    {
     "name": "stdout",
     "output_type": "stream",
     "text": [
      "73771\n",
      "7211\n",
      "12346\n",
      "5454\n",
      "91464\n",
      "9724\n",
      "86729\n",
      "9115\n",
      "33317\n"
     ]
    }
   ],
   "source": [
    "pos_diabetes       = df[\"DIABETES\"].isin([1]).sum()\n",
    "pos_epoc           = df[\"EPOC\"].isin([1]).sum()\n",
    "pos_asma           = df[\"ASMA\"].isin([1]).sum()\n",
    "pos_inmusupr       = df[\"INMUSUPR\"].isin([1]).sum()\n",
    "pos_hipertension   = df[\"HIPERTENSION\"].isin([1]).sum()\n",
    "pos_cardiovascular = df[\"CARDIOVASCULAR\"].isin([1]).sum()\n",
    "pos_obesidad       = df[\"OBESIDAD\"].isin([1]).sum()\n",
    "pos_renal_cronica  = df[\"RENAL_CRONICA\"].isin([1]).sum()\n",
    "pos_tabaquismo     = df[\"TABAQUISMO\"].isin([1]).sum()\n",
    "print(pos_diabetes)\n",
    "print(pos_epoc)\n",
    "print(pos_asma)\n",
    "print(pos_inmusupr)\n",
    "print(pos_hipertension)\n",
    "print(pos_cardiovascular)\n",
    "print(pos_obesidad)\n",
    "print(pos_renal_cronica)\n",
    "print(pos_tabaquismo)"
   ]
  },
  {
   "cell_type": "code",
   "execution_count": 8,
   "metadata": {
    "colab": {},
    "colab_type": "code",
    "id": "-SVFu9raVoPp"
   },
   "outputs": [],
   "source": [
    "clean_df=df.drop(df[ (df[\"NEUMONIA\"] == 99) \n",
    "                    | (df[\"DIABETES\"] == 98 ) | (df[\"HIPERTENSION\"] == 98)\n",
    "                    | (df[\"OBESIDAD\"] == 98) | (df[\"TABAQUISMO\"] == 98)\n",
    "                   ].index)"
   ]
  },
  {
   "cell_type": "code",
   "execution_count": 9,
   "metadata": {
    "colab": {
     "base_uri": "https://localhost:8080/",
     "height": 193
    },
    "colab_type": "code",
    "id": "NS1G2jl0dgPk",
    "outputId": "388e446e-a6b9-47a2-8897-d3223ab17fc5"
   },
   "outputs": [
    {
     "name": "stdout",
     "output_type": "stream",
     "text": [
      "0\n",
      "0\n",
      "76\n",
      "56\n",
      "180\n",
      "0\n",
      "115\n",
      "0\n",
      "76\n",
      "0\n"
     ]
    }
   ],
   "source": [
    "missing_neumonia       = clean_df[\"NEUMONIA\"].isin([99]).sum()\n",
    "missing_diabetes       = clean_df[\"DIABETES\"].isin([98]).sum()\n",
    "missing_epoc           = clean_df[\"EPOC\"].isin([98]).sum()\n",
    "missing_asma           = clean_df[\"ASMA\"].isin([98]).sum()\n",
    "missing_inmusupr       = clean_df[\"INMUSUPR\"].isin([98]).sum()\n",
    "missing_hipertension   = clean_df[\"HIPERTENSION\"].isin([98]).sum()\n",
    "missing_cardiovascular = clean_df[\"CARDIOVASCULAR\"].isin([98]).sum()\n",
    "missing_obesidad       = clean_df[\"OBESIDAD\"].isin([98]).sum()\n",
    "missing_renal_cronica  = clean_df[\"RENAL_CRONICA\"].isin([98]).sum()\n",
    "missing_tabaquismo     = clean_df[\"TABAQUISMO\"].isin([98]).sum()\n",
    "print(missing_neumonia)\n",
    "print(missing_diabetes)\n",
    "print(missing_epoc)\n",
    "print(missing_asma)\n",
    "print(missing_inmusupr)\n",
    "print(missing_hipertension)\n",
    "print(missing_cardiovascular)\n",
    "print(missing_obesidad)\n",
    "print(missing_renal_cronica)\n",
    "print(missing_tabaquismo)"
   ]
  },
  {
   "cell_type": "code",
   "execution_count": 10,
   "metadata": {
    "colab": {},
    "colab_type": "code",
    "id": "gZi73CIfVoeo"
   },
   "outputs": [],
   "source": [
    "clean_df.rename(columns={'FECHA_DEF':'SURVIVED'}, inplace=True)"
   ]
  },
  {
   "cell_type": "code",
   "execution_count": 11,
   "metadata": {
    "colab": {
     "base_uri": "https://localhost:8080/",
     "height": 70
    },
    "colab_type": "code",
    "id": "auvdGm4NnOLR",
    "outputId": "3d59cb1a-3ce5-44c8-e0b0-af9c9ceb4f05"
   },
   "outputs": [
    {
     "name": "stdout",
     "output_type": "stream",
     "text": [
      "[1 0]\n",
      "50051\n",
      "410554\n"
     ]
    }
   ],
   "source": [
    "print(clean_df['SURVIVED'].unique())\n",
    "print(len(clean_df[clean_df['SURVIVED'] == 0] ) )\n",
    "print(len(clean_df[clean_df['SURVIVED'] == 1] ) )"
   ]
  },
  {
   "cell_type": "code",
   "execution_count": 12,
   "metadata": {
    "colab": {
     "base_uri": "https://localhost:8080/",
     "height": 373
    },
    "colab_type": "code",
    "id": "gp-VRzcqKY9d",
    "outputId": "9ece92f3-bfc9-467a-8cb7-aafce1d1cfec"
   },
   "outputs": [
    {
     "data": {
      "image/png": "[encoded data removed]",
      "text/plain": [
       "<Figure size 432x432 with 1 Axes>"
      ]
     },
     "metadata": {},
     "output_type": "display_data"
    }
   ],
   "source": [
    "plot = clean_df['SURVIVED'].value_counts().plot(kind='pie', autopct='%.2f', \n",
    "                                            figsize=(6, 6),\n",
    "                                            title='MORTALITY')"
   ]
  },
  {
   "cell_type": "code",
   "execution_count": 13,
   "metadata": {
    "colab": {
     "base_uri": "https://localhost:8080/",
     "height": 402
    },
    "colab_type": "code",
    "id": "fYBpZUD2fvmE",
    "outputId": "296e5fbe-767b-48a7-a619-321c21eb5d99"
   },
   "outputs": [
    {
     "data": {
      "text/html": [
       "<div>\n",
       "<style scoped>\n",
       "    .dataframe tbody tr th:only-of-type {\n",
       "        vertical-align: middle;\n",
       "    }\n",
       "\n",
       "    .dataframe tbody tr th {\n",
       "        vertical-align: top;\n",
       "    }\n",
       "\n",
       "    .dataframe thead th {\n",
       "        text-align: right;\n",
       "    }\n",
       "</style>\n",
       "<table border=\"1\" class=\"dataframe\">\n",
       "  <thead>\n",
       "    <tr style=\"text-align: right;\">\n",
       "      <th></th>\n",
       "      <th>HIPERTENSION</th>\n",
       "      <th>OBESIDAD</th>\n",
       "      <th>DIABETES</th>\n",
       "      <th>TABAQUISMO</th>\n",
       "      <th>SURVIVED</th>\n",
       "    </tr>\n",
       "  </thead>\n",
       "  <tbody>\n",
       "    <tr>\n",
       "      <th>0</th>\n",
       "      <td>2</td>\n",
       "      <td>2</td>\n",
       "      <td>2</td>\n",
       "      <td>2</td>\n",
       "      <td>1</td>\n",
       "    </tr>\n",
       "    <tr>\n",
       "      <th>1</th>\n",
       "      <td>2</td>\n",
       "      <td>2</td>\n",
       "      <td>2</td>\n",
       "      <td>2</td>\n",
       "      <td>1</td>\n",
       "    </tr>\n",
       "    <tr>\n",
       "      <th>2</th>\n",
       "      <td>1</td>\n",
       "      <td>2</td>\n",
       "      <td>2</td>\n",
       "      <td>2</td>\n",
       "      <td>1</td>\n",
       "    </tr>\n",
       "    <tr>\n",
       "      <th>3</th>\n",
       "      <td>2</td>\n",
       "      <td>2</td>\n",
       "      <td>2</td>\n",
       "      <td>2</td>\n",
       "      <td>1</td>\n",
       "    </tr>\n",
       "    <tr>\n",
       "      <th>4</th>\n",
       "      <td>2</td>\n",
       "      <td>2</td>\n",
       "      <td>2</td>\n",
       "      <td>2</td>\n",
       "      <td>1</td>\n",
       "    </tr>\n",
       "    <tr>\n",
       "      <th>...</th>\n",
       "      <td>...</td>\n",
       "      <td>...</td>\n",
       "      <td>...</td>\n",
       "      <td>...</td>\n",
       "      <td>...</td>\n",
       "    </tr>\n",
       "    <tr>\n",
       "      <th>813243</th>\n",
       "      <td>1</td>\n",
       "      <td>1</td>\n",
       "      <td>2</td>\n",
       "      <td>2</td>\n",
       "      <td>1</td>\n",
       "    </tr>\n",
       "    <tr>\n",
       "      <th>813244</th>\n",
       "      <td>2</td>\n",
       "      <td>2</td>\n",
       "      <td>2</td>\n",
       "      <td>1</td>\n",
       "      <td>1</td>\n",
       "    </tr>\n",
       "    <tr>\n",
       "      <th>813245</th>\n",
       "      <td>2</td>\n",
       "      <td>2</td>\n",
       "      <td>2</td>\n",
       "      <td>2</td>\n",
       "      <td>1</td>\n",
       "    </tr>\n",
       "    <tr>\n",
       "      <th>813246</th>\n",
       "      <td>2</td>\n",
       "      <td>1</td>\n",
       "      <td>2</td>\n",
       "      <td>2</td>\n",
       "      <td>1</td>\n",
       "    </tr>\n",
       "    <tr>\n",
       "      <th>813247</th>\n",
       "      <td>2</td>\n",
       "      <td>1</td>\n",
       "      <td>2</td>\n",
       "      <td>1</td>\n",
       "      <td>1</td>\n",
       "    </tr>\n",
       "  </tbody>\n",
       "</table>\n",
       "<p>460605 rows × 5 columns</p>\n",
       "</div>"
      ],
      "text/plain": [
       "        HIPERTENSION  OBESIDAD  DIABETES  TABAQUISMO  SURVIVED\n",
       "0                  2         2         2           2         1\n",
       "1                  2         2         2           2         1\n",
       "2                  1         2         2           2         1\n",
       "3                  2         2         2           2         1\n",
       "4                  2         2         2           2         1\n",
       "...              ...       ...       ...         ...       ...\n",
       "813243             1         1         2           2         1\n",
       "813244             2         2         2           1         1\n",
       "813245             2         2         2           2         1\n",
       "813246             2         1         2           2         1\n",
       "813247             2         1         2           1         1\n",
       "\n",
       "[460605 rows x 5 columns]"
      ]
     },
     "execution_count": 13,
     "metadata": {},
     "output_type": "execute_result"
    }
   ],
   "source": [
    "cormob_df=clean_df[[\"HIPERTENSION\", \"OBESIDAD\",\"DIABETES\",\"TABAQUISMO\",\"SURVIVED\"]]\n",
    "cormob_df"
   ]
  },
  {
   "cell_type": "code",
   "execution_count": 14,
   "metadata": {
    "colab": {
     "base_uri": "https://localhost:8080/",
     "height": 402
    },
    "colab_type": "code",
    "id": "uiP8Gj2RmFNu",
    "outputId": "681ad640-beac-491c-bcd3-df5d4a14f6b6"
   },
   "outputs": [
    {
     "data": {
      "text/html": [
       "<div>\n",
       "<style scoped>\n",
       "    .dataframe tbody tr th:only-of-type {\n",
       "        vertical-align: middle;\n",
       "    }\n",
       "\n",
       "    .dataframe tbody tr th {\n",
       "        vertical-align: top;\n",
       "    }\n",
       "\n",
       "    .dataframe thead th {\n",
       "        text-align: right;\n",
       "    }\n",
       "</style>\n",
       "<table border=\"1\" class=\"dataframe\">\n",
       "  <thead>\n",
       "    <tr style=\"text-align: right;\">\n",
       "      <th></th>\n",
       "      <th>HIPERTENSION</th>\n",
       "      <th>OBESIDAD</th>\n",
       "      <th>DIABETES</th>\n",
       "      <th>TABAQUISMO</th>\n",
       "      <th>SURVIVED</th>\n",
       "    </tr>\n",
       "  </thead>\n",
       "  <tbody>\n",
       "    <tr>\n",
       "      <th>0</th>\n",
       "      <td>0</td>\n",
       "      <td>0</td>\n",
       "      <td>0</td>\n",
       "      <td>0</td>\n",
       "      <td>1</td>\n",
       "    </tr>\n",
       "    <tr>\n",
       "      <th>1</th>\n",
       "      <td>0</td>\n",
       "      <td>0</td>\n",
       "      <td>0</td>\n",
       "      <td>0</td>\n",
       "      <td>1</td>\n",
       "    </tr>\n",
       "    <tr>\n",
       "      <th>2</th>\n",
       "      <td>1</td>\n",
       "      <td>0</td>\n",
       "      <td>0</td>\n",
       "      <td>0</td>\n",
       "      <td>1</td>\n",
       "    </tr>\n",
       "    <tr>\n",
       "      <th>3</th>\n",
       "      <td>0</td>\n",
       "      <td>0</td>\n",
       "      <td>0</td>\n",
       "      <td>0</td>\n",
       "      <td>1</td>\n",
       "    </tr>\n",
       "    <tr>\n",
       "      <th>4</th>\n",
       "      <td>0</td>\n",
       "      <td>0</td>\n",
       "      <td>0</td>\n",
       "      <td>0</td>\n",
       "      <td>1</td>\n",
       "    </tr>\n",
       "    <tr>\n",
       "      <th>...</th>\n",
       "      <td>...</td>\n",
       "      <td>...</td>\n",
       "      <td>...</td>\n",
       "      <td>...</td>\n",
       "      <td>...</td>\n",
       "    </tr>\n",
       "    <tr>\n",
       "      <th>813243</th>\n",
       "      <td>1</td>\n",
       "      <td>1</td>\n",
       "      <td>0</td>\n",
       "      <td>0</td>\n",
       "      <td>1</td>\n",
       "    </tr>\n",
       "    <tr>\n",
       "      <th>813244</th>\n",
       "      <td>0</td>\n",
       "      <td>0</td>\n",
       "      <td>0</td>\n",
       "      <td>1</td>\n",
       "      <td>1</td>\n",
       "    </tr>\n",
       "    <tr>\n",
       "      <th>813245</th>\n",
       "      <td>0</td>\n",
       "      <td>0</td>\n",
       "      <td>0</td>\n",
       "      <td>0</td>\n",
       "      <td>1</td>\n",
       "    </tr>\n",
       "    <tr>\n",
       "      <th>813246</th>\n",
       "      <td>0</td>\n",
       "      <td>1</td>\n",
       "      <td>0</td>\n",
       "      <td>0</td>\n",
       "      <td>1</td>\n",
       "    </tr>\n",
       "    <tr>\n",
       "      <th>813247</th>\n",
       "      <td>0</td>\n",
       "      <td>1</td>\n",
       "      <td>0</td>\n",
       "      <td>1</td>\n",
       "      <td>1</td>\n",
       "    </tr>\n",
       "  </tbody>\n",
       "</table>\n",
       "<p>460605 rows × 5 columns</p>\n",
       "</div>"
      ],
      "text/plain": [
       "        HIPERTENSION  OBESIDAD  DIABETES  TABAQUISMO  SURVIVED\n",
       "0                  0         0         0           0         1\n",
       "1                  0         0         0           0         1\n",
       "2                  1         0         0           0         1\n",
       "3                  0         0         0           0         1\n",
       "4                  0         0         0           0         1\n",
       "...              ...       ...       ...         ...       ...\n",
       "813243             1         1         0           0         1\n",
       "813244             0         0         0           1         1\n",
       "813245             0         0         0           0         1\n",
       "813246             0         1         0           0         1\n",
       "813247             0         1         0           1         1\n",
       "\n",
       "[460605 rows x 5 columns]"
      ]
     },
     "execution_count": 14,
     "metadata": {},
     "output_type": "execute_result"
    }
   ],
   "source": [
    "cormob_df.replace(to_replace = 2, value = 0, inplace = True)\n",
    "cormob_df"
   ]
  },
  {
   "cell_type": "code",
   "execution_count": 15,
   "metadata": {
    "colab": {
     "base_uri": "https://localhost:8080/",
     "height": 70
    },
    "colab_type": "code",
    "id": "saZ5bexVn4U7",
    "outputId": "d5032b2c-e429-4783-9d17-ff323e46a8ae"
   },
   "outputs": [
    {
     "name": "stdout",
     "output_type": "stream",
     "text": [
      "[1 0]\n",
      "50051\n",
      "410554\n"
     ]
    }
   ],
   "source": [
    "print(clean_df['SURVIVED'].unique())\n",
    "print(len(clean_df[clean_df['SURVIVED'] == 0] ) )\n",
    "print(len(clean_df[clean_df['SURVIVED'] == 1] ) )"
   ]
  },
  {
   "cell_type": "code",
   "execution_count": 16,
   "metadata": {
    "colab": {
     "base_uri": "https://localhost:8080/",
     "height": 394
    },
    "colab_type": "code",
    "id": "HWwVYEvy0dJt",
    "outputId": "a2694c39-03da-4066-badd-778cf5e0258e"
   },
   "outputs": [
    {
     "data": {
      "text/plain": [
       "<matplotlib.axes._subplots.AxesSubplot at 0x7f9883c3e128>"
      ]
     },
     "execution_count": 16,
     "metadata": {},
     "output_type": "execute_result"
    },
    {
     "data": {
      "image/png": "[encoded data removed]",
      "text/plain": [
       "<Figure size 720x432 with 2 Axes>"
      ]
     },
     "metadata": {
      "needs_background": "light"
     },
     "output_type": "display_data"
    }
   ],
   "source": [
    "corr_mtx=cormob_df.corr(method='spearman')\n",
    "mask_ut=np.triu(np.ones(corr_mtx.shape)).astype(np.bool)\n",
    "sns.heatmap(corr_mtx,\n",
    "            mask=mask_ut,\n",
    "            annot=True,              \n",
    "            cmap=sns.color_palette(\"coolwarm\", 20))"
   ]
  },
  {
   "cell_type": "code",
   "execution_count": 17,
   "metadata": {
    "colab": {
     "base_uri": "https://localhost:8080/",
     "height": 195
    },
    "colab_type": "code",
    "id": "VVtW4X7VRNjs",
    "outputId": "58a8448e-0c5f-491d-f767-c728481c6a3f"
   },
   "outputs": [
    {
     "data": {
      "text/html": [
       "<div>\n",
       "<style scoped>\n",
       "    .dataframe tbody tr th:only-of-type {\n",
       "        vertical-align: middle;\n",
       "    }\n",
       "\n",
       "    .dataframe tbody tr th {\n",
       "        vertical-align: top;\n",
       "    }\n",
       "\n",
       "    .dataframe thead th {\n",
       "        text-align: right;\n",
       "    }\n",
       "</style>\n",
       "<table border=\"1\" class=\"dataframe\">\n",
       "  <thead>\n",
       "    <tr style=\"text-align: right;\">\n",
       "      <th></th>\n",
       "      <th>SURVIVED</th>\n",
       "      <th>0</th>\n",
       "      <th>1</th>\n",
       "    </tr>\n",
       "    <tr>\n",
       "      <th>HIPERTENSION</th>\n",
       "      <th>DIABETES</th>\n",
       "      <th></th>\n",
       "      <th></th>\n",
       "    </tr>\n",
       "  </thead>\n",
       "  <tbody>\n",
       "    <tr>\n",
       "      <th rowspan=\"2\" valign=\"top\">0</th>\n",
       "      <th>0</th>\n",
       "      <td>0.062613</td>\n",
       "      <td>0.937387</td>\n",
       "    </tr>\n",
       "    <tr>\n",
       "      <th>1</th>\n",
       "      <td>0.206847</td>\n",
       "      <td>0.793153</td>\n",
       "    </tr>\n",
       "    <tr>\n",
       "      <th rowspan=\"2\" valign=\"top\">1</th>\n",
       "      <th>0</th>\n",
       "      <td>0.193639</td>\n",
       "      <td>0.806361</td>\n",
       "    </tr>\n",
       "    <tr>\n",
       "      <th>1</th>\n",
       "      <td>0.303535</td>\n",
       "      <td>0.696465</td>\n",
       "    </tr>\n",
       "  </tbody>\n",
       "</table>\n",
       "</div>"
      ],
      "text/plain": [
       "SURVIVED                      0         1\n",
       "HIPERTENSION DIABETES                    \n",
       "0            0         0.062613  0.937387\n",
       "             1         0.206847  0.793153\n",
       "1            0         0.193639  0.806361\n",
       "             1         0.303535  0.696465"
      ]
     },
     "execution_count": 17,
     "metadata": {},
     "output_type": "execute_result"
    }
   ],
   "source": [
    "X0 = cormob_df[\"HIPERTENSION\"]\n",
    "X1 = cormob_df[\"DIABETES\"]\n",
    "#X = cormob_df[\"DIABETES\"]\n",
    "y = cormob_df['SURVIVED']\n",
    "#contingency_table_diab = pd.crosstab(X,y )\n",
    "contingency_table = pd.crosstab([X0,X1],y ).apply(lambda r: r/r.sum(), axis=1)\n",
    "contingency_table\n"
   ]
  },
  {
   "cell_type": "code",
   "execution_count": 40,
   "metadata": {
    "colab": {
     "base_uri": "https://localhost:8080/",
     "height": 752
    },
    "colab_type": "code",
    "id": "tbYlXmfIUIRQ",
    "outputId": "219e65fc-f4af-4c29-bdf7-82c93d3d321f"
   },
   "outputs": [
    {
     "data": {
      "text/plain": [
       "<matplotlib.axes._subplots.AxesSubplot at 0x7f2ba97dd5f8>"
      ]
     },
     "execution_count": 40,
     "metadata": {},
     "output_type": "execute_result"
    },
    {
     "data": {
      "image/png": "[encoded data removed]",
      "text/plain": [
       "<Figure size 648x648 with 2 Axes>"
      ]
     },
     "metadata": {},
     "output_type": "display_data"
    }
   ],
   "source": [
    "from sklearn.preprocessing import PolynomialFeatures\n",
    "from sklearn.preprocessing import StandardScaler\n",
    "from sklearn.model_selection import train_test_split\n",
    "from sklearn.metrics import r2_score\n",
    "from sklearn.pipeline import make_pipeline\n",
    "\n",
    "import seaborn as sns; sns.set()\n",
    "import matplotlib.pyplot as plt\n",
    "import numpy as np\n",
    "import pandas as pd\n",
    "\n",
    "std_scl = StandardScaler()\n",
    "poly = PolynomialFeatures(3)\n",
    "\n",
    "X = cormob_df.iloc[:,0:4]\n",
    "y = cormob_df['SURVIVED']\n",
    "\n",
    "# X_train, X_test, y_train, y_test = train_test_split(X_ccpp, y_ccpp, \n",
    "#                                                     test_size=0.2, \n",
    "#                                                     random_state=1)\n",
    "\n",
    "#Standardize X_train into X_train_scl\n",
    "X_train_scl = std_scl.fit_transform(X) #Standardize and assign it to a variable\n",
    "\n",
    "#Construct a DataFrame with column names\n",
    "X_train_scl_df = pd.DataFrame(X_train_scl, \n",
    "                              index=X.index, \n",
    "                              columns=X.columns)\n",
    "\n",
    "#Create PolynomialFeatures -> get their names\n",
    "p_model     = poly.fit(X_train_scl_df)\n",
    "poly_names  = p_model.get_feature_names(X_train_scl_df.columns)\n",
    "\n",
    "#Transform X_train_scl into X_train_poly where polynomial features are stored\n",
    "X_train_poly    = poly.fit_transform(X_train_scl_df)\n",
    "X_train_poly_df = pd.DataFrame(X_train_poly, \n",
    "                              index=X.index, \n",
    "                              columns= poly_names)\n",
    "\n",
    "#Create the full Train_df which is the matrix composed by Xy\n",
    "all_names = np.concatenate((X_train_poly_df.columns, 'PE'), axis=None)\n",
    "Train_ndarray = np.hstack([X_train_poly_df, y[:, np.newaxis]])\n",
    "Train_df = pd.DataFrame(Train_ndarray, \n",
    "                              index=X.index, \n",
    "                              columns = all_names)\n",
    "\n",
    "# Compute the correlation matrix\n",
    "corr_mtx = Train_df.corr()\n",
    "# corr_mtx = Train_df.corr('spearman')\n",
    "\n",
    "# Generate a mask for the upper triangle\n",
    "# mask = np.triu(np.ones_like(corr_mtx, dtype=np.bool))\n",
    "\n",
    "f, ax = plt.subplots(figsize=(9, 9))\n",
    "sns.heatmap(corr_mtx, \n",
    "            # mask=mask, \n",
    "            cmap=sns.color_palette(\"coolwarm\", 20))\n",
    "# sns.heatmap(corr_mtx,ax=ax, cmap =\"YlGnBu\", linewidths = 0.1,)\n",
    "\n"
   ]
  },
  {
   "cell_type": "code",
   "execution_count": 41,
   "metadata": {
    "colab": {
     "base_uri": "https://localhost:8080/",
     "height": 633
    },
    "colab_type": "code",
    "id": "ozIYLnRNWl0-",
    "outputId": "551db9b4-2736-4f97-ece8-da7c039f3185"
   },
   "outputs": [
    {
     "name": "stdout",
     "output_type": "stream",
     "text": [
      "HIPERTENSION                         True\n",
      "OBESIDAD                            False\n",
      "DIABETES                             True\n",
      "TABAQUISMO                          False\n",
      "HIPERTENSION^2                       True\n",
      "HIPERTENSION OBESIDAD               False\n",
      "HIPERTENSION DIABETES               False\n",
      "HIPERTENSION TABAQUISMO             False\n",
      "OBESIDAD^2                          False\n",
      "OBESIDAD DIABETES                   False\n",
      "OBESIDAD TABAQUISMO                 False\n",
      "DIABETES^2                           True\n",
      "DIABETES TABAQUISMO                 False\n",
      "TABAQUISMO^2                        False\n",
      "HIPERTENSION^3                       True\n",
      "HIPERTENSION^2 OBESIDAD             False\n",
      "HIPERTENSION^2 DIABETES              True\n",
      "HIPERTENSION^2 TABAQUISMO           False\n",
      "HIPERTENSION OBESIDAD^2             False\n",
      "HIPERTENSION OBESIDAD DIABETES      False\n",
      "HIPERTENSION OBESIDAD TABAQUISMO    False\n",
      "HIPERTENSION DIABETES^2              True\n",
      "HIPERTENSION DIABETES TABAQUISMO    False\n",
      "HIPERTENSION TABAQUISMO^2           False\n",
      "OBESIDAD^3                          False\n",
      "OBESIDAD^2 DIABETES                 False\n",
      "OBESIDAD^2 TABAQUISMO               False\n",
      "OBESIDAD DIABETES^2                 False\n",
      "OBESIDAD DIABETES TABAQUISMO        False\n",
      "OBESIDAD TABAQUISMO^2               False\n",
      "DIABETES^3                           True\n",
      "DIABETES^2 TABAQUISMO               False\n",
      "DIABETES TABAQUISMO^2               False\n",
      "TABAQUISMO^3                        False\n",
      "Name: PE, dtype: bool\n"
     ]
    }
   ],
   "source": [
    "print(corr_mtx.iloc[1:35,-1].abs()>0.15)"
   ]
  },
  {
   "cell_type": "code",
   "execution_count": 20,
   "metadata": {
    "colab": {},
    "colab_type": "code",
    "id": "avVBWJj3XPs8"
   },
   "outputs": [],
   "source": [
    "X = cormob_df[[\"HIPERTENSION\", \"DIABETES\"]]\n",
    "y = cormob_df['SURVIVED']\n",
    "\n",
    "X_train, X_test, y_train, y_test = train_test_split(X, y, \n",
    "                                                    test_size=0.3, \n",
    "                                                    random_state=42)"
   ]
  },
  {
   "cell_type": "code",
   "execution_count": 21,
   "metadata": {
    "colab": {
     "base_uri": "https://localhost:8080/",
     "height": 402
    },
    "colab_type": "code",
    "id": "hKeu5cIm-iVi",
    "outputId": "447be632-d506-4dca-8c6d-59fd6e24e82e"
   },
   "outputs": [
    {
     "data": {
      "text/html": [
       "<div>\n",
       "<style scoped>\n",
       "    .dataframe tbody tr th:only-of-type {\n",
       "        vertical-align: middle;\n",
       "    }\n",
       "\n",
       "    .dataframe tbody tr th {\n",
       "        vertical-align: top;\n",
       "    }\n",
       "\n",
       "    .dataframe thead th {\n",
       "        text-align: right;\n",
       "    }\n",
       "</style>\n",
       "<table border=\"1\" class=\"dataframe\">\n",
       "  <thead>\n",
       "    <tr style=\"text-align: right;\">\n",
       "      <th></th>\n",
       "      <th>HIPERTENSION</th>\n",
       "      <th>DIABETES</th>\n",
       "    </tr>\n",
       "  </thead>\n",
       "  <tbody>\n",
       "    <tr>\n",
       "      <th>144808</th>\n",
       "      <td>0</td>\n",
       "      <td>0</td>\n",
       "    </tr>\n",
       "    <tr>\n",
       "      <th>157523</th>\n",
       "      <td>0</td>\n",
       "      <td>0</td>\n",
       "    </tr>\n",
       "    <tr>\n",
       "      <th>166532</th>\n",
       "      <td>1</td>\n",
       "      <td>1</td>\n",
       "    </tr>\n",
       "    <tr>\n",
       "      <th>803317</th>\n",
       "      <td>0</td>\n",
       "      <td>0</td>\n",
       "    </tr>\n",
       "    <tr>\n",
       "      <th>211880</th>\n",
       "      <td>0</td>\n",
       "      <td>0</td>\n",
       "    </tr>\n",
       "    <tr>\n",
       "      <th>...</th>\n",
       "      <td>...</td>\n",
       "      <td>...</td>\n",
       "    </tr>\n",
       "    <tr>\n",
       "      <th>170132</th>\n",
       "      <td>0</td>\n",
       "      <td>0</td>\n",
       "    </tr>\n",
       "    <tr>\n",
       "      <th>232882</th>\n",
       "      <td>0</td>\n",
       "      <td>0</td>\n",
       "    </tr>\n",
       "    <tr>\n",
       "      <th>636759</th>\n",
       "      <td>0</td>\n",
       "      <td>0</td>\n",
       "    </tr>\n",
       "    <tr>\n",
       "      <th>709893</th>\n",
       "      <td>0</td>\n",
       "      <td>0</td>\n",
       "    </tr>\n",
       "    <tr>\n",
       "      <th>742165</th>\n",
       "      <td>0</td>\n",
       "      <td>0</td>\n",
       "    </tr>\n",
       "  </tbody>\n",
       "</table>\n",
       "<p>138182 rows × 2 columns</p>\n",
       "</div>"
      ],
      "text/plain": [
       "        HIPERTENSION  DIABETES\n",
       "144808             0         0\n",
       "157523             0         0\n",
       "166532             1         1\n",
       "803317             0         0\n",
       "211880             0         0\n",
       "...              ...       ...\n",
       "170132             0         0\n",
       "232882             0         0\n",
       "636759             0         0\n",
       "709893             0         0\n",
       "742165             0         0\n",
       "\n",
       "[138182 rows x 2 columns]"
      ]
     },
     "execution_count": 21,
     "metadata": {},
     "output_type": "execute_result"
    }
   ],
   "source": [
    "X_test"
   ]
  },
  {
   "cell_type": "code",
   "execution_count": 44,
   "metadata": {
    "colab": {
     "base_uri": "https://localhost:8080/",
     "height": 228
    },
    "colab_type": "code",
    "id": "Ujy8stP181fe",
    "outputId": "a529e3bb-1c8e-402a-cca9-6cafff1f88dc"
   },
   "outputs": [
    {
     "data": {
      "text/plain": [
       "0         1\n",
       "1         1\n",
       "2         1\n",
       "3         1\n",
       "4         1\n",
       "         ..\n",
       "813243    1\n",
       "813244    1\n",
       "813245    1\n",
       "813246    1\n",
       "813247    1\n",
       "Name: SURVIVED, Length: 460605, dtype: int64"
      ]
     },
     "execution_count": 44,
     "metadata": {},
     "output_type": "execute_result"
    }
   ],
   "source": [
    "y"
   ]
  },
  {
   "cell_type": "code",
   "execution_count": 45,
   "metadata": {
    "colab": {
     "base_uri": "https://localhost:8080/",
     "height": 87
    },
    "colab_type": "code",
    "id": "t5bNwfx48lQ7",
    "outputId": "9377ceff-8e9c-4206-bcf8-b518ded4e533"
   },
   "outputs": [
    {
     "name": "stdout",
     "output_type": "stream",
     "text": [
      "<class 'pandas.core.series.Series'>\n",
      "322423\n",
      "34922\n",
      "287501\n"
     ]
    }
   ],
   "source": [
    "print(type(y_train))\n",
    "#print(y_test.unique())\n",
    "print(len(y_train ) )\n",
    "print(len(y_train[y_train == 0]  ) )\n",
    "print(len(y_train[y_train == 1]  ) )"
   ]
  },
  {
   "cell_type": "code",
   "execution_count": 46,
   "metadata": {
    "colab": {
     "base_uri": "https://localhost:8080/",
     "height": 87
    },
    "colab_type": "code",
    "id": "yAsihBAQ7b6z",
    "outputId": "4ab4bf9c-80b0-4538-a6dc-8c3a089cb806"
   },
   "outputs": [
    {
     "name": "stdout",
     "output_type": "stream",
     "text": [
      "<class 'pandas.core.series.Series'>\n",
      "138182\n",
      "15129\n",
      "123053\n"
     ]
    }
   ],
   "source": [
    "print(type(y_test))\n",
    "#print(y_test.unique())\n",
    "print(len(y_test ) )\n",
    "print(len(y_test[y_test == 0]  ) )\n",
    "print(len(y_test[y_test == 1]  ) )"
   ]
  },
  {
   "cell_type": "code",
   "execution_count": 47,
   "metadata": {
    "colab": {},
    "colab_type": "code",
    "id": "QN97v9DyoQ_d"
   },
   "outputs": [],
   "source": [
    "#--------\n",
    "### CREATE PIPELINES\n",
    "no_poly = 1\n",
    "no_sel_fts = 2\n",
    "\n",
    "sclr_01 = MinMaxScaler()\n",
    "std_sclr = StandardScaler()\n",
    "\n",
    "polyFt_m = PolynomialFeatures(no_poly,include_bias=False)\n",
    "#polyFt_m = PolynomialFeatures(no_poly)\n",
    "\n",
    "### Initialize Ft Selection\n",
    "sel = SelectKBest(chi2, k=no_sel_fts)\n",
    "#sel = SelectKBest(chi2, k=2)\n",
    "\n",
    "\n",
    "\n",
    "lr_m  = LogisticRegression()\n",
    "\n",
    "dt_m = DecisionTreeClassifier(criterion='entropy',\n",
    "                               max_depth=5,\n",
    "                               min_samples_split = 20, \n",
    "                               random_state=0)\n",
    "\n",
    "\n",
    "knn_m = KNeighborsClassifier(n_neighbors=15)"
   ]
  },
  {
   "cell_type": "code",
   "execution_count": 48,
   "metadata": {
    "colab": {},
    "colab_type": "code",
    "id": "7Mm6OEiro0X2"
   },
   "outputs": [],
   "source": [
    "model_lr = make_pipeline(\n",
    "                         sclr_01,\n",
    "                         polyFt_m,\n",
    "                         sel,\n",
    "                         lr_m)\n",
    "\n",
    "model_dt = make_pipeline(sclr_01,\n",
    "                         polyFt_m,\n",
    "                         sel,\n",
    "                         dt_m)\n",
    "\n",
    "model_knn = make_pipeline(sclr_01,\n",
    "                          polyFt_m,\n",
    "                          sel,\n",
    "                          knn_m)"
   ]
  },
  {
   "cell_type": "code",
   "execution_count": 49,
   "metadata": {
    "colab": {
     "base_uri": "https://localhost:8080/",
     "height": 70
    },
    "colab_type": "code",
    "id": "XlhwbmgKpDuS",
    "outputId": "b7e86c14-b939-4aa8-d723-78efb533c1df"
   },
   "outputs": [
    {
     "name": "stdout",
     "output_type": "stream",
     "text": [
      "TEST ERROR----\n",
      "LR R2:  -0.1229470228275622\n",
      "LR RMSE:  0.3308867482235382 MW\n"
     ]
    }
   ],
   "source": [
    "model_lr.fit(X_train, y_train)\n",
    "#lr_m.fit(X_train, y_train)\n",
    "# model_dt.fit(X_train, y_train[:, np.newaxis])\n",
    "# model_knn.fit(X_train,y_train[:, np.newaxis])\n",
    "\n",
    "\n",
    "# #--------\n",
    "# ### PREDICT TEST DATA \n",
    "\n",
    "y_hat = model_lr.predict(X_test)\n",
    "# y_hatdt = model_dt.predict(X_test)\n",
    "# y_hatknn = model_knn.predict(X_test)\n",
    "\n",
    "\n",
    "# #--------\n",
    "# ### PRINT SCORES\n",
    "\n",
    "print('TEST ERROR----')\n",
    "\n",
    "print('LR R2: ',r2_score(y_test,y_hat))\n",
    "# print('DT R2: ',r2_score(y_test,y_hatdt))\n",
    "# print('KNN R2: ',r2_score(y_test,y_hatknn))\n",
    "\n",
    "print('LR RMSE: ',mean_squared_error(y_test,y_hat, squared=False), 'MW')\n",
    "# print('DT RMSE: ',mean_squared_error(y_test,y_hatdt, squared=False), 'MW')\n",
    "# print('KNN RMSE: ',mean_squared_error(y_test,y_hatknn, squared=False), 'MW')"
   ]
  },
  {
   "cell_type": "code",
   "execution_count": 50,
   "metadata": {
    "colab": {
     "base_uri": "https://localhost:8080/",
     "height": 34
    },
    "colab_type": "code",
    "id": "V84MUCA_pOIh",
    "outputId": "f5b776e8-98c2-4e0b-d094-647aaa9c1776"
   },
   "outputs": [
    {
     "name": "stdout",
     "output_type": "stream",
     "text": [
      "[1 1 1 ... 1 1 1]\n"
     ]
    }
   ],
   "source": [
    "print(y_hat)\n",
    "# print(y_hatdt)\n",
    "# print(y_hatknn)"
   ]
  },
  {
   "cell_type": "code",
   "execution_count": 51,
   "metadata": {
    "colab": {
     "base_uri": "https://localhost:8080/",
     "height": 122
    },
    "colab_type": "code",
    "id": "o27m7YhWrnMr",
    "outputId": "f2c89222-aceb-4d70-d3d3-f9778e508df3"
   },
   "outputs": [
    {
     "name": "stdout",
     "output_type": "stream",
     "text": [
      "(138182,)\n",
      "[1]\n",
      "<class 'numpy.ndarray'>\n",
      "138182\n",
      "0\n",
      "138182\n"
     ]
    }
   ],
   "source": [
    "print(y_hat.shape)\n",
    "print(np.unique(y_hat))\n",
    "print(type(y_hat))\n",
    "#print(y_test.unique())\n",
    "print(len(y_hat ) )\n",
    "print(len(y_hat[y_hat == 0]  ) )\n",
    "print(len(y_hat[y_hat == 1]  ) )"
   ]
  },
  {
   "cell_type": "code",
   "execution_count": 52,
   "metadata": {
    "colab": {
     "base_uri": "https://localhost:8080/",
     "height": 87
    },
    "colab_type": "code",
    "id": "av3f84O_Xdcm",
    "outputId": "e69259ff-76e9-4678-daa6-90e663c8a30c"
   },
   "outputs": [
    {
     "name": "stdout",
     "output_type": "stream",
     "text": [
      "<class 'pandas.core.series.Series'>\n",
      "138182\n",
      "15129\n",
      "123053\n"
     ]
    }
   ],
   "source": [
    "print(type(y_test))\n",
    "#print(y_test.unique())\n",
    "print(len(y_test ) )\n",
    "print(len(y_test[y_test == 0]  ) )\n",
    "print(len(y_test[y_test == 1]  ) )"
   ]
  },
  {
   "cell_type": "code",
   "execution_count": 53,
   "metadata": {
    "colab": {
     "base_uri": "https://localhost:8080/",
     "height": 246
    },
    "colab_type": "code",
    "id": "YN5D9voDselP",
    "outputId": "886a2dc2-63dc-48f0-dd22-8ecb15a60719"
   },
   "outputs": [
    {
     "name": "stdout",
     "output_type": "stream",
     "text": [
      "Prediction with Logistic Regression:\n",
      "\n",
      "              precision    recall  f1-score   support\n",
      "\n",
      "           0       0.00      0.00      0.00     15129\n",
      "           1       0.89      1.00      0.94    123053\n",
      "\n",
      "    accuracy                           0.89    138182\n",
      "   macro avg       0.45      0.50      0.47    138182\n",
      "weighted avg       0.79      0.89      0.84    138182\n",
      "\n",
      "0.8905139598500529\n",
      "\n"
     ]
    }
   ],
   "source": [
    "print(\"Prediction with Logistic Regression:\")\n",
    "print()\n",
    "print(classification_report(y_test, y_hat))\n",
    "print(accuracy_score(y_test, y_hat))\n",
    "print()\n",
    "#print(classification_report(y_train, y_train))\n",
    "#print(accuracy_score(y_train, y_hat))\n",
    "# print(\"Prediction with Decission Tree Classifier:\")\n",
    "# print(classification_report(y_test, y_hatdt))\n",
    "# print(accuracy_score(y_test, y_hatdt))\n",
    "# print()\n",
    "# print(\"Prediction with K-NN Classifier:\")\n",
    "# print(classification_report(y_test, y_hatdt))\n",
    "# print(accuracy_score(y_test, y_hatdt))"
   ]
  },
  {
   "cell_type": "code",
   "execution_count": 54,
   "metadata": {
    "colab": {
     "base_uri": "https://localhost:8080/",
     "height": 34
    },
    "colab_type": "code",
    "id": "WXP92qdpsigY",
    "outputId": "d9fe3c6b-a7e7-42dc-bcbb-d0ea264502c3"
   },
   "outputs": [
    {
     "data": {
      "text/plain": [
       "array([0, 1])"
      ]
     },
     "execution_count": 54,
     "metadata": {},
     "output_type": "execute_result"
    }
   ],
   "source": [
    "np.unique(y_test)"
   ]
  },
  {
   "cell_type": "code",
   "execution_count": 55,
   "metadata": {
    "colab": {
     "base_uri": "https://localhost:8080/",
     "height": 158
    },
    "colab_type": "code",
    "id": "tw75f_clyosm",
    "outputId": "fe5f58f6-f18d-4798-cf2f-f52c36dfc1dd"
   },
   "outputs": [
    {
     "name": "stdout",
     "output_type": "stream",
     "text": [
      "TN =  0\n",
      "FN =  0\n",
      "TP =  123053\n",
      "FP =  15129\n",
      "PPV =  0.8905139598500529\n",
      "NPV =  nan\n",
      "Sensitivity =  1.0\n",
      "Specificitivity =  0.0\n"
     ]
    }
   ],
   "source": [
    "df_cm=confusion_matrix(y_test, y_hat)\n",
    "TN  = df_cm[0][0]\n",
    "FN  = df_cm[1][0]\n",
    "TP  = df_cm[1][1]\n",
    "FP  = df_cm[0][1]\n",
    "PPV = TP/(TP + FP)\n",
    "NPV = TN/(FN + TN)\n",
    "Sensitivity       = TP/(TP + FN)\n",
    "Spec = TN/(FP + TN)\n",
    "print('TN = ',TN)\n",
    "print('FN = ',FN)\n",
    "print('TP = ',TP)\n",
    "print('FP = ',FP)\n",
    "print('PPV = ',PPV) #Positive Predictive Value\n",
    "print('NPV = ',NPV) #Negative Predictive Value\n",
    "print('Sensitivity = ',Sensitivity)\n",
    "print('Specificitivity = ',Spec)"
   ]
  },
  {
   "cell_type": "code",
   "execution_count": 56,
   "metadata": {
    "colab": {
     "base_uri": "https://localhost:8080/",
     "height": 412
    },
    "colab_type": "code",
    "id": "D9_UjLi5tl3X",
    "outputId": "7d63b0d8-bb2a-414c-c7dc-d017ae7f2ccf"
   },
   "outputs": [
    {
     "data": {
      "text/plain": [
       "<Figure size 720x432 with 0 Axes>"
      ]
     },
     "metadata": {},
     "output_type": "display_data"
    },
    {
     "data": {
      "image/png": "[encoded data removed]",
      "text/plain": [
       "<Figure size 720x432 with 2 Axes>"
      ]
     },
     "metadata": {},
     "output_type": "display_data"
    }
   ],
   "source": [
    "fig = plt.figure()\n",
    "disp = plot_confusion_matrix(model_lr, X_test, y_test,\n",
    "                            #  display_labels=['1','0'],\n",
    "                             cmap=plt.cm.Reds, normalize = 'all'\n",
    "                            )"
   ]
  },
  {
   "cell_type": "code",
   "execution_count": 57,
   "metadata": {
    "colab": {
     "base_uri": "https://localhost:8080/",
     "height": 34
    },
    "colab_type": "code",
    "id": "BmdV9Kcb5HJe",
    "outputId": "311fad5a-282c-41e6-8157-f1764a4cff32"
   },
   "outputs": [
    {
     "data": {
      "text/plain": [
       "(138182, 2)"
      ]
     },
     "execution_count": 57,
     "metadata": {},
     "output_type": "execute_result"
    }
   ],
   "source": [
    "#y_hat = model_lr.predict(X_test)\n",
    "probs = model_lr.predict_proba(X_test)\n",
    "probs.shape"
   ]
  },
  {
   "cell_type": "code",
   "execution_count": 58,
   "metadata": {
    "colab": {
     "base_uri": "https://localhost:8080/",
     "height": 195
    },
    "colab_type": "code",
    "id": "bk2R3w2553CW",
    "outputId": "c9de9ca0-67b4-4ac7-98e2-0519204eb3e5"
   },
   "outputs": [
    {
     "data": {
      "text/html": [
       "<div>\n",
       "<style scoped>\n",
       "    .dataframe tbody tr th:only-of-type {\n",
       "        vertical-align: middle;\n",
       "    }\n",
       "\n",
       "    .dataframe tbody tr th {\n",
       "        vertical-align: top;\n",
       "    }\n",
       "\n",
       "    .dataframe thead th {\n",
       "        text-align: right;\n",
       "    }\n",
       "</style>\n",
       "<table border=\"1\" class=\"dataframe\">\n",
       "  <thead>\n",
       "    <tr style=\"text-align: right;\">\n",
       "      <th></th>\n",
       "      <th>0</th>\n",
       "      <th>prediction</th>\n",
       "      <th>actual</th>\n",
       "    </tr>\n",
       "  </thead>\n",
       "  <tbody>\n",
       "    <tr>\n",
       "      <th>0</th>\n",
       "      <td>0.933157</td>\n",
       "      <td>1</td>\n",
       "      <td>1</td>\n",
       "    </tr>\n",
       "    <tr>\n",
       "      <th>1</th>\n",
       "      <td>0.933157</td>\n",
       "      <td>1</td>\n",
       "      <td>1</td>\n",
       "    </tr>\n",
       "    <tr>\n",
       "      <th>2</th>\n",
       "      <td>0.657115</td>\n",
       "      <td>1</td>\n",
       "      <td>1</td>\n",
       "    </tr>\n",
       "    <tr>\n",
       "      <th>3</th>\n",
       "      <td>0.933157</td>\n",
       "      <td>1</td>\n",
       "      <td>1</td>\n",
       "    </tr>\n",
       "    <tr>\n",
       "      <th>4</th>\n",
       "      <td>0.933157</td>\n",
       "      <td>1</td>\n",
       "      <td>1</td>\n",
       "    </tr>\n",
       "  </tbody>\n",
       "</table>\n",
       "</div>"
      ],
      "text/plain": [
       "          0  prediction  actual\n",
       "0  0.933157           1       1\n",
       "1  0.933157           1       1\n",
       "2  0.657115           1       1\n",
       "3  0.933157           1       1\n",
       "4  0.933157           1       1"
      ]
     },
     "execution_count": 58,
     "metadata": {},
     "output_type": "execute_result"
    }
   ],
   "source": [
    "prob=probs[:,1]\n",
    "prob_df = pd.DataFrame(prob)\n",
    "threshold = 0.1\n",
    "prob_df[\"prediction\"] = np.where(prob_df[0]>=threshold, 1, 0)\n",
    "prob_df[\"actual\"] = list(y_test)\n",
    "prob_df.head()"
   ]
  },
  {
   "cell_type": "code",
   "execution_count": 59,
   "metadata": {
    "colab": {},
    "colab_type": "code",
    "id": "-XAGmQK39zVN"
   },
   "outputs": [],
   "source": [
    "thresholds = [0.04, 0.05, 0.07, 0.10, 0.12, 0.15, 0.18, 0.20, 0.25, 0.3, 0.4, 0.5]\n",
    "sensitivities = [1]\n",
    "especifities_1 = [1]\n",
    "\n",
    "for t in thresholds:\n",
    "    prob_df[\"prediction\"] = np.where(prob_df[0]>=t, 0, 1)\n",
    "    prob_df[\"actual\"] = list(y_test)\n",
    "    prob_df.head()\n",
    "\n",
    "    confusion_matrix = pd.crosstab(prob_df.prediction, prob_df.actual)\n",
    "    TN  = df_cm[0][0]\n",
    "    FN  = df_cm[1][0]\n",
    "    TP  = df_cm[1][1]\n",
    "    FP  = df_cm[0][1]\n",
    "    \n",
    "    sens = TP/(TP+FN)\n",
    "    sensitivities.append(sens)\n",
    "    espc_1 = 1-TN/(TN+FP)\n",
    "    especifities_1.append(espc_1)\n",
    "\n",
    "sensitivities.append(0)\n",
    "especifities_1.append(0)"
   ]
  },
  {
   "cell_type": "code",
   "execution_count": 60,
   "metadata": {
    "colab": {
     "base_uri": "https://localhost:8080/",
     "height": 34
    },
    "colab_type": "code",
    "id": "B_Uj2WHq-h0W",
    "outputId": "5a4cbf69-5f1a-4fdc-d815-56044a37dafe"
   },
   "outputs": [
    {
     "data": {
      "text/plain": [
       "[1, 1.0, 1.0, 1.0, 1.0, 1.0, 1.0, 1.0, 1.0, 1.0, 1.0, 1.0, 1.0, 0]"
      ]
     },
     "execution_count": 60,
     "metadata": {},
     "output_type": "execute_result"
    }
   ],
   "source": [
    "np.shape(sensitivities)\n",
    "sensitivities"
   ]
  },
  {
   "cell_type": "code",
   "execution_count": 61,
   "metadata": {
    "colab": {
     "base_uri": "https://localhost:8080/",
     "height": 410
    },
    "colab_type": "code",
    "id": "zrq-AFVu-qAU",
    "outputId": "1a7493a3-bdc1-4890-ac4d-ccfd2e831c80"
   },
   "outputs": [
    {
     "data": {
      "image/png": "[encoded data removed]",
      "text/plain": [
       "<Figure size 720x432 with 1 Axes>"
      ]
     },
     "metadata": {},
     "output_type": "display_data"
    }
   ],
   "source": [
    "probs = model_lr.predict_proba(X_test)\n",
    "preds = probs[:,1]\n",
    "fpr, tpr, threshold = roc_curve(y_test, preds)\n",
    "roc_auc = auc(fpr, tpr)\n",
    "\n",
    "# method I: plt\n",
    "\n",
    "plt.title('Receiver Operating Characteristic')\n",
    "plt.plot(fpr, tpr, 'b', label = 'AUC = %0.2f' % roc_auc)\n",
    "plt.legend(loc = 'lower right')\n",
    "plt.plot([0, 1], [0, 1],'r--')\n",
    "plt.xlim([0, 1])\n",
    "plt.ylim([0, 1])\n",
    "plt.ylabel('True Positive Rate')\n",
    "plt.xlabel('False Positive Rate')\n",
    "plt.show()"
   ]
  },
  {
   "cell_type": "code",
   "execution_count": 65,
   "metadata": {
    "colab": {
     "base_uri": "https://localhost:8080/",
     "height": 283
    },
    "colab_type": "code",
    "id": "QHZ8ELPS8_iz",
    "outputId": "3dde9258-b9b5-4509-e629-703950f670cd"
   },
   "outputs": [
    {
     "name": "stdout",
     "output_type": "stream",
     "text": [
      "Collecting scikit-plot\n",
      "  Downloading https://files.pythonhosted.org/packages/7c/47/32520e259340c140a4ad27c1b97050dd3254fdc517b1d59974d47037510e/scikit_plot-0.3.7-py3-none-any.whl\n",
      "Requirement already satisfied: scipy>=0.9 in /usr/local/lib/python3.6/dist-packages (from scikit-plot) (1.4.1)\n",
      "Requirement already satisfied: scikit-learn>=0.18 in /usr/local/lib/python3.6/dist-packages (from scikit-plot) (0.22.2.post1)\n",
      "Requirement already satisfied: joblib>=0.10 in /usr/local/lib/python3.6/dist-packages (from scikit-plot) (0.16.0)\n",
      "Requirement already satisfied: matplotlib>=1.4.0 in /usr/local/lib/python3.6/dist-packages (from scikit-plot) (3.2.2)\n",
      "Requirement already satisfied: numpy>=1.13.3 in /usr/local/lib/python3.6/dist-packages (from scipy>=0.9->scikit-plot) (1.18.5)\n",
      "Requirement already satisfied: pyparsing!=2.0.4,!=2.1.2,!=2.1.6,>=2.0.1 in /usr/local/lib/python3.6/dist-packages (from matplotlib>=1.4.0->scikit-plot) (2.4.7)\n",
      "Requirement already satisfied: cycler>=0.10 in /usr/local/lib/python3.6/dist-packages (from matplotlib>=1.4.0->scikit-plot) (0.10.0)\n",
      "Requirement already satisfied: kiwisolver>=1.0.1 in /usr/local/lib/python3.6/dist-packages (from matplotlib>=1.4.0->scikit-plot) (1.2.0)\n",
      "Requirement already satisfied: python-dateutil>=2.1 in /usr/local/lib/python3.6/dist-packages (from matplotlib>=1.4.0->scikit-plot) (2.8.1)\n",
      "Requirement already satisfied: six in /usr/local/lib/python3.6/dist-packages (from cycler>=0.10->matplotlib>=1.4.0->scikit-plot) (1.15.0)\n",
      "Installing collected packages: scikit-plot\n",
      "Successfully installed scikit-plot-0.3.7\n"
     ]
    }
   ],
   "source": [
    "#!pip install scikit-plot"
   ]
  },
  {
   "cell_type": "code",
   "execution_count": 67,
   "metadata": {
    "colab": {
     "base_uri": "https://localhost:8080/",
     "height": 410
    },
    "colab_type": "code",
    "id": "DCuH_5dbI4br",
    "outputId": "1e731772-f4b0-444c-8cf0-2bad8c3cd58c"
   },
   "outputs": [
    {
     "data": {
      "image/png": "[encoded data removed]",
      "text/plain": [
       "<Figure size 720x432 with 1 Axes>"
      ]
     },
     "metadata": {
      "tags": []
     },
     "output_type": "display_data"
    }
   ],
   "source": [
    "from sklearn.metrics import confusion_matrix,plot_confusion_matrix,roc_curve,auc\n",
    "import matplotlib.pyplot as plt\n",
    "probs = model_lr.predict_proba(X_test)\n",
    "preds = probs[:,1]\n",
    "fpr, tpr, threshold = roc_curve(y_test, preds)\n",
    "roc_auc = auc(fpr, tpr)\n",
    "\n",
    "# method I: plt\n",
    "\n",
    "plt.title('Receiver Operating Characteristic')\n",
    "plt.plot(fpr, tpr, 'b', label = 'AUC = %0.2f' % roc_auc)\n",
    "plt.legend(loc = 'lower right')\n",
    "plt.plot([0, 1], [0, 1],'r--')\n",
    "plt.xlim([0, 1])\n",
    "plt.ylim([0, 1])\n",
    "plt.ylabel('True Positive Rate')\n",
    "plt.xlabel('False Positive Rate')\n",
    "plt.show()"
   ]
  },
  {
   "cell_type": "code",
   "execution_count": 70,
   "metadata": {
    "colab": {
     "base_uri": "https://localhost:8080/",
     "height": 414
    },
    "colab_type": "code",
    "id": "lM14xcVD8eGI",
    "outputId": "6af3cb10-78e7-4cfa-cf1d-7d40a8bc7a06"
   },
   "outputs": [
    {
     "data": {
      "image/png": "[encoded data removed]",
      "text/plain": [
       "<Figure size 720x432 with 1 Axes>"
      ]
     },
     "metadata": {
      "tags": []
     },
     "output_type": "display_data"
    }
   ],
   "source": [
    "import scikitplot as skplt\n",
    "\n",
    "skplt.metrics.plot_roc_curve(y_test, probs)\n",
    "plt.show()"
   ]
  },
  {
   "cell_type": "code",
   "execution_count": 75,
   "metadata": {
    "colab": {
     "base_uri": "https://localhost:8080/",
     "height": 52
    },
    "colab_type": "code",
    "id": "ExJ5MwtuJfeX",
    "outputId": "36b11374-d3b5-49de-8d69-0d9f4beec3de"
   },
   "outputs": [
    {
     "name": "stdout",
     "output_type": "stream",
     "text": [
      "Accuracy: 89.05%\n",
      "0.45522513950525395\n"
     ]
    }
   ],
   "source": [
    "model = XGBClassifier()\n",
    "model.fit(X_train, y_train)\n",
    "# make predictions for test data\n",
    "y_hat = model.predict(X_test)\n",
    "# evaluate predictions\n",
    "accuracy = accuracy_score(y_test, y_hat)\n",
    "print(\"Accuracy: %.2f%%\" % (accuracy * 100.0))\n",
    "print(fbeta_score(y_test, y_hat, average='macro', beta=0.5))"
   ]
  },
  {
   "cell_type": "code",
   "execution_count": 77,
   "metadata": {
    "colab": {
     "base_uri": "https://localhost:8080/",
     "height": 52
    },
    "colab_type": "code",
    "id": "Ot16I1j9Jf2e",
    "outputId": "904255c2-c1b2-480a-f589-030740774e97"
   },
   "outputs": [
    {
     "name": "stdout",
     "output_type": "stream",
     "text": [
      "Accuracy: 89.05%\n",
      "0.45522513950525395\n"
     ]
    }
   ],
   "source": [
    "model_RF = RandomForestClassifier(n_estimators=100)\n",
    "model_RF.fit(X_train, y_train)\n",
    "# make predictions for test data\n",
    "y_hat = model.predict(X_test)\n",
    "# evaluate predictions\n",
    "accuracy = accuracy_score(y_test, y_hat)\n",
    "print(\"Accuracy: %.2f%%\" % (accuracy * 100.0))\n",
    "print(fbeta_score(y_test, y_hat, average='macro', beta=0.5))"
   ]
  },
  {
   "cell_type": "code",
   "execution_count": null,
   "metadata": {
    "colab": {},
    "colab_type": "code",
    "id": "XXKBxCXyJgMG"
   },
   "outputs": [],
   "source": []
  },
  {
   "cell_type": "code",
   "execution_count": null,
   "metadata": {
    "colab": {},
    "colab_type": "code",
    "id": "0wZRNdXfJgCT"
   },
   "outputs": [],
   "source": []
  },
  {
   "cell_type": "code",
   "execution_count": null,
   "metadata": {
    "colab": {},
    "colab_type": "code",
    "id": "9XRb96KQJfrg"
   },
   "outputs": [],
   "source": []
  },
  {
   "cell_type": "code",
   "execution_count": 22,
   "metadata": {
    "colab": {},
    "colab_type": "code",
    "id": "7Z5ZvfqdprN5"
   },
   "outputs": [],
   "source": [
    "clf = BernoulliNB()  #con el modelo bernolli\n",
    "#clf = MultinomialNB()  #con el modelo Multinomial\n",
    "#clf = GaussianNB()  #con el modelo Multinomial"
   ]
  },
  {
   "cell_type": "code",
   "execution_count": 23,
   "metadata": {
    "colab": {},
    "colab_type": "code",
    "id": "H9C-iZAkp5Ei"
   },
   "outputs": [],
   "source": [
    "model_NB = clf.fit(X_train, y_train)"
   ]
  },
  {
   "cell_type": "code",
   "execution_count": 24,
   "metadata": {
    "colab": {
     "base_uri": "https://localhost:8080/",
     "height": 34
    },
    "colab_type": "code",
    "id": "DP7HG0U-qM32",
    "outputId": "e33425a2-b499-4196-a338-a3d6c1d6c330"
   },
   "outputs": [
    {
     "data": {
      "text/plain": [
       "array([1, 1, 1, ..., 1, 1, 1])"
      ]
     },
     "execution_count": 24,
     "metadata": {},
     "output_type": "execute_result"
    }
   ],
   "source": [
    "y_hat = model_NB.predict(X_test) #gnb\n",
    "y_hat"
   ]
  },
  {
   "cell_type": "code",
   "execution_count": 25,
   "metadata": {
    "colab": {
     "base_uri": "https://localhost:8080/",
     "height": 228
    },
    "colab_type": "code",
    "id": "WzY6Q9qwrH_4",
    "outputId": "f81eaeed-cceb-48ed-8f3d-461d96ca2de5"
   },
   "outputs": [
    {
     "name": "stdout",
     "output_type": "stream",
     "text": [
      "Prediction with Logistic Regression:\n",
      "\n",
      "              precision    recall  f1-score   support\n",
      "\n",
      "           0       0.00      0.00      0.00     15129\n",
      "           1       0.89      1.00      0.94    123053\n",
      "\n",
      "    accuracy                           0.89    138182\n",
      "   macro avg       0.45      0.50      0.47    138182\n",
      "weighted avg       0.79      0.89      0.84    138182\n",
      "\n",
      "0.8905139598500529\n"
     ]
    }
   ],
   "source": [
    "print(\"Prediction with Logistic Regression:\")\n",
    "print()\n",
    "print(classification_report(y_test, y_hat))\n",
    "print(accuracy_score(y_test, y_hat))"
   ]
  },
  {
   "cell_type": "code",
   "execution_count": 66,
   "metadata": {
    "colab": {
     "base_uri": "https://localhost:8080/",
     "height": 122
    },
    "colab_type": "code",
    "id": "F_S026RBrRUQ",
    "outputId": "d1bacba9-4c35-447d-c7c0-582fb144d3b8"
   },
   "outputs": [
    {
     "name": "stdout",
     "output_type": "stream",
     "text": [
      "(138182,)\n",
      "[1]\n",
      "<class 'numpy.ndarray'>\n",
      "138182\n",
      "0\n",
      "138182\n"
     ]
    }
   ],
   "source": [
    "print(y_hat.shape)\n",
    "print(np.unique(y_hat))\n",
    "print(type(y_hat))\n",
    "#print(y_test.unique())\n",
    "print(len(y_hat ) )\n",
    "print(len(y_hat[y_hat == 0]  ) )\n",
    "print(len(y_hat[y_hat == 1]  ) )"
   ]
  },
  {
   "cell_type": "code",
   "execution_count": 67,
   "metadata": {
    "colab": {
     "base_uri": "https://localhost:8080/",
     "height": 52
    },
    "colab_type": "code",
    "id": "F5wv4ppB2Hzx",
    "outputId": "3d848ce0-376e-45f2-d187-d25330521162"
   },
   "outputs": [
    {
     "name": "stdout",
     "output_type": "stream",
     "text": [
      "(138182, 2)\n",
      "(2,)\n"
     ]
    }
   ],
   "source": [
    "print(X_test.shape)\n",
    "print(X_test.iloc[57080].shape)"
   ]
  },
  {
   "cell_type": "code",
   "execution_count": 68,
   "metadata": {
    "colab": {
     "base_uri": "https://localhost:8080/",
     "height": 52
    },
    "colab_type": "code",
    "id": "qZmSoysiovXv",
    "outputId": "6bb2bfc0-3020-4d0a-dcde-e1625b25d99c"
   },
   "outputs": [
    {
     "name": "stdout",
     "output_type": "stream",
     "text": [
      "(138182, 2)\n",
      "100588\n"
     ]
    }
   ],
   "source": [
    "print(X_test.shape )\n",
    "print(len(X_test[(X_test[\"HIPERTENSION\"] == 0 ) & (X_test[\"DIABETES\"] == 0 ) ] ) )"
   ]
  },
  {
   "cell_type": "code",
   "execution_count": 69,
   "metadata": {
    "colab": {
     "base_uri": "https://localhost:8080/",
     "height": 402
    },
    "colab_type": "code",
    "id": "5F4ojH1v333v",
    "outputId": "ced705c0-d8ff-473c-cc1c-1e8a9ceace77"
   },
   "outputs": [
    {
     "data": {
      "text/html": [
       "<div>\n",
       "<style scoped>\n",
       "    .dataframe tbody tr th:only-of-type {\n",
       "        vertical-align: middle;\n",
       "    }\n",
       "\n",
       "    .dataframe tbody tr th {\n",
       "        vertical-align: top;\n",
       "    }\n",
       "\n",
       "    .dataframe thead th {\n",
       "        text-align: right;\n",
       "    }\n",
       "</style>\n",
       "<table border=\"1\" class=\"dataframe\">\n",
       "  <thead>\n",
       "    <tr style=\"text-align: right;\">\n",
       "      <th></th>\n",
       "      <th>HIPERTENSION</th>\n",
       "      <th>DIABETES</th>\n",
       "    </tr>\n",
       "  </thead>\n",
       "  <tbody>\n",
       "    <tr>\n",
       "      <th>144808</th>\n",
       "      <td>0.0</td>\n",
       "      <td>0.0</td>\n",
       "    </tr>\n",
       "    <tr>\n",
       "      <th>157523</th>\n",
       "      <td>0.0</td>\n",
       "      <td>0.0</td>\n",
       "    </tr>\n",
       "    <tr>\n",
       "      <th>166532</th>\n",
       "      <td>NaN</td>\n",
       "      <td>NaN</td>\n",
       "    </tr>\n",
       "    <tr>\n",
       "      <th>803317</th>\n",
       "      <td>0.0</td>\n",
       "      <td>0.0</td>\n",
       "    </tr>\n",
       "    <tr>\n",
       "      <th>211880</th>\n",
       "      <td>0.0</td>\n",
       "      <td>0.0</td>\n",
       "    </tr>\n",
       "    <tr>\n",
       "      <th>...</th>\n",
       "      <td>...</td>\n",
       "      <td>...</td>\n",
       "    </tr>\n",
       "    <tr>\n",
       "      <th>170132</th>\n",
       "      <td>0.0</td>\n",
       "      <td>0.0</td>\n",
       "    </tr>\n",
       "    <tr>\n",
       "      <th>232882</th>\n",
       "      <td>0.0</td>\n",
       "      <td>0.0</td>\n",
       "    </tr>\n",
       "    <tr>\n",
       "      <th>636759</th>\n",
       "      <td>0.0</td>\n",
       "      <td>0.0</td>\n",
       "    </tr>\n",
       "    <tr>\n",
       "      <th>709893</th>\n",
       "      <td>0.0</td>\n",
       "      <td>0.0</td>\n",
       "    </tr>\n",
       "    <tr>\n",
       "      <th>742165</th>\n",
       "      <td>0.0</td>\n",
       "      <td>0.0</td>\n",
       "    </tr>\n",
       "  </tbody>\n",
       "</table>\n",
       "<p>138182 rows × 2 columns</p>\n",
       "</div>"
      ],
      "text/plain": [
       "        HIPERTENSION  DIABETES\n",
       "144808           0.0       0.0\n",
       "157523           0.0       0.0\n",
       "166532           NaN       NaN\n",
       "803317           0.0       0.0\n",
       "211880           0.0       0.0\n",
       "...              ...       ...\n",
       "170132           0.0       0.0\n",
       "232882           0.0       0.0\n",
       "636759           0.0       0.0\n",
       "709893           0.0       0.0\n",
       "742165           0.0       0.0\n",
       "\n",
       "[138182 rows x 2 columns]"
      ]
     },
     "execution_count": 69,
     "metadata": {},
     "output_type": "execute_result"
    }
   ],
   "source": [
    "filter =  (X_test[\"HIPERTENSION\"] == 0 ) & (X_test[\"DIABETES\"] == 0 ) \n",
    "# filtering data \n",
    "X_test_flt=X_test.where(filter) \n",
    "X_test_flt"
   ]
  },
  {
   "cell_type": "code",
   "execution_count": 71,
   "metadata": {
    "colab": {
     "base_uri": "https://localhost:8080/",
     "height": 402
    },
    "colab_type": "code",
    "id": "_ZS0R76R6TTh",
    "outputId": "edc15bb4-b3ae-4b34-c675-e8e11b8e5111"
   },
   "outputs": [
    {
     "data": {
      "text/html": [
       "<div>\n",
       "<style scoped>\n",
       "    .dataframe tbody tr th:only-of-type {\n",
       "        vertical-align: middle;\n",
       "    }\n",
       "\n",
       "    .dataframe tbody tr th {\n",
       "        vertical-align: top;\n",
       "    }\n",
       "\n",
       "    .dataframe thead th {\n",
       "        text-align: right;\n",
       "    }\n",
       "</style>\n",
       "<table border=\"1\" class=\"dataframe\">\n",
       "  <thead>\n",
       "    <tr style=\"text-align: right;\">\n",
       "      <th></th>\n",
       "      <th>HIPERTENSION</th>\n",
       "      <th>DIABETES</th>\n",
       "    </tr>\n",
       "  </thead>\n",
       "  <tbody>\n",
       "    <tr>\n",
       "      <th>144808</th>\n",
       "      <td>0.0</td>\n",
       "      <td>0.0</td>\n",
       "    </tr>\n",
       "    <tr>\n",
       "      <th>157523</th>\n",
       "      <td>0.0</td>\n",
       "      <td>0.0</td>\n",
       "    </tr>\n",
       "    <tr>\n",
       "      <th>803317</th>\n",
       "      <td>0.0</td>\n",
       "      <td>0.0</td>\n",
       "    </tr>\n",
       "    <tr>\n",
       "      <th>211880</th>\n",
       "      <td>0.0</td>\n",
       "      <td>0.0</td>\n",
       "    </tr>\n",
       "    <tr>\n",
       "      <th>670773</th>\n",
       "      <td>0.0</td>\n",
       "      <td>0.0</td>\n",
       "    </tr>\n",
       "    <tr>\n",
       "      <th>...</th>\n",
       "      <td>...</td>\n",
       "      <td>...</td>\n",
       "    </tr>\n",
       "    <tr>\n",
       "      <th>170132</th>\n",
       "      <td>0.0</td>\n",
       "      <td>0.0</td>\n",
       "    </tr>\n",
       "    <tr>\n",
       "      <th>232882</th>\n",
       "      <td>0.0</td>\n",
       "      <td>0.0</td>\n",
       "    </tr>\n",
       "    <tr>\n",
       "      <th>636759</th>\n",
       "      <td>0.0</td>\n",
       "      <td>0.0</td>\n",
       "    </tr>\n",
       "    <tr>\n",
       "      <th>709893</th>\n",
       "      <td>0.0</td>\n",
       "      <td>0.0</td>\n",
       "    </tr>\n",
       "    <tr>\n",
       "      <th>742165</th>\n",
       "      <td>0.0</td>\n",
       "      <td>0.0</td>\n",
       "    </tr>\n",
       "  </tbody>\n",
       "</table>\n",
       "<p>100588 rows × 2 columns</p>\n",
       "</div>"
      ],
      "text/plain": [
       "        HIPERTENSION  DIABETES\n",
       "144808           0.0       0.0\n",
       "157523           0.0       0.0\n",
       "803317           0.0       0.0\n",
       "211880           0.0       0.0\n",
       "670773           0.0       0.0\n",
       "...              ...       ...\n",
       "170132           0.0       0.0\n",
       "232882           0.0       0.0\n",
       "636759           0.0       0.0\n",
       "709893           0.0       0.0\n",
       "742165           0.0       0.0\n",
       "\n",
       "[100588 rows x 2 columns]"
      ]
     },
     "execution_count": 71,
     "metadata": {},
     "output_type": "execute_result"
    }
   ],
   "source": [
    "X_test_flt1=X_test_flt.dropna(axis=0, how='any')\n",
    "X_test_flt1"
   ]
  },
  {
   "cell_type": "code",
   "execution_count": 72,
   "metadata": {
    "colab": {
     "base_uri": "https://localhost:8080/",
     "height": 34
    },
    "colab_type": "code",
    "id": "phVapiMh7Dtg",
    "outputId": "6ead9cc0-f517-427b-fa23-90d49ebc7248"
   },
   "outputs": [
    {
     "data": {
      "text/plain": [
       "array([1, 1, 1, ..., 1, 1, 1])"
      ]
     },
     "execution_count": 72,
     "metadata": {},
     "output_type": "execute_result"
    }
   ],
   "source": [
    "y_hat_flt = model_NB.predict(X_test_flt1)\n",
    "y_hat_flt"
   ]
  },
  {
   "cell_type": "code",
   "execution_count": 73,
   "metadata": {
    "colab": {
     "base_uri": "https://localhost:8080/",
     "height": 122
    },
    "colab_type": "code",
    "id": "5R3I_tq97ak3",
    "outputId": "89a46c33-4011-4d8a-90e7-6d77b02ed43d"
   },
   "outputs": [
    {
     "name": "stdout",
     "output_type": "stream",
     "text": [
      "(100588,)\n",
      "[1]\n",
      "<class 'numpy.ndarray'>\n",
      "100588\n",
      "0\n",
      "100588\n"
     ]
    }
   ],
   "source": [
    "print(y_hat_flt.shape)\n",
    "print(np.unique(y_hat_flt))\n",
    "print(type(y_hat_flt))\n",
    "#print(y_test.unique())\n",
    "print(len(y_hat_flt ) )\n",
    "print(len(y_hat_flt[y_hat_flt == 0]  ) )\n",
    "print(len(y_hat_flt[y_hat_flt == 1]  ) )"
   ]
  },
  {
   "cell_type": "code",
   "execution_count": 74,
   "metadata": {
    "colab": {
     "base_uri": "https://localhost:8080/",
     "height": 52
    },
    "colab_type": "code",
    "id": "tFc8ysb-rY-c",
    "outputId": "dcabc607-9a4f-42c1-bef3-2959941daecb"
   },
   "outputs": [
    {
     "name": "stdout",
     "output_type": "stream",
     "text": [
      "[1]\n",
      "[1]\n"
     ]
    }
   ],
   "source": [
    "print(clf.predict(X_test.iloc[57079][:, np.newaxis].T))\n",
    "print(clf.predict(X_test.iloc[57080][:, np.newaxis].T))"
   ]
  },
  {
   "cell_type": "code",
   "execution_count": 75,
   "metadata": {
    "colab": {
     "base_uri": "https://localhost:8080/",
     "height": 158
    },
    "colab_type": "code",
    "id": "KJ6bdiy1txmU",
    "outputId": "2b483692-0626-427c-953e-afd1f40f46e1"
   },
   "outputs": [
    {
     "ename": "TypeError",
     "evalue": "'DataFrame' object is not callable",
     "output_type": "error",
     "traceback": [
      "\u001b[0;31m---------------------------------------------------------------------------\u001b[0m",
      "\u001b[0;31mTypeError\u001b[0m                                 Traceback (most recent call last)",
      "\u001b[0;32m<ipython-input-75-de42f0a3cf83>\u001b[0m in \u001b[0;36m<module>\u001b[0;34m\u001b[0m\n\u001b[0;32m----> 1\u001b[0;31m \u001b[0mdf_cm\u001b[0m\u001b[0;34m=\u001b[0m\u001b[0mconfusion_matrix\u001b[0m\u001b[0;34m(\u001b[0m\u001b[0my_test\u001b[0m\u001b[0;34m,\u001b[0m \u001b[0my_hat\u001b[0m\u001b[0;34m)\u001b[0m\u001b[0;34m\u001b[0m\u001b[0;34m\u001b[0m\u001b[0m\n\u001b[0m\u001b[1;32m      2\u001b[0m \u001b[0mTN\u001b[0m  \u001b[0;34m=\u001b[0m \u001b[0mdf_cm\u001b[0m\u001b[0;34m[\u001b[0m\u001b[0;36m0\u001b[0m\u001b[0;34m]\u001b[0m\u001b[0;34m[\u001b[0m\u001b[0;36m0\u001b[0m\u001b[0;34m]\u001b[0m\u001b[0;34m\u001b[0m\u001b[0;34m\u001b[0m\u001b[0m\n\u001b[1;32m      3\u001b[0m \u001b[0mFN\u001b[0m  \u001b[0;34m=\u001b[0m \u001b[0mdf_cm\u001b[0m\u001b[0;34m[\u001b[0m\u001b[0;36m1\u001b[0m\u001b[0;34m]\u001b[0m\u001b[0;34m[\u001b[0m\u001b[0;36m0\u001b[0m\u001b[0;34m]\u001b[0m\u001b[0;34m\u001b[0m\u001b[0;34m\u001b[0m\u001b[0m\n\u001b[1;32m      4\u001b[0m \u001b[0mTP\u001b[0m  \u001b[0;34m=\u001b[0m \u001b[0mdf_cm\u001b[0m\u001b[0;34m[\u001b[0m\u001b[0;36m1\u001b[0m\u001b[0;34m]\u001b[0m\u001b[0;34m[\u001b[0m\u001b[0;36m1\u001b[0m\u001b[0;34m]\u001b[0m\u001b[0;34m\u001b[0m\u001b[0;34m\u001b[0m\u001b[0m\n\u001b[1;32m      5\u001b[0m \u001b[0mFP\u001b[0m  \u001b[0;34m=\u001b[0m \u001b[0mdf_cm\u001b[0m\u001b[0;34m[\u001b[0m\u001b[0;36m0\u001b[0m\u001b[0;34m]\u001b[0m\u001b[0;34m[\u001b[0m\u001b[0;36m1\u001b[0m\u001b[0;34m]\u001b[0m\u001b[0;34m\u001b[0m\u001b[0;34m\u001b[0m\u001b[0m\n",
      "\u001b[0;31mTypeError\u001b[0m: 'DataFrame' object is not callable"
     ]
    }
   ],
   "source": [
    "df_cm=confusion_matrix(y_test, y_hat)\n",
    "TN  = df_cm[0][0]\n",
    "FN  = df_cm[1][0]\n",
    "TP  = df_cm[1][1]\n",
    "FP  = df_cm[0][1]\n",
    "PPV = TP/(TP + FP)\n",
    "NPV = TN/(FN + TN)\n",
    "Sensitivity       = TP/(TP + FN)\n",
    "Spec = TN/(FP + TN)\n",
    "print('TN = ',TN)\n",
    "print('FN = ',FN)\n",
    "print('TP = ',TP)\n",
    "print('FN = ',FP)\n",
    "print('PPV = ',PPV)\n",
    "print('NPV = ',NPV)\n",
    "print('Sensitivity = ',Sensitivity)\n",
    "print('Specificitivity = ',Spec)"
   ]
  },
  {
   "cell_type": "code",
   "execution_count": 76,
   "metadata": {
    "colab": {
     "base_uri": "https://localhost:8080/",
     "height": 414
    },
    "colab_type": "code",
    "id": "mWkXhQ-3rayH",
    "outputId": "ec4e5459-0e11-434f-9ad5-d1d18601af20"
   },
   "outputs": [
    {
     "data": {
      "text/plain": [
       "<Figure size 720x432 with 0 Axes>"
      ]
     },
     "metadata": {},
     "output_type": "display_data"
    },
    {
     "data": {
      "image/png": "[encoded data removed]",
      "text/plain": [
       "<Figure size 720x432 with 2 Axes>"
      ]
     },
     "metadata": {},
     "output_type": "display_data"
    }
   ],
   "source": [
    "fig = plt.figure()\n",
    "disp = plot_confusion_matrix(clf, X_test, y_test,\n",
    "                            #  display_labels=['1','0'],\n",
    "                             cmap=plt.cm.Reds, normalize = 'all'\n",
    "                            )"
   ]
  },
  {
   "cell_type": "code",
   "execution_count": null,
   "metadata": {
    "colab": {
     "base_uri": "https://localhost:8080/",
     "height": 502
    },
    "colab_type": "code",
    "id": "pde_ANK3vLZU",
    "outputId": "92993bcc-f3a1-410b-e0e2-c69d824490e5"
   },
   "outputs": [
    {
     "data": {
      "text/plain": [
       "[<matplotlib.lines.Line2D at 0x7f18e86c96a0>]"
      ]
     },
     "execution_count": 111,
     "metadata": {
      "tags": []
     },
     "output_type": "execute_result"
    },
    {
     "data": {
      "image/png": "[encoded data removed]",
      "text/plain": [
       "<Figure size 720x576 with 1 Axes>"
      ]
     },
     "metadata": {
      "tags": []
     },
     "output_type": "display_data"
    }
   ],
   "source": [
    "#Graph accuracy vs k for K-NN\n",
    "acc_knn = []\n",
    "max_neigh = 15\n",
    "for k in range(1,max_neigh):\n",
    "    knn_m = KNeighborsClassifier(n_neighbors=k)    \n",
    "    model_knn = make_pipeline(sclr_01,polyFt_m,sel,knn_m)\n",
    "    model_knn.fit(X_train,y_train[:, np.newaxis]) \n",
    "    y_hatknn = model_knn.predict(X_test)\n",
    "    acc = accuracy_score(y_test, y_hatknn)\n",
    "    acc_knn.append(acc)\n",
    "plt.figure(figsize=(10,8))\n",
    "plt.plot(range(1,max_neigh), acc_knn, color = 'g', linewidth=1.3)"
   ]
  },
  {
   "cell_type": "code",
   "execution_count": 146,
   "metadata": {
    "colab": {},
    "colab_type": "code",
    "id": "KaU5m5A62RT3"
   },
   "outputs": [],
   "source": [
    "df0 = pd.read_csv('200806COVID19MEXICO.csv',\n",
    "                  encoding='latin1', low_memory=False)\n",
    "df = df0[(df0[\"RESULTADO\"] == 1)]\n",
    "df['FECHA_DEF'] = (df['FECHA_DEF'] == '9999-99-99').astype(int)\n",
    "\n",
    "Hosp_df = df[(df[\"TIPO_PACIENTE\"] == 2) ]"
   ]
  },
  {
   "cell_type": "code",
   "execution_count": 147,
   "metadata": {
    "colab": {
     "base_uri": "https://localhost:8080/",
     "height": 422
    },
    "colab_type": "code",
    "id": "jMPFvp8kQiz-",
    "outputId": "e422d2ae-5243-4863-d1bd-7abea38145fc"
   },
   "outputs": [
    {
     "data": {
      "text/html": [
       "<div>\n",
       "<style scoped>\n",
       "    .dataframe tbody tr th:only-of-type {\n",
       "        vertical-align: middle;\n",
       "    }\n",
       "\n",
       "    .dataframe tbody tr th {\n",
       "        vertical-align: top;\n",
       "    }\n",
       "\n",
       "    .dataframe thead th {\n",
       "        text-align: right;\n",
       "    }\n",
       "</style>\n",
       "<table border=\"1\" class=\"dataframe\">\n",
       "  <thead>\n",
       "    <tr style=\"text-align: right;\">\n",
       "      <th></th>\n",
       "      <th>FECHA_ACTUALIZACION</th>\n",
       "      <th>ID_REGISTRO</th>\n",
       "      <th>ORIGEN</th>\n",
       "      <th>SECTOR</th>\n",
       "      <th>ENTIDAD_UM</th>\n",
       "      <th>SEXO</th>\n",
       "      <th>ENTIDAD_NAC</th>\n",
       "      <th>ENTIDAD_RES</th>\n",
       "      <th>MUNICIPIO_RES</th>\n",
       "      <th>TIPO_PACIENTE</th>\n",
       "      <th>...</th>\n",
       "      <th>CARDIOVASCULAR</th>\n",
       "      <th>OBESIDAD</th>\n",
       "      <th>RENAL_CRONICA</th>\n",
       "      <th>TABAQUISMO</th>\n",
       "      <th>OTRO_CASO</th>\n",
       "      <th>RESULTADO</th>\n",
       "      <th>MIGRANTE</th>\n",
       "      <th>PAIS_NACIONALIDAD</th>\n",
       "      <th>PAIS_ORIGEN</th>\n",
       "      <th>UCI</th>\n",
       "    </tr>\n",
       "  </thead>\n",
       "  <tbody>\n",
       "    <tr>\n",
       "      <th>5</th>\n",
       "      <td>2020-08-06</td>\n",
       "      <td>02b8bd</td>\n",
       "      <td>2</td>\n",
       "      <td>3</td>\n",
       "      <td>25</td>\n",
       "      <td>2</td>\n",
       "      <td>25</td>\n",
       "      <td>25</td>\n",
       "      <td>6</td>\n",
       "      <td>2</td>\n",
       "      <td>...</td>\n",
       "      <td>2</td>\n",
       "      <td>2</td>\n",
       "      <td>2</td>\n",
       "      <td>1</td>\n",
       "      <td>99</td>\n",
       "      <td>1</td>\n",
       "      <td>99</td>\n",
       "      <td>MÃ©xico</td>\n",
       "      <td>99</td>\n",
       "      <td>2</td>\n",
       "    </tr>\n",
       "    <tr>\n",
       "      <th>7</th>\n",
       "      <td>2020-08-06</td>\n",
       "      <td>11bd78</td>\n",
       "      <td>2</td>\n",
       "      <td>3</td>\n",
       "      <td>2</td>\n",
       "      <td>2</td>\n",
       "      <td>2</td>\n",
       "      <td>2</td>\n",
       "      <td>2</td>\n",
       "      <td>2</td>\n",
       "      <td>...</td>\n",
       "      <td>2</td>\n",
       "      <td>2</td>\n",
       "      <td>2</td>\n",
       "      <td>2</td>\n",
       "      <td>99</td>\n",
       "      <td>1</td>\n",
       "      <td>99</td>\n",
       "      <td>MÃ©xico</td>\n",
       "      <td>99</td>\n",
       "      <td>2</td>\n",
       "    </tr>\n",
       "    <tr>\n",
       "      <th>8</th>\n",
       "      <td>2020-08-06</td>\n",
       "      <td>0ea851</td>\n",
       "      <td>2</td>\n",
       "      <td>4</td>\n",
       "      <td>15</td>\n",
       "      <td>1</td>\n",
       "      <td>15</td>\n",
       "      <td>15</td>\n",
       "      <td>58</td>\n",
       "      <td>2</td>\n",
       "      <td>...</td>\n",
       "      <td>2</td>\n",
       "      <td>2</td>\n",
       "      <td>2</td>\n",
       "      <td>2</td>\n",
       "      <td>99</td>\n",
       "      <td>1</td>\n",
       "      <td>99</td>\n",
       "      <td>MÃ©xico</td>\n",
       "      <td>99</td>\n",
       "      <td>2</td>\n",
       "    </tr>\n",
       "    <tr>\n",
       "      <th>11</th>\n",
       "      <td>2020-08-06</td>\n",
       "      <td>0aa887</td>\n",
       "      <td>2</td>\n",
       "      <td>4</td>\n",
       "      <td>9</td>\n",
       "      <td>1</td>\n",
       "      <td>9</td>\n",
       "      <td>9</td>\n",
       "      <td>8</td>\n",
       "      <td>2</td>\n",
       "      <td>...</td>\n",
       "      <td>2</td>\n",
       "      <td>2</td>\n",
       "      <td>2</td>\n",
       "      <td>2</td>\n",
       "      <td>99</td>\n",
       "      <td>1</td>\n",
       "      <td>99</td>\n",
       "      <td>MÃ©xico</td>\n",
       "      <td>99</td>\n",
       "      <td>2</td>\n",
       "    </tr>\n",
       "    <tr>\n",
       "      <th>16</th>\n",
       "      <td>2020-08-06</td>\n",
       "      <td>1cf600</td>\n",
       "      <td>2</td>\n",
       "      <td>4</td>\n",
       "      <td>9</td>\n",
       "      <td>1</td>\n",
       "      <td>21</td>\n",
       "      <td>9</td>\n",
       "      <td>2</td>\n",
       "      <td>2</td>\n",
       "      <td>...</td>\n",
       "      <td>2</td>\n",
       "      <td>2</td>\n",
       "      <td>2</td>\n",
       "      <td>2</td>\n",
       "      <td>99</td>\n",
       "      <td>1</td>\n",
       "      <td>99</td>\n",
       "      <td>MÃ©xico</td>\n",
       "      <td>99</td>\n",
       "      <td>2</td>\n",
       "    </tr>\n",
       "    <tr>\n",
       "      <th>...</th>\n",
       "      <td>...</td>\n",
       "      <td>...</td>\n",
       "      <td>...</td>\n",
       "      <td>...</td>\n",
       "      <td>...</td>\n",
       "      <td>...</td>\n",
       "      <td>...</td>\n",
       "      <td>...</td>\n",
       "      <td>...</td>\n",
       "      <td>...</td>\n",
       "      <td>...</td>\n",
       "      <td>...</td>\n",
       "      <td>...</td>\n",
       "      <td>...</td>\n",
       "      <td>...</td>\n",
       "      <td>...</td>\n",
       "      <td>...</td>\n",
       "      <td>...</td>\n",
       "      <td>...</td>\n",
       "      <td>...</td>\n",
       "      <td>...</td>\n",
       "    </tr>\n",
       "    <tr>\n",
       "      <th>813186</th>\n",
       "      <td>2020-08-06</td>\n",
       "      <td>1dc044</td>\n",
       "      <td>1</td>\n",
       "      <td>12</td>\n",
       "      <td>21</td>\n",
       "      <td>2</td>\n",
       "      <td>30</td>\n",
       "      <td>21</td>\n",
       "      <td>174</td>\n",
       "      <td>2</td>\n",
       "      <td>...</td>\n",
       "      <td>2</td>\n",
       "      <td>2</td>\n",
       "      <td>2</td>\n",
       "      <td>2</td>\n",
       "      <td>2</td>\n",
       "      <td>1</td>\n",
       "      <td>99</td>\n",
       "      <td>MÃ©xico</td>\n",
       "      <td>99</td>\n",
       "      <td>2</td>\n",
       "    </tr>\n",
       "    <tr>\n",
       "      <th>813212</th>\n",
       "      <td>2020-08-06</td>\n",
       "      <td>0ecc0c</td>\n",
       "      <td>1</td>\n",
       "      <td>6</td>\n",
       "      <td>17</td>\n",
       "      <td>1</td>\n",
       "      <td>17</td>\n",
       "      <td>17</td>\n",
       "      <td>11</td>\n",
       "      <td>2</td>\n",
       "      <td>...</td>\n",
       "      <td>2</td>\n",
       "      <td>2</td>\n",
       "      <td>2</td>\n",
       "      <td>2</td>\n",
       "      <td>2</td>\n",
       "      <td>1</td>\n",
       "      <td>99</td>\n",
       "      <td>MÃ©xico</td>\n",
       "      <td>99</td>\n",
       "      <td>2</td>\n",
       "    </tr>\n",
       "    <tr>\n",
       "      <th>813219</th>\n",
       "      <td>2020-08-06</td>\n",
       "      <td>16a184</td>\n",
       "      <td>2</td>\n",
       "      <td>4</td>\n",
       "      <td>30</td>\n",
       "      <td>2</td>\n",
       "      <td>30</td>\n",
       "      <td>30</td>\n",
       "      <td>21</td>\n",
       "      <td>2</td>\n",
       "      <td>...</td>\n",
       "      <td>2</td>\n",
       "      <td>1</td>\n",
       "      <td>2</td>\n",
       "      <td>1</td>\n",
       "      <td>99</td>\n",
       "      <td>1</td>\n",
       "      <td>99</td>\n",
       "      <td>MÃ©xico</td>\n",
       "      <td>99</td>\n",
       "      <td>2</td>\n",
       "    </tr>\n",
       "    <tr>\n",
       "      <th>813232</th>\n",
       "      <td>2020-08-06</td>\n",
       "      <td>183a69</td>\n",
       "      <td>2</td>\n",
       "      <td>10</td>\n",
       "      <td>19</td>\n",
       "      <td>1</td>\n",
       "      <td>12</td>\n",
       "      <td>19</td>\n",
       "      <td>21</td>\n",
       "      <td>2</td>\n",
       "      <td>...</td>\n",
       "      <td>1</td>\n",
       "      <td>1</td>\n",
       "      <td>2</td>\n",
       "      <td>2</td>\n",
       "      <td>2</td>\n",
       "      <td>1</td>\n",
       "      <td>99</td>\n",
       "      <td>MÃ©xico</td>\n",
       "      <td>99</td>\n",
       "      <td>2</td>\n",
       "    </tr>\n",
       "    <tr>\n",
       "      <th>813240</th>\n",
       "      <td>2020-08-06</td>\n",
       "      <td>181359</td>\n",
       "      <td>1</td>\n",
       "      <td>12</td>\n",
       "      <td>27</td>\n",
       "      <td>2</td>\n",
       "      <td>4</td>\n",
       "      <td>27</td>\n",
       "      <td>9</td>\n",
       "      <td>2</td>\n",
       "      <td>...</td>\n",
       "      <td>2</td>\n",
       "      <td>2</td>\n",
       "      <td>2</td>\n",
       "      <td>2</td>\n",
       "      <td>1</td>\n",
       "      <td>1</td>\n",
       "      <td>99</td>\n",
       "      <td>MÃ©xico</td>\n",
       "      <td>99</td>\n",
       "      <td>2</td>\n",
       "    </tr>\n",
       "  </tbody>\n",
       "</table>\n",
       "<p>123105 rows × 35 columns</p>\n",
       "</div>"
      ],
      "text/plain": [
       "       FECHA_ACTUALIZACION ID_REGISTRO  ORIGEN  SECTOR  ENTIDAD_UM  SEXO  \\\n",
       "5               2020-08-06      02b8bd       2       3          25     2   \n",
       "7               2020-08-06      11bd78       2       3           2     2   \n",
       "8               2020-08-06      0ea851       2       4          15     1   \n",
       "11              2020-08-06      0aa887       2       4           9     1   \n",
       "16              2020-08-06      1cf600       2       4           9     1   \n",
       "...                    ...         ...     ...     ...         ...   ...   \n",
       "813186          2020-08-06      1dc044       1      12          21     2   \n",
       "813212          2020-08-06      0ecc0c       1       6          17     1   \n",
       "813219          2020-08-06      16a184       2       4          30     2   \n",
       "813232          2020-08-06      183a69       2      10          19     1   \n",
       "813240          2020-08-06      181359       1      12          27     2   \n",
       "\n",
       "        ENTIDAD_NAC  ENTIDAD_RES  MUNICIPIO_RES  TIPO_PACIENTE  ...  \\\n",
       "5                25           25              6              2  ...   \n",
       "7                 2            2              2              2  ...   \n",
       "8                15           15             58              2  ...   \n",
       "11                9            9              8              2  ...   \n",
       "16               21            9              2              2  ...   \n",
       "...             ...          ...            ...            ...  ...   \n",
       "813186           30           21            174              2  ...   \n",
       "813212           17           17             11              2  ...   \n",
       "813219           30           30             21              2  ...   \n",
       "813232           12           19             21              2  ...   \n",
       "813240            4           27              9              2  ...   \n",
       "\n",
       "       CARDIOVASCULAR OBESIDAD  RENAL_CRONICA  TABAQUISMO  OTRO_CASO  \\\n",
       "5                   2        2              2           1         99   \n",
       "7                   2        2              2           2         99   \n",
       "8                   2        2              2           2         99   \n",
       "11                  2        2              2           2         99   \n",
       "16                  2        2              2           2         99   \n",
       "...               ...      ...            ...         ...        ...   \n",
       "813186              2        2              2           2          2   \n",
       "813212              2        2              2           2          2   \n",
       "813219              2        1              2           1         99   \n",
       "813232              1        1              2           2          2   \n",
       "813240              2        2              2           2          1   \n",
       "\n",
       "        RESULTADO  MIGRANTE  PAIS_NACIONALIDAD  PAIS_ORIGEN  UCI  \n",
       "5               1        99            MÃ©xico           99    2  \n",
       "7               1        99            MÃ©xico           99    2  \n",
       "8               1        99            MÃ©xico           99    2  \n",
       "11              1        99            MÃ©xico           99    2  \n",
       "16              1        99            MÃ©xico           99    2  \n",
       "...           ...       ...                ...          ...  ...  \n",
       "813186          1        99            MÃ©xico           99    2  \n",
       "813212          1        99            MÃ©xico           99    2  \n",
       "813219          1        99            MÃ©xico           99    2  \n",
       "813232          1        99            MÃ©xico           99    2  \n",
       "813240          1        99            MÃ©xico           99    2  \n",
       "\n",
       "[123105 rows x 35 columns]"
      ]
     },
     "execution_count": 147,
     "metadata": {},
     "output_type": "execute_result"
    }
   ],
   "source": [
    "clean_df=Hosp_df.drop(Hosp_df[ (df[\"NEUMONIA\"] == 99) \n",
    "                    | (Hosp_df[\"DIABETES\"] == 98 ) | (Hosp_df[\"HIPERTENSION\"] == 98)\n",
    "                    | (Hosp_df[\"OBESIDAD\"] == 98) | (Hosp_df[\"TABAQUISMO\"] == 98)\n",
    "                   ].index)\n",
    "clean_df"
   ]
  },
  {
   "cell_type": "code",
   "execution_count": 148,
   "metadata": {
    "colab": {
     "base_uri": "https://localhost:8080/",
     "height": 175
    },
    "colab_type": "code",
    "id": "qE6ARo-FXaqi",
    "outputId": "413067c3-4829-4395-f1e4-67a1dbd56e0f"
   },
   "outputs": [
    {
     "name": "stdout",
     "output_type": "stream",
     "text": [
      "0\n",
      "33\n",
      "20\n",
      "76\n",
      "0\n",
      "59\n",
      "0\n",
      "39\n",
      "0\n"
     ]
    }
   ],
   "source": [
    "missing_diabetes       = clean_df[\"DIABETES\"].isin([98]).sum()\n",
    "missing_epoc           = clean_df[\"EPOC\"].isin([98]).sum()\n",
    "missing_asma           = clean_df[\"ASMA\"].isin([98]).sum()\n",
    "missing_inmusupr       = clean_df[\"INMUSUPR\"].isin([98]).sum()\n",
    "missing_hipertension   = clean_df[\"HIPERTENSION\"].isin([98]).sum()\n",
    "missing_cardiovascular = clean_df[\"CARDIOVASCULAR\"].isin([98]).sum()\n",
    "missing_obesidad       = clean_df[\"OBESIDAD\"].isin([98]).sum()\n",
    "missing_renal_cronica  = clean_df[\"RENAL_CRONICA\"].isin([98]).sum()\n",
    "missing_tabaquismo     = clean_df[\"TABAQUISMO\"].isin([98]).sum()\n",
    "print(missing_diabetes)\n",
    "print(missing_epoc)\n",
    "print(missing_asma)\n",
    "print(missing_inmusupr)\n",
    "print(missing_hipertension)\n",
    "print(missing_cardiovascular)\n",
    "print(missing_obesidad)\n",
    "print(missing_renal_cronica)\n",
    "print(missing_tabaquismo)"
   ]
  },
  {
   "cell_type": "code",
   "execution_count": 149,
   "metadata": {
    "colab": {
     "base_uri": "https://localhost:8080/",
     "height": 402
    },
    "colab_type": "code",
    "id": "1zmRjeHkX3gY",
    "outputId": "bebc85ca-4f52-4700-b709-34346778618b"
   },
   "outputs": [
    {
     "data": {
      "text/html": [
       "<div>\n",
       "<style scoped>\n",
       "    .dataframe tbody tr th:only-of-type {\n",
       "        vertical-align: middle;\n",
       "    }\n",
       "\n",
       "    .dataframe tbody tr th {\n",
       "        vertical-align: top;\n",
       "    }\n",
       "\n",
       "    .dataframe thead th {\n",
       "        text-align: right;\n",
       "    }\n",
       "</style>\n",
       "<table border=\"1\" class=\"dataframe\">\n",
       "  <thead>\n",
       "    <tr style=\"text-align: right;\">\n",
       "      <th></th>\n",
       "      <th>HIPERTENSION</th>\n",
       "      <th>OBESIDAD</th>\n",
       "      <th>DIABETES</th>\n",
       "      <th>TABAQUISMO</th>\n",
       "      <th>SURVIVED</th>\n",
       "    </tr>\n",
       "  </thead>\n",
       "  <tbody>\n",
       "    <tr>\n",
       "      <th>5</th>\n",
       "      <td>1</td>\n",
       "      <td>2</td>\n",
       "      <td>2</td>\n",
       "      <td>1</td>\n",
       "      <td>1</td>\n",
       "    </tr>\n",
       "    <tr>\n",
       "      <th>7</th>\n",
       "      <td>1</td>\n",
       "      <td>2</td>\n",
       "      <td>1</td>\n",
       "      <td>2</td>\n",
       "      <td>1</td>\n",
       "    </tr>\n",
       "    <tr>\n",
       "      <th>8</th>\n",
       "      <td>2</td>\n",
       "      <td>2</td>\n",
       "      <td>2</td>\n",
       "      <td>2</td>\n",
       "      <td>0</td>\n",
       "    </tr>\n",
       "    <tr>\n",
       "      <th>11</th>\n",
       "      <td>2</td>\n",
       "      <td>2</td>\n",
       "      <td>1</td>\n",
       "      <td>2</td>\n",
       "      <td>0</td>\n",
       "    </tr>\n",
       "    <tr>\n",
       "      <th>16</th>\n",
       "      <td>1</td>\n",
       "      <td>2</td>\n",
       "      <td>2</td>\n",
       "      <td>2</td>\n",
       "      <td>0</td>\n",
       "    </tr>\n",
       "    <tr>\n",
       "      <th>...</th>\n",
       "      <td>...</td>\n",
       "      <td>...</td>\n",
       "      <td>...</td>\n",
       "      <td>...</td>\n",
       "      <td>...</td>\n",
       "    </tr>\n",
       "    <tr>\n",
       "      <th>813186</th>\n",
       "      <td>1</td>\n",
       "      <td>2</td>\n",
       "      <td>2</td>\n",
       "      <td>2</td>\n",
       "      <td>0</td>\n",
       "    </tr>\n",
       "    <tr>\n",
       "      <th>813212</th>\n",
       "      <td>2</td>\n",
       "      <td>2</td>\n",
       "      <td>2</td>\n",
       "      <td>2</td>\n",
       "      <td>1</td>\n",
       "    </tr>\n",
       "    <tr>\n",
       "      <th>813219</th>\n",
       "      <td>2</td>\n",
       "      <td>1</td>\n",
       "      <td>1</td>\n",
       "      <td>1</td>\n",
       "      <td>1</td>\n",
       "    </tr>\n",
       "    <tr>\n",
       "      <th>813232</th>\n",
       "      <td>1</td>\n",
       "      <td>1</td>\n",
       "      <td>2</td>\n",
       "      <td>2</td>\n",
       "      <td>1</td>\n",
       "    </tr>\n",
       "    <tr>\n",
       "      <th>813240</th>\n",
       "      <td>2</td>\n",
       "      <td>2</td>\n",
       "      <td>2</td>\n",
       "      <td>2</td>\n",
       "      <td>1</td>\n",
       "    </tr>\n",
       "  </tbody>\n",
       "</table>\n",
       "<p>123105 rows × 5 columns</p>\n",
       "</div>"
      ],
      "text/plain": [
       "        HIPERTENSION  OBESIDAD  DIABETES  TABAQUISMO  SURVIVED\n",
       "5                  1         2         2           1         1\n",
       "7                  1         2         1           2         1\n",
       "8                  2         2         2           2         0\n",
       "11                 2         2         1           2         0\n",
       "16                 1         2         2           2         0\n",
       "...              ...       ...       ...         ...       ...\n",
       "813186             1         2         2           2         0\n",
       "813212             2         2         2           2         1\n",
       "813219             2         1         1           1         1\n",
       "813232             1         1         2           2         1\n",
       "813240             2         2         2           2         1\n",
       "\n",
       "[123105 rows x 5 columns]"
      ]
     },
     "execution_count": 149,
     "metadata": {},
     "output_type": "execute_result"
    }
   ],
   "source": [
    "clean_df.rename(columns={'FECHA_DEF':'SURVIVED'}, inplace=True)\n",
    "\n",
    "cormob_df=clean_df[[\"HIPERTENSION\", \"OBESIDAD\",\"DIABETES\",\"TABAQUISMO\",\"SURVIVED\"]]\n",
    "cormob_df"
   ]
  },
  {
   "cell_type": "code",
   "execution_count": 150,
   "metadata": {
    "colab": {
     "base_uri": "https://localhost:8080/",
     "height": 373
    },
    "colab_type": "code",
    "id": "5w2NCupelp4Y",
    "outputId": "1e3cea69-1366-49f0-966f-7aafd6d9b514"
   },
   "outputs": [
    {
     "data": {
      "image/png": "[encoded data removed]",
      "text/plain": [
       "<Figure size 432x432 with 1 Axes>"
      ]
     },
     "metadata": {},
     "output_type": "display_data"
    }
   ],
   "source": [
    "plot = clean_df['SURVIVED'].value_counts().plot(kind='pie', autopct='%.2f', \n",
    "                                            figsize=(6, 6),\n",
    "                                            title='MORTALIDAD')"
   ]
  },
  {
   "cell_type": "code",
   "execution_count": 82,
   "metadata": {
    "colab": {
     "base_uri": "https://localhost:8080/",
     "height": 402
    },
    "colab_type": "code",
    "id": "tpHvEcWYYmPq",
    "outputId": "69b9138b-8de2-45ad-8073-bb18e3e42316"
   },
   "outputs": [
    {
     "data": {
      "text/html": [
       "<div>\n",
       "<style scoped>\n",
       "    .dataframe tbody tr th:only-of-type {\n",
       "        vertical-align: middle;\n",
       "    }\n",
       "\n",
       "    .dataframe tbody tr th {\n",
       "        vertical-align: top;\n",
       "    }\n",
       "\n",
       "    .dataframe thead th {\n",
       "        text-align: right;\n",
       "    }\n",
       "</style>\n",
       "<table border=\"1\" class=\"dataframe\">\n",
       "  <thead>\n",
       "    <tr style=\"text-align: right;\">\n",
       "      <th></th>\n",
       "      <th>HIPERTENSION</th>\n",
       "      <th>OBESIDAD</th>\n",
       "      <th>DIABETES</th>\n",
       "      <th>TABAQUISMO</th>\n",
       "      <th>SURVIVED</th>\n",
       "    </tr>\n",
       "  </thead>\n",
       "  <tbody>\n",
       "    <tr>\n",
       "      <th>5</th>\n",
       "      <td>1</td>\n",
       "      <td>0</td>\n",
       "      <td>0</td>\n",
       "      <td>1</td>\n",
       "      <td>1</td>\n",
       "    </tr>\n",
       "    <tr>\n",
       "      <th>7</th>\n",
       "      <td>1</td>\n",
       "      <td>0</td>\n",
       "      <td>1</td>\n",
       "      <td>0</td>\n",
       "      <td>1</td>\n",
       "    </tr>\n",
       "    <tr>\n",
       "      <th>8</th>\n",
       "      <td>0</td>\n",
       "      <td>0</td>\n",
       "      <td>0</td>\n",
       "      <td>0</td>\n",
       "      <td>0</td>\n",
       "    </tr>\n",
       "    <tr>\n",
       "      <th>11</th>\n",
       "      <td>0</td>\n",
       "      <td>0</td>\n",
       "      <td>1</td>\n",
       "      <td>0</td>\n",
       "      <td>0</td>\n",
       "    </tr>\n",
       "    <tr>\n",
       "      <th>16</th>\n",
       "      <td>1</td>\n",
       "      <td>0</td>\n",
       "      <td>0</td>\n",
       "      <td>0</td>\n",
       "      <td>0</td>\n",
       "    </tr>\n",
       "    <tr>\n",
       "      <th>...</th>\n",
       "      <td>...</td>\n",
       "      <td>...</td>\n",
       "      <td>...</td>\n",
       "      <td>...</td>\n",
       "      <td>...</td>\n",
       "    </tr>\n",
       "    <tr>\n",
       "      <th>813186</th>\n",
       "      <td>1</td>\n",
       "      <td>0</td>\n",
       "      <td>0</td>\n",
       "      <td>0</td>\n",
       "      <td>0</td>\n",
       "    </tr>\n",
       "    <tr>\n",
       "      <th>813212</th>\n",
       "      <td>0</td>\n",
       "      <td>0</td>\n",
       "      <td>0</td>\n",
       "      <td>0</td>\n",
       "      <td>1</td>\n",
       "    </tr>\n",
       "    <tr>\n",
       "      <th>813219</th>\n",
       "      <td>0</td>\n",
       "      <td>1</td>\n",
       "      <td>1</td>\n",
       "      <td>1</td>\n",
       "      <td>1</td>\n",
       "    </tr>\n",
       "    <tr>\n",
       "      <th>813232</th>\n",
       "      <td>1</td>\n",
       "      <td>1</td>\n",
       "      <td>0</td>\n",
       "      <td>0</td>\n",
       "      <td>1</td>\n",
       "    </tr>\n",
       "    <tr>\n",
       "      <th>813240</th>\n",
       "      <td>0</td>\n",
       "      <td>0</td>\n",
       "      <td>0</td>\n",
       "      <td>0</td>\n",
       "      <td>1</td>\n",
       "    </tr>\n",
       "  </tbody>\n",
       "</table>\n",
       "<p>123105 rows × 5 columns</p>\n",
       "</div>"
      ],
      "text/plain": [
       "        HIPERTENSION  OBESIDAD  DIABETES  TABAQUISMO  SURVIVED\n",
       "5                  1         0         0           1         1\n",
       "7                  1         0         1           0         1\n",
       "8                  0         0         0           0         0\n",
       "11                 0         0         1           0         0\n",
       "16                 1         0         0           0         0\n",
       "...              ...       ...       ...         ...       ...\n",
       "813186             1         0         0           0         0\n",
       "813212             0         0         0           0         1\n",
       "813219             0         1         1           1         1\n",
       "813232             1         1         0           0         1\n",
       "813240             0         0         0           0         1\n",
       "\n",
       "[123105 rows x 5 columns]"
      ]
     },
     "execution_count": 82,
     "metadata": {},
     "output_type": "execute_result"
    }
   ],
   "source": [
    "cormob_df.replace(to_replace = 2, value = 0, inplace = True)\n",
    "cormob_df"
   ]
  },
  {
   "cell_type": "code",
   "execution_count": 83,
   "metadata": {
    "colab": {},
    "colab_type": "code",
    "id": "nYssJXpOX8UQ"
   },
   "outputs": [],
   "source": [
    "corr_mtx=cormob_df.corr(method='spearman')"
   ]
  },
  {
   "cell_type": "code",
   "execution_count": 84,
   "metadata": {
    "colab": {
     "base_uri": "https://localhost:8080/",
     "height": 394
    },
    "colab_type": "code",
    "id": "bXJyAnI_i1Uc",
    "outputId": "f2327338-cbd4-41d9-f570-a46aabe919d2"
   },
   "outputs": [
    {
     "data": {
      "text/plain": [
       "<matplotlib.axes._subplots.AxesSubplot at 0x7f2b9cd806d8>"
      ]
     },
     "execution_count": 84,
     "metadata": {},
     "output_type": "execute_result"
    },
    {
     "data": {
      "image/png": "[encoded data removed]",
      "text/plain": [
       "<Figure size 720x432 with 2 Axes>"
      ]
     },
     "metadata": {},
     "output_type": "display_data"
    }
   ],
   "source": [
    "mask_ut=np.triu(np.ones(corr_mtx.shape)).astype(np.bool)\n",
    "sns.heatmap(corr_mtx,\n",
    "            mask=mask_ut,\n",
    "            annot=True,              \n",
    "            cmap=sns.color_palette(\"coolwarm\", 20))"
   ]
  },
  {
   "cell_type": "code",
   "execution_count": 100,
   "metadata": {
    "colab": {
     "base_uri": "https://localhost:8080/",
     "height": 195
    },
    "colab_type": "code",
    "id": "-n2VgygpjTPD",
    "outputId": "87e914e6-fe0d-46e8-fca1-9eca9bfcae62"
   },
   "outputs": [
    {
     "data": {
      "text/html": [
       "<div>\n",
       "<style scoped>\n",
       "    .dataframe tbody tr th:only-of-type {\n",
       "        vertical-align: middle;\n",
       "    }\n",
       "\n",
       "    .dataframe tbody tr th {\n",
       "        vertical-align: top;\n",
       "    }\n",
       "\n",
       "    .dataframe thead th {\n",
       "        text-align: right;\n",
       "    }\n",
       "</style>\n",
       "<table border=\"1\" class=\"dataframe\">\n",
       "  <thead>\n",
       "    <tr style=\"text-align: right;\">\n",
       "      <th></th>\n",
       "      <th>SURVIVED</th>\n",
       "      <th>0</th>\n",
       "      <th>1</th>\n",
       "    </tr>\n",
       "    <tr>\n",
       "      <th>HIPERTENSION</th>\n",
       "      <th>DIABETES</th>\n",
       "      <th></th>\n",
       "      <th></th>\n",
       "    </tr>\n",
       "  </thead>\n",
       "  <tbody>\n",
       "    <tr>\n",
       "      <th rowspan=\"2\" valign=\"top\">0</th>\n",
       "      <th>0</th>\n",
       "      <td>18497</td>\n",
       "      <td>44247</td>\n",
       "    </tr>\n",
       "    <tr>\n",
       "      <th>1</th>\n",
       "      <td>6282</td>\n",
       "      <td>9923</td>\n",
       "    </tr>\n",
       "    <tr>\n",
       "      <th rowspan=\"2\" valign=\"top\">1</th>\n",
       "      <th>0</th>\n",
       "      <td>8890</td>\n",
       "      <td>12161</td>\n",
       "    </tr>\n",
       "    <tr>\n",
       "      <th>1</th>\n",
       "      <td>10742</td>\n",
       "      <td>12363</td>\n",
       "    </tr>\n",
       "  </tbody>\n",
       "</table>\n",
       "</div>"
      ],
      "text/plain": [
       "SURVIVED                   0      1\n",
       "HIPERTENSION DIABETES              \n",
       "0            0         18497  44247\n",
       "             1          6282   9923\n",
       "1            0          8890  12161\n",
       "             1         10742  12363"
      ]
     },
     "execution_count": 100,
     "metadata": {},
     "output_type": "execute_result"
    }
   ],
   "source": [
    "X0 = cormob_df[\"HIPERTENSION\"]\n",
    "X1 = cormob_df[\"DIABETES\"]\n",
    "y = cormob_df['SURVIVED']\n",
    "contingency_table_num = pd.crosstab([X0,X1],y )\n",
    "contingency_table_num"
   ]
  },
  {
   "cell_type": "code",
   "execution_count": 101,
   "metadata": {
    "colab": {
     "base_uri": "https://localhost:8080/",
     "height": 195
    },
    "colab_type": "code",
    "id": "ol6Fn3sNjTeQ",
    "outputId": "b9266270-0236-412a-ab63-ade99683ae47"
   },
   "outputs": [
    {
     "data": {
      "text/html": [
       "<div>\n",
       "<style scoped>\n",
       "    .dataframe tbody tr th:only-of-type {\n",
       "        vertical-align: middle;\n",
       "    }\n",
       "\n",
       "    .dataframe tbody tr th {\n",
       "        vertical-align: top;\n",
       "    }\n",
       "\n",
       "    .dataframe thead th {\n",
       "        text-align: right;\n",
       "    }\n",
       "</style>\n",
       "<table border=\"1\" class=\"dataframe\">\n",
       "  <thead>\n",
       "    <tr style=\"text-align: right;\">\n",
       "      <th></th>\n",
       "      <th>SURVIVED</th>\n",
       "      <th>0</th>\n",
       "      <th>1</th>\n",
       "    </tr>\n",
       "    <tr>\n",
       "      <th>HIPERTENSION</th>\n",
       "      <th>DIABETES</th>\n",
       "      <th></th>\n",
       "      <th></th>\n",
       "    </tr>\n",
       "  </thead>\n",
       "  <tbody>\n",
       "    <tr>\n",
       "      <th rowspan=\"2\" valign=\"top\">0</th>\n",
       "      <th>0</th>\n",
       "      <td>0.294801</td>\n",
       "      <td>0.705199</td>\n",
       "    </tr>\n",
       "    <tr>\n",
       "      <th>1</th>\n",
       "      <td>0.387658</td>\n",
       "      <td>0.612342</td>\n",
       "    </tr>\n",
       "    <tr>\n",
       "      <th rowspan=\"2\" valign=\"top\">1</th>\n",
       "      <th>0</th>\n",
       "      <td>0.422308</td>\n",
       "      <td>0.577692</td>\n",
       "    </tr>\n",
       "    <tr>\n",
       "      <th>1</th>\n",
       "      <td>0.464921</td>\n",
       "      <td>0.535079</td>\n",
       "    </tr>\n",
       "  </tbody>\n",
       "</table>\n",
       "</div>"
      ],
      "text/plain": [
       "SURVIVED                      0         1\n",
       "HIPERTENSION DIABETES                    \n",
       "0            0         0.294801  0.705199\n",
       "             1         0.387658  0.612342\n",
       "1            0         0.422308  0.577692\n",
       "             1         0.464921  0.535079"
      ]
     },
     "execution_count": 101,
     "metadata": {},
     "output_type": "execute_result"
    }
   ],
   "source": [
    "X0 = cormob_df[\"HIPERTENSION\"]\n",
    "X1 = cormob_df[\"DIABETES\"]\n",
    "y = cormob_df['SURVIVED']\n",
    "\n",
    "contingency_table = pd.crosstab([X0,X1],y ).apply(lambda r: r/r.sum(), axis=1)\n",
    "contingency_table"
   ]
  },
  {
   "cell_type": "code",
   "execution_count": 26,
   "metadata": {
    "colab": {
     "base_uri": "https://localhost:8080/",
     "height": 70
    },
    "colab_type": "code",
    "id": "hfqYgUUZ1Fih",
    "outputId": "b624d54d-25c8-474b-af2a-980ffacbb725"
   },
   "outputs": [
    {
     "name": "stdout",
     "output_type": "stream",
     "text": [
      "22012\n",
      "50051\n"
     ]
    },
    {
     "data": {
      "text/plain": [
       "0.4397914127589858"
      ]
     },
     "execution_count": 26,
     "metadata": {},
     "output_type": "execute_result"
    }
   ],
   "source": [
    "print( len(cormob_df[ (cormob_df[\"SURVIVED\"] == 0) & (cormob_df[\"HIPERTENSION\"] == 1 ) ] ) )\n",
    "print(len(cormob_df[ cormob_df[\"SURVIVED\"] == 0  ] ) )\n",
    "Pt_1_die=len(cormob_df[ (cormob_df[\"SURVIVED\"] == 0) & (cormob_df[\"HIPERTENSION\"] == 1 ) ] )/ \\\n",
    "         len(cormob_df[ cormob_df[\"SURVIVED\"] == 0  ] ) \n",
    "Pt_1_die"
   ]
  },
  {
   "cell_type": "code",
   "execution_count": 27,
   "metadata": {
    "colab": {
     "base_uri": "https://localhost:8080/",
     "height": 70
    },
    "colab_type": "code",
    "id": "r7CsJREJ1RxZ",
    "outputId": "bd5005a0-a3ce-44ac-8a02-f07405fdf4fd"
   },
   "outputs": [
    {
     "name": "stdout",
     "output_type": "stream",
     "text": [
      "19041\n",
      "50051\n"
     ]
    },
    {
     "data": {
      "text/plain": [
       "0.38043195940141056"
      ]
     },
     "execution_count": 27,
     "metadata": {},
     "output_type": "execute_result"
    }
   ],
   "source": [
    "print( len(cormob_df[ (cormob_df[\"SURVIVED\"] == 0) & (cormob_df[\"DIABETES\"] == 1 ) ] ) )\n",
    "print(len(cormob_df[ cormob_df[\"SURVIVED\"] == 0  ] ) )\n",
    "Pt_2_die=len(cormob_df[ (cormob_df[\"SURVIVED\"] == 0) & (cormob_df[\"DIABETES\"] == 1 ) ] )/ \\\n",
    "         len(cormob_df[ cormob_df[\"SURVIVED\"] == 0  ] ) \n",
    "Pt_2_die"
   ]
  },
  {
   "cell_type": "code",
   "execution_count": 28,
   "metadata": {
    "colab": {
     "base_uri": "https://localhost:8080/",
     "height": 34
    },
    "colab_type": "code",
    "id": "NgBUUQ1J1vmC",
    "outputId": "645e8e9c-82af-44f1-df9d-588dc45a90b1"
   },
   "outputs": [
    {
     "data": {
      "text/plain": [
       "0.10866360547540735"
      ]
     },
     "execution_count": 28,
     "metadata": {},
     "output_type": "execute_result"
    }
   ],
   "source": [
    "Prior_die= len(cormob_df[ cormob_df[\"SURVIVED\"] == 0  ] ) / len(cormob_df[\"SURVIVED\"]  )\n",
    "Prior_die"
   ]
  },
  {
   "cell_type": "code",
   "execution_count": 29,
   "metadata": {
    "colab": {
     "base_uri": "https://localhost:8080/",
     "height": 34
    },
    "colab_type": "code",
    "id": "e5fJWaaB2R8M",
    "outputId": "21045572-6312-4e25-e294-602380193928"
   },
   "outputs": [
    {
     "data": {
      "text/plain": [
       "0.8913363945245927"
      ]
     },
     "execution_count": 29,
     "metadata": {},
     "output_type": "execute_result"
    }
   ],
   "source": [
    "Prior_live= len(cormob_df[ cormob_df[\"SURVIVED\"] == 1  ] ) / len(cormob_df[\"SURVIVED\"]  )\n",
    "Prior_live"
   ]
  },
  {
   "cell_type": "code",
   "execution_count": 30,
   "metadata": {
    "colab": {
     "base_uri": "https://localhost:8080/",
     "height": 70
    },
    "colab_type": "code",
    "id": "ezYcYCcf3PVM",
    "outputId": "304d72e7-c318-494a-bbc4-c2215b9022b6"
   },
   "outputs": [
    {
     "name": "stdout",
     "output_type": "stream",
     "text": [
      "69234\n",
      "410554\n"
     ]
    },
    {
     "data": {
      "text/plain": [
       "0.16863555098720265"
      ]
     },
     "execution_count": 30,
     "metadata": {},
     "output_type": "execute_result"
    }
   ],
   "source": [
    "print( len(cormob_df[ (cormob_df[\"SURVIVED\"] == 1) & (cormob_df[\"HIPERTENSION\"] == 1 ) ] ) )\n",
    "print(len(cormob_df[ cormob_df[\"SURVIVED\"] == 1  ] ) )\n",
    "Pt_1_live=len(cormob_df[ (cormob_df[\"SURVIVED\"] == 1) & (cormob_df[\"HIPERTENSION\"] == 1 ) ] )/ \\\n",
    "          len(cormob_df[ cormob_df[\"SURVIVED\"] == 1  ] ) \n",
    "Pt_1_live"
   ]
  },
  {
   "cell_type": "code",
   "execution_count": 31,
   "metadata": {
    "colab": {
     "base_uri": "https://localhost:8080/",
     "height": 70
    },
    "colab_type": "code",
    "id": "S6cTshA53ZwN",
    "outputId": "11a22576-f93c-4f64-9481-91d65de36548"
   },
   "outputs": [
    {
     "name": "stdout",
     "output_type": "stream",
     "text": [
      "54539\n",
      "410554\n"
     ]
    },
    {
     "data": {
      "text/plain": [
       "0.13284245190644836"
      ]
     },
     "execution_count": 31,
     "metadata": {},
     "output_type": "execute_result"
    }
   ],
   "source": [
    "print( len(cormob_df[ (cormob_df[\"SURVIVED\"] == 1) & (cormob_df[\"DIABETES\"] == 1 ) ] ) )\n",
    "print(len(cormob_df[ cormob_df[\"SURVIVED\"] == 1  ] ) )\n",
    "Pt_2_live=len(cormob_df[ (cormob_df[\"SURVIVED\"] == 1) & (cormob_df[\"DIABETES\"] == 1 ) ] )/ \\\n",
    "          len(cormob_df[ cormob_df[\"SURVIVED\"] == 1  ] ) \n",
    "Pt_2_live"
   ]
  },
  {
   "cell_type": "code",
   "execution_count": 32,
   "metadata": {
    "colab": {
     "base_uri": "https://localhost:8080/",
     "height": 34
    },
    "colab_type": "code",
    "id": "r6y0LCNR49Ee",
    "outputId": "5c3c42e4-c087-4e7d-e244-17778e450794"
   },
   "outputs": [
    {
     "data": {
      "text/plain": [
       "pandas.core.series.Series"
      ]
     },
     "execution_count": 32,
     "metadata": {},
     "output_type": "execute_result"
    }
   ],
   "source": [
    "type(y_train)"
   ]
  },
  {
   "cell_type": "code",
   "execution_count": 33,
   "metadata": {
    "colab": {
     "base_uri": "https://localhost:8080/",
     "height": 402
    },
    "colab_type": "code",
    "id": "ki7tFkj44OIX",
    "outputId": "1ca35fa4-7ebd-46d9-f79b-91e6df2f3533"
   },
   "outputs": [
    {
     "data": {
      "text/html": [
       "<div>\n",
       "<style scoped>\n",
       "    .dataframe tbody tr th:only-of-type {\n",
       "        vertical-align: middle;\n",
       "    }\n",
       "\n",
       "    .dataframe tbody tr th {\n",
       "        vertical-align: top;\n",
       "    }\n",
       "\n",
       "    .dataframe thead th {\n",
       "        text-align: right;\n",
       "    }\n",
       "</style>\n",
       "<table border=\"1\" class=\"dataframe\">\n",
       "  <thead>\n",
       "    <tr style=\"text-align: right;\">\n",
       "      <th></th>\n",
       "      <th>HIPERTENSION</th>\n",
       "      <th>DIABETES</th>\n",
       "      <th>SURVIVED</th>\n",
       "    </tr>\n",
       "  </thead>\n",
       "  <tbody>\n",
       "    <tr>\n",
       "      <th>88497</th>\n",
       "      <td>0</td>\n",
       "      <td>0</td>\n",
       "      <td>1</td>\n",
       "    </tr>\n",
       "    <tr>\n",
       "      <th>782887</th>\n",
       "      <td>0</td>\n",
       "      <td>0</td>\n",
       "      <td>1</td>\n",
       "    </tr>\n",
       "    <tr>\n",
       "      <th>681625</th>\n",
       "      <td>0</td>\n",
       "      <td>0</td>\n",
       "      <td>1</td>\n",
       "    </tr>\n",
       "    <tr>\n",
       "      <th>260960</th>\n",
       "      <td>1</td>\n",
       "      <td>1</td>\n",
       "      <td>1</td>\n",
       "    </tr>\n",
       "    <tr>\n",
       "      <th>40599</th>\n",
       "      <td>0</td>\n",
       "      <td>0</td>\n",
       "      <td>1</td>\n",
       "    </tr>\n",
       "    <tr>\n",
       "      <th>...</th>\n",
       "      <td>...</td>\n",
       "      <td>...</td>\n",
       "      <td>...</td>\n",
       "    </tr>\n",
       "    <tr>\n",
       "      <th>260510</th>\n",
       "      <td>0</td>\n",
       "      <td>0</td>\n",
       "      <td>1</td>\n",
       "    </tr>\n",
       "    <tr>\n",
       "      <th>718131</th>\n",
       "      <td>0</td>\n",
       "      <td>1</td>\n",
       "      <td>1</td>\n",
       "    </tr>\n",
       "    <tr>\n",
       "      <th>132606</th>\n",
       "      <td>0</td>\n",
       "      <td>0</td>\n",
       "      <td>1</td>\n",
       "    </tr>\n",
       "    <tr>\n",
       "      <th>147613</th>\n",
       "      <td>0</td>\n",
       "      <td>0</td>\n",
       "      <td>1</td>\n",
       "    </tr>\n",
       "    <tr>\n",
       "      <th>122578</th>\n",
       "      <td>0</td>\n",
       "      <td>0</td>\n",
       "      <td>1</td>\n",
       "    </tr>\n",
       "  </tbody>\n",
       "</table>\n",
       "<p>322423 rows × 3 columns</p>\n",
       "</div>"
      ],
      "text/plain": [
       "        HIPERTENSION  DIABETES  SURVIVED\n",
       "88497              0         0         1\n",
       "782887             0         0         1\n",
       "681625             0         0         1\n",
       "260960             1         1         1\n",
       "40599              0         0         1\n",
       "...              ...       ...       ...\n",
       "260510             0         0         1\n",
       "718131             0         1         1\n",
       "132606             0         0         1\n",
       "147613             0         0         1\n",
       "122578             0         0         1\n",
       "\n",
       "[322423 rows x 3 columns]"
      ]
     },
     "execution_count": 33,
     "metadata": {},
     "output_type": "execute_result"
    }
   ],
   "source": [
    "#pd.concat([s1, s2], ignore_index=True)\n",
    "y_train_df=y_train.to_frame()\n",
    "x_train=pd.concat([X_train, y_train_df],axis=1)\n",
    "#x_train =X_train.merge(y_train_df, 'SURVIVED')\n",
    "x_train"
   ]
  },
  {
   "cell_type": "code",
   "execution_count": 34,
   "metadata": {
    "colab": {
     "base_uri": "https://localhost:8080/",
     "height": 70
    },
    "colab_type": "code",
    "id": "ayKKxtjL21u9",
    "outputId": "3cb10473-2fd9-4c3b-e908-38425e36ac43"
   },
   "outputs": [
    {
     "name": "stdout",
     "output_type": "stream",
     "text": [
      "34922\n",
      "34922\n"
     ]
    },
    {
     "data": {
      "text/plain": [
       "0.9999713663956019"
      ]
     },
     "execution_count": 34,
     "metadata": {},
     "output_type": "execute_result"
    }
   ],
   "source": [
    "k1=1\n",
    "k2=2\n",
    "print( len(X_train[ (x_train[\"SURVIVED\"] == 0)  ] ) )\n",
    "print(len(x_train[ x_train[\"SURVIVED\"] == 0  ] ) )\n",
    "Pt_1_die=(len(x_train[ (x_train[\"SURVIVED\"] == 0)  ] ) + k1 )/ \\\n",
    "         (len(x_train[ x_train[\"SURVIVED\"] == 0  ] ) + k2)\n",
    "Pt_1_die"
   ]
  },
  {
   "cell_type": "code",
   "execution_count": 35,
   "metadata": {
    "colab": {
     "base_uri": "https://localhost:8080/",
     "height": 246
    },
    "colab_type": "code",
    "id": "x9dbqsDszuI4",
    "outputId": "1b6d25c7-b06a-4eec-c8e3-9cd77440bd15"
   },
   "outputs": [
    {
     "name": "stdout",
     "output_type": "stream",
     "text": [
      "34922\n",
      "34922\n",
      "15412\n",
      "34922\n",
      "13298\n",
      "34922\n",
      "287501\n",
      "287501\n",
      "48419\n",
      "287501\n",
      "38215\n",
      "287501\n"
     ]
    },
    {
     "data": {
      "text/plain": [
       "0.8916888683499626"
      ]
     },
     "execution_count": 35,
     "metadata": {},
     "output_type": "execute_result"
    }
   ],
   "source": [
    "k1=1\n",
    "k2=2\n",
    "print( len(x_train[ (x_train[\"SURVIVED\"] == 0)  ] ) )\n",
    "print(len(x_train[ x_train[\"SURVIVED\"] == 0  ] ) )\n",
    "Pt_1_die=(len(x_train[ (x_train[\"SURVIVED\"] == 0)  ] ) + k1 )/ \\\n",
    "         (len(x_train[ x_train[\"SURVIVED\"] == 0  ] ) + k2)\n",
    "Pt_1_die\n",
    "\n",
    "print( len(x_train[ (x_train[\"SURVIVED\"] == 0) & (x_train[\"HIPERTENSION\"] == 1 ) ] ) )\n",
    "print(len(x_train[ x_train[\"SURVIVED\"] == 0  ] ) )\n",
    "Pt_1_die=(len(x_train[ (x_train[\"SURVIVED\"] == 0) & (x_train[\"HIPERTENSION\"] == 1 ) ] ) + k1)/ \\\n",
    "         (len(x_train[ x_train[\"SURVIVED\"] == 0  ] ) + k2)\n",
    "Pt_1_die\n",
    "\n",
    "print( len(x_train[ (x_train[\"SURVIVED\"] == 0) & (x_train[\"DIABETES\"] == 1 ) ] ) )\n",
    "print(len(x_train[ x_train[\"SURVIVED\"] == 0  ] ) )\n",
    "Pt_2_die=(len(x_train[ (x_train[\"SURVIVED\"] == 0) & (x_train[\"DIABETES\"] == 1 ) ] ) + k1)/ \\\n",
    "         (len(x_train[ x_train[\"SURVIVED\"] == 0  ] ) + k2)\n",
    "Pt_2_die\n",
    "\n",
    "\n",
    "\n",
    "print( len(x_train[ (x_train[\"SURVIVED\"] == 1)  ] ) )\n",
    "print(len(x_train[ x_train[\"SURVIVED\"] == 1  ] ) )\n",
    "Pt_1_live=(len(x_train[ (x_train[\"SURVIVED\"] == 1)  ] ) + k1)/ \\\n",
    "          (len(x_train[ x_train[\"SURVIVED\"] == 1  ] )  + k2)\n",
    "Pt_1_live\n",
    "\n",
    "\n",
    "print( len(x_train[ (x_train[\"SURVIVED\"] == 1) & (x_train[\"HIPERTENSION\"] == 1 ) ] ) )\n",
    "print(len(x_train[ x_train[\"SURVIVED\"] == 1  ] ) )\n",
    "Pt_1_live=(len(x_train[ (x_train[\"SURVIVED\"] == 1) & (x_train[\"HIPERTENSION\"] == 1 ) ] ) + k1)/ \\\n",
    "          (len(x_train[ x_train[\"SURVIVED\"] == 1  ] ) + k2)\n",
    "Pt_1_live\n",
    "\n",
    "\n",
    "print( len(x_train[ (x_train[\"SURVIVED\"] == 1) & (x_train[\"DIABETES\"] == 1 ) ] ) )\n",
    "print(len(x_train[ x_train[\"SURVIVED\"] == 1  ] ) )\n",
    "Pt_2_live=( len(x_train[ (x_train[\"SURVIVED\"] == 1) & (x_train[\"DIABETES\"] == 1 ) ] ) + k1)/ \\\n",
    "          (len(x_train[ x_train[\"SURVIVED\"] == 1  ] ) + k2) \n",
    "Pt_2_live\n",
    "\n",
    "\n",
    "Prior_die= len(x_train[ x_train[\"SURVIVED\"] == 0  ] ) / len(x_train[\"SURVIVED\"]  )\n",
    "Prior_die\n",
    "\n",
    "Prior_live= len(x_train[ x_train[\"SURVIVED\"] == 1  ] ) / len(x_train[\"SURVIVED\"]  )\n",
    "Prior_live\n"
   ]
  },
  {
   "cell_type": "code",
   "execution_count": 36,
   "metadata": {
    "colab": {
     "base_uri": "https://localhost:8080/",
     "height": 158
    },
    "colab_type": "code",
    "id": "rLKunW6p2WTj",
    "outputId": "706645e8-0be8-4bc6-bcee-510baeed632a"
   },
   "outputs": [
    {
     "name": "stdout",
     "output_type": "stream",
     "text": [
      "0.055066217261280415\n",
      "0.1894805306157803\n",
      "0.18520884900981022\n",
      "0.47695175497223746\n"
     ]
    }
   ],
   "source": [
    "#Criteria for the case x=(0,0)\n",
    "Criteria0 = (1- Pt_1_die )*(1- Pt_2_die )*Prior_die/ \\\n",
    "            (    \n",
    "             (1- Pt_1_die )*(1- Pt_2_die )*Prior_die +\n",
    "              (1-Pt_1_live)*(1-Pt_2_live)*Prior_live  \n",
    "            )\n",
    "Criteria0 \n",
    "\n",
    " \n",
    "\n",
    "#Criteria for the case x=(0,1)\n",
    "\n",
    "Criteria1 = (1- Pt_1_die )*(Pt_2_die )*Prior_die/ \\\n",
    "            (    \n",
    "             (1- Pt_1_die )*(Pt_2_die )*Prior_die +\n",
    "              (1-Pt_1_live)*(Pt_2_live)*Prior_live  \n",
    "            )\n",
    "Criteria1 \n",
    "\n",
    "\n",
    "#Criteria for the case x=(1,0,0)\n",
    "\n",
    "Criteria2 = (Pt_1_die )*(1- Pt_2_die )*Prior_die/ \\\n",
    "            (    \n",
    "             (Pt_1_die )*(1- Pt_2_die )*Prior_die +\n",
    "              (Pt_1_live)*(1-Pt_2_live)*Prior_live  \n",
    "            )\n",
    "Criteria2 \n",
    "\n",
    "\n",
    "\n",
    "#Criteria for the case x=(1,1,0)\n",
    "\n",
    "Criteria3 = (Pt_1_die )*(Pt_2_die )*Prior_die/ \\\n",
    "            (    \n",
    "             (Pt_1_die )*(Pt_2_die )*Prior_die +\n",
    "              (Pt_1_live)*(Pt_2_live)*Prior_live  \n",
    "            )\n",
    "Criteria3 \n",
    "\n",
    "\n",
    "\n",
    "print(Criteria0)\n",
    "print(Criteria1)\n",
    "print(Criteria2)\n",
    "print(Criteria3)"
   ]
  },
  {
   "cell_type": "code",
   "execution_count": 38,
   "metadata": {
    "colab": {
     "base_uri": "https://localhost:8080/",
     "height": 34
    },
    "colab_type": "code",
    "id": "RtR0TyOYtq3L",
    "outputId": "1462c235-090b-4095-e6d6-9be2d79c1da0"
   },
   "outputs": [
    {
     "data": {
      "text/plain": [
       "0.1894805306157803"
      ]
     },
     "execution_count": 38,
     "metadata": {},
     "output_type": "execute_result"
    }
   ],
   "source": [
    "criteria = np.array([ Criteria0, Criteria1, Criteria2, Criteria3, \n",
    "                    ])\n",
    "criteria[1]"
   ]
  },
  {
   "cell_type": "code",
   "execution_count": 39,
   "metadata": {
    "colab": {},
    "colab_type": "code",
    "id": "EXl0-45Ir5uu"
   },
   "outputs": [],
   "source": [
    "def clasifica_NB(X_test,criterio, T):\n",
    "    instancias = X_test.shape[0]\n",
    "    y = np.zeros(instancias)\n",
    "    for i in range(instancias):        \n",
    "        \n",
    "        #Criteria for the case x=(0,0)\n",
    "        if (X_test.iat[i,0] == 0) & (X_test.iat[i,1] == 0) :     \n",
    "#           print( X_test.iat[i,0],X_test.iat[i,1] ,X_test.iat[i,2])\n",
    "           if criterio[0] > T:\n",
    "              y[i]=0\n",
    "           else:\n",
    "              y[i]=1\n",
    "        #Criteria for the case x=(0,1)     \n",
    "        elif (X_test.iat[i,0] == 0) & (X_test.iat[i,1] == 1) :\n",
    "           if criterio[1] > T:\n",
    "              y[i]=0\n",
    "           else:\n",
    "              y[i]=1\n",
    "        #Criteria for the case x=(1,0)      \n",
    "        elif (X_test.iat[i,0] == 1) & (X_test.iat[i,1] == 0):\n",
    "           if criterio[2] > T:\n",
    "              y[i]=0\n",
    "           else:\n",
    "              y[i]=1 \n",
    "        else:       \n",
    "#        else (X_test.iat[i,0] == 1) & (X_test.iat[i,1] == 1):\n",
    "           if criterio[3] > T:\n",
    "              y[i]=0\n",
    "           else:\n",
    "              y[i]=1 \n",
    "\n",
    "        \n",
    "    \n",
    "    \"\"\" -------------  \"\"\"\n",
    "    return y.astype(int)                                                          "
   ]
  },
  {
   "cell_type": "code",
   "execution_count": 78,
   "metadata": {
    "colab": {
     "base_uri": "https://localhost:8080/",
     "height": 334
    },
    "colab_type": "code",
    "id": "TSgj-G8bzT_b",
    "outputId": "2770a4a6-3945-4ecd-8d5a-3f4a36bf728f"
   },
   "outputs": [],
   "source": [
    "umbral = 0.45\n",
    "y_hat = clasifica_NB(X_test,criteria, umbral)"
   ]
  },
  {
   "cell_type": "code",
   "execution_count": 79,
   "metadata": {
    "colab": {
     "base_uri": "https://localhost:8080/",
     "height": 34
    },
    "colab_type": "code",
    "id": "n_qhyCHZ8e5i",
    "outputId": "1de74d57-fa2c-41c4-c0dc-4fabaa826b60"
   },
   "outputs": [
    {
     "data": {
      "text/plain": [
       "(138182,)"
      ]
     },
     "execution_count": 79,
     "metadata": {},
     "output_type": "execute_result"
    }
   ],
   "source": [
    "#X_test.shape[0]\n",
    "y_hat.shape"
   ]
  },
  {
   "cell_type": "code",
   "execution_count": 80,
   "metadata": {
    "colab": {
     "base_uri": "https://localhost:8080/",
     "height": 52
    },
    "colab_type": "code",
    "id": "d8I7Jg4b8_C5",
    "outputId": "e8123ecb-6cd7-4f5b-8bff-907934b2f3ac"
   },
   "outputs": [
    {
     "name": "stdout",
     "output_type": "stream",
     "text": [
      "(138182,)\n",
      "(138182, 2)\n"
     ]
    }
   ],
   "source": [
    "print(y_test.shape)\n",
    "print(X_test.shape)"
   ]
  },
  {
   "cell_type": "code",
   "execution_count": 81,
   "metadata": {
    "colab": {
     "base_uri": "https://localhost:8080/",
     "height": 228
    },
    "colab_type": "code",
    "id": "NMmMBl1D8xwz",
    "outputId": "b345a6f3-5fde-46cc-93d2-78309b10a7e6"
   },
   "outputs": [
    {
     "name": "stdout",
     "output_type": "stream",
     "text": [
      "Prediction with Logistic Regression:\n",
      "\n",
      "              precision    recall  f1-score   support\n",
      "\n",
      "           0       0.30      0.24      0.26     15129\n",
      "           1       0.91      0.93      0.92    123053\n",
      "\n",
      "    accuracy                           0.86    138182\n",
      "   macro avg       0.60      0.58      0.59    138182\n",
      "weighted avg       0.84      0.86      0.85    138182\n",
      "\n",
      "0.8561824260757551\n"
     ]
    }
   ],
   "source": [
    "print(\"Prediction with Logistic Regression:\")\n",
    "print()\n",
    "print(classification_report(y_test, y_hat))\n",
    "print(accuracy_score(y_test, y_hat))"
   ]
  },
  {
   "cell_type": "code",
   "execution_count": 82,
   "metadata": {
    "colab": {},
    "colab_type": "code",
    "id": "PKHO20IIE3h-"
   },
   "outputs": [
    {
     "name": "stdout",
     "output_type": "stream",
     "text": [
      "TN =  3572\n",
      "FN =  8316\n",
      "TN =  114737\n",
      "FN =  11557\n",
      "PPV =  0.9084912980822525\n",
      "NPV =  0.30047106325706596\n",
      "Sensitivity =  0.9324193640138801\n",
      "Specificitivity =  0.23610284883336638\n"
     ]
    }
   ],
   "source": [
    "from sklearn.metrics import confusion_matrix,plot_confusion_matrix,roc_curve,auc,fbeta_score\n",
    "df_cm=confusion_matrix(y_test, y_hat)\n",
    "TN  = df_cm[0][0]\n",
    "FN  = df_cm[1][0]\n",
    "TP  = df_cm[1][1]\n",
    "FP  = df_cm[0][1]\n",
    "PPV = TP/(TP + FP)\n",
    "NPV = TN/(FN + TN)\n",
    "Sensitivity       = TP/(TP + FN)\n",
    "Spec = TN/(FP + TN)\n",
    "print('TN = ',TN)\n",
    "print('FN = ',FN)\n",
    "print('TN = ',TP)\n",
    "print('FN = ',FP)\n",
    "print('PPV = ',PPV)\n",
    "print('NPV = ',NPV)\n",
    "print('Sensitivity = ',Sensitivity)\n",
    "print('Specificitivity = ',Spec)"
   ]
  },
  {
   "cell_type": "code",
   "execution_count": 83,
   "metadata": {
    "colab": {
     "base_uri": "https://localhost:8080/",
     "height": 394
    },
    "colab_type": "code",
    "id": "703nkMiHGobd",
    "outputId": "cb555111-0dae-4e87-bc35-8325b520bba2"
   },
   "outputs": [
    {
     "data": {
      "image/png": "[encoded data removed]",
      "text/plain": [
       "<Figure size 720x432 with 2 Axes>"
      ]
     },
     "metadata": {
      "needs_background": "light"
     },
     "output_type": "display_data"
    }
   ],
   "source": [
    "#sns.heatmap(df_cm, annot=True)\n",
    "sns.heatmap(df_cm/np.sum(df_cm), annot=True, \n",
    "            fmt='.2%', cmap='Reds')\n",
    "plt.savefig( 'CM_NB.eps')"
   ]
  },
  {
   "cell_type": "code",
   "execution_count": 121,
   "metadata": {
    "colab": {
     "base_uri": "https://localhost:8080/",
     "height": 414
    },
    "colab_type": "code",
    "id": "34_YNCDrFAlG",
    "outputId": "086c3ad7-ca78-4fd5-e6eb-574ace6e1581"
   },
   "outputs": [
    {
     "data": {
      "text/plain": [
       "<Figure size 720x432 with 0 Axes>"
      ]
     },
     "metadata": {},
     "output_type": "display_data"
    },
    {
     "data": {
      "image/png": "[encoded data removed]",
      "text/plain": [
       "<Figure size 720x432 with 2 Axes>"
      ]
     },
     "metadata": {},
     "output_type": "display_data"
    }
   ],
   "source": [
    "fig = plt.figure()\n",
    "disp = plot_confusion_matrix(clf, X_test, y_test,\n",
    "                            #  display_labels=['1','0'],\n",
    "                             cmap=plt.cm.Reds, normalize = 'all'\n",
    "                            )"
   ]
  },
  {
   "cell_type": "code",
   "execution_count": 122,
   "metadata": {
    "colab": {
     "base_uri": "https://localhost:8080/",
     "height": 193
    },
    "colab_type": "code",
    "id": "sc8fSF2j3rHO",
    "outputId": "ca4a2659-aa82-40e6-81b4-30a1547e6da6"
   },
   "outputs": [
    {
     "data": {
      "text/plain": [
       "HIPERTENSION  DIABETES\n",
       "0             0           62744\n",
       "              1           16205\n",
       "1             0           21051\n",
       "              1           23105\n",
       "dtype: int64"
      ]
     },
     "execution_count": 122,
     "metadata": {},
     "output_type": "execute_result"
    }
   ],
   "source": [
    "sum_raw=contingency_table_num.sum(axis=1)\n",
    "sum_raw"
   ]
  },
  {
   "cell_type": "code",
   "execution_count": 123,
   "metadata": {
    "colab": {
     "base_uri": "https://localhost:8080/",
     "height": 87
    },
    "colab_type": "code",
    "id": "wyuUCmxD-MyF",
    "outputId": "9a1c7529-c15e-4072-fe55-32481c632273"
   },
   "outputs": [
    {
     "data": {
      "text/plain": [
       "SURVIVED\n",
       "0    44411\n",
       "1    78694\n",
       "dtype: int64"
      ]
     },
     "execution_count": 123,
     "metadata": {},
     "output_type": "execute_result"
    }
   ],
   "source": [
    "sum_column=contingency_table_num.sum(axis=0)\n",
    "sum_column"
   ]
  },
  {
   "cell_type": "code",
   "execution_count": 124,
   "metadata": {
    "colab": {
     "base_uri": "https://localhost:8080/",
     "height": 34
    },
    "colab_type": "code",
    "id": "VMtx5FXj-Y0U",
    "outputId": "8792810b-67c8-4c74-ade8-c7385a159b12"
   },
   "outputs": [
    {
     "data": {
      "text/plain": [
       "6282"
      ]
     },
     "execution_count": 124,
     "metadata": {},
     "output_type": "execute_result"
    }
   ],
   "source": [
    "sum_raw[0][1]\n",
    "#contingency_table_num.iat[0][0]\n",
    "#type(sum_raw)\n",
    "type(contingency_table_num)\n",
    "type(cormob_df)\n",
    "contingency_table_num.iat[1,0]"
   ]
  },
  {
   "cell_type": "code",
   "execution_count": 125,
   "metadata": {
    "colab": {
     "base_uri": "https://localhost:8080/",
     "height": 34
    },
    "colab_type": "code",
    "id": "Y2o5DqugDTZk",
    "outputId": "b083ca52-9848-48c2-e6f6-3502c1de4ace"
   },
   "outputs": [
    {
     "data": {
      "text/plain": [
       "0.3138608468758312"
      ]
     },
     "execution_count": 125,
     "metadata": {},
     "output_type": "execute_result"
    }
   ],
   "source": [
    "Pt_1_die=(contingency_table_num.iat[0,0]+contingency_table_num.iat[1,0])/ \\\n",
    "           (contingency_table_num.iat[0,0]+contingency_table_num.iat[1,0]+ \\\n",
    "            contingency_table_num.iat[0,1]+contingency_table_num.iat[1,1]) \n",
    "Pt_1_die                   "
   ]
  },
  {
   "cell_type": "code",
   "execution_count": 126,
   "metadata": {
    "colab": {},
    "colab_type": "code",
    "id": "Z8nrxamSvrYR"
   },
   "outputs": [
    {
     "data": {
      "text/plain": [
       "0.3138608468758312"
      ]
     },
     "execution_count": 126,
     "metadata": {},
     "output_type": "execute_result"
    }
   ],
   "source": [
    "Pt_1_die=(contingency_table_num.iat[0,0]+contingency_table_num.iat[1,0])/ \\\n",
    "           (contingency_table_num.iat[0,0]+contingency_table_num.iat[1,0]+ \\\n",
    "            contingency_table_num.iat[0,1]+contingency_table_num.iat[1,1]) \n",
    "Pt_1_die                   "
   ]
  },
  {
   "cell_type": "code",
   "execution_count": 127,
   "metadata": {
    "colab": {
     "base_uri": "https://localhost:8080/",
     "height": 34
    },
    "colab_type": "code",
    "id": "lATZz5mBE39f",
    "outputId": "639e9e2d-d622-493d-bc81-1c5d85e92331"
   },
   "outputs": [
    {
     "data": {
      "text/plain": [
       "0.32683334327823854"
      ]
     },
     "execution_count": 127,
     "metadata": {},
     "output_type": "execute_result"
    }
   ],
   "source": [
    "Pt_2_die=(contingency_table_num.iat[0,0]+contingency_table_num.iat[2,0])/ \\\n",
    "           (contingency_table_num.iat[0,0]+contingency_table_num.iat[2,0]+ \\\n",
    "            contingency_table_num.iat[0,1]+contingency_table_num.iat[2,1]) \n",
    "Pt_2_die  "
   ]
  },
  {
   "cell_type": "code",
   "execution_count": 128,
   "metadata": {
    "colab": {
     "base_uri": "https://localhost:8080/",
     "height": 34
    },
    "colab_type": "code",
    "id": "9egPoyqMHS1X",
    "outputId": "8eec02f0-c182-45aa-fba6-53ec3356157d"
   },
   "outputs": [
    {
     "data": {
      "text/plain": [
       "0.6861391531241687"
      ]
     },
     "execution_count": 128,
     "metadata": {},
     "output_type": "execute_result"
    }
   ],
   "source": [
    "Pt_1_live=(contingency_table_num.iat[0,1]+contingency_table_num.iat[1,1])/ \\\n",
    "           (contingency_table_num.iat[0,1]+contingency_table_num.iat[1,1]+ \\\n",
    "            contingency_table_num.iat[0,0]+contingency_table_num.iat[1,0]) \n",
    "Pt_1_live "
   ]
  },
  {
   "cell_type": "code",
   "execution_count": 129,
   "metadata": {
    "colab": {
     "base_uri": "https://localhost:8080/",
     "height": 195
    },
    "colab_type": "code",
    "id": "-UWfDXj8X_aT",
    "outputId": "aea0246c-1276-4d2b-831a-e912eaf7ed66"
   },
   "outputs": [
    {
     "data": {
      "text/html": [
       "<div>\n",
       "<style scoped>\n",
       "    .dataframe tbody tr th:only-of-type {\n",
       "        vertical-align: middle;\n",
       "    }\n",
       "\n",
       "    .dataframe tbody tr th {\n",
       "        vertical-align: top;\n",
       "    }\n",
       "\n",
       "    .dataframe thead th {\n",
       "        text-align: right;\n",
       "    }\n",
       "</style>\n",
       "<table border=\"1\" class=\"dataframe\">\n",
       "  <thead>\n",
       "    <tr style=\"text-align: right;\">\n",
       "      <th></th>\n",
       "      <th>SURVIVED</th>\n",
       "      <th>0</th>\n",
       "      <th>1</th>\n",
       "    </tr>\n",
       "    <tr>\n",
       "      <th>HIPERTENSION</th>\n",
       "      <th>DIABETES</th>\n",
       "      <th></th>\n",
       "      <th></th>\n",
       "    </tr>\n",
       "  </thead>\n",
       "  <tbody>\n",
       "    <tr>\n",
       "      <th rowspan=\"2\" valign=\"top\">0</th>\n",
       "      <th>0</th>\n",
       "      <td>0.294801</td>\n",
       "      <td>0.705199</td>\n",
       "    </tr>\n",
       "    <tr>\n",
       "      <th>1</th>\n",
       "      <td>0.387658</td>\n",
       "      <td>0.612342</td>\n",
       "    </tr>\n",
       "    <tr>\n",
       "      <th rowspan=\"2\" valign=\"top\">1</th>\n",
       "      <th>0</th>\n",
       "      <td>0.422308</td>\n",
       "      <td>0.577692</td>\n",
       "    </tr>\n",
       "    <tr>\n",
       "      <th>1</th>\n",
       "      <td>0.464921</td>\n",
       "      <td>0.535079</td>\n",
       "    </tr>\n",
       "  </tbody>\n",
       "</table>\n",
       "</div>"
      ],
      "text/plain": [
       "SURVIVED                      0         1\n",
       "HIPERTENSION DIABETES                    \n",
       "0            0         0.294801  0.705199\n",
       "             1         0.387658  0.612342\n",
       "1            0         0.422308  0.577692\n",
       "             1         0.464921  0.535079"
      ]
     },
     "execution_count": 129,
     "metadata": {},
     "output_type": "execute_result"
    }
   ],
   "source": [
    "X0 = cormob_df[\"HIPERTENSION\"]\n",
    "X1 = cormob_df[\"DIABETES\"]\n",
    "\n",
    "y = cormob_df['SURVIVED']\n",
    "\n",
    "contingency_table = pd.crosstab([X0,X1],y ).apply(lambda r: r/r.sum(), axis=1)\n",
    "contingency_table"
   ]
  },
  {
   "cell_type": "code",
   "execution_count": null,
   "metadata": {
    "colab": {},
    "colab_type": "code",
    "id": "Abyj1oMVYZAS"
   },
   "outputs": [],
   "source": [
    "X = cormob_df[[\"HIPERTENSION\", \"DIABETES\"]]\n",
    "y = cormob_df['SURVIVED']\n",
    "\n",
    "X_train, X_test, y_train, y_test = train_test_split(X, y, \n",
    "                                                    test_size=0.3, \n",
    "                                                    random_state=1)"
   ]
  },
  {
   "cell_type": "code",
   "execution_count": null,
   "metadata": {
    "colab": {
     "base_uri": "https://localhost:8080/",
     "height": 239
    },
    "colab_type": "code",
    "id": "P3nNALCZkgNz",
    "outputId": "da99cb30-d539-416b-d193-2ee055cf2e99"
   },
   "outputs": [
    {
     "ename": "NameError",
     "evalue": "ignored",
     "output_type": "error",
     "traceback": [
      "\u001b[0;31m---------------------------------------------------------------------------\u001b[0m",
      "\u001b[0;31mNameError\u001b[0m                                 Traceback (most recent call last)",
      "\u001b[0;32m<ipython-input-1-31413c00d985>\u001b[0m in \u001b[0;36m<module>\u001b[0;34m()\u001b[0m\n\u001b[1;32m      4\u001b[0m \u001b[0mno_sel_fts\u001b[0m \u001b[0;34m=\u001b[0m \u001b[0;36m2\u001b[0m\u001b[0;34m\u001b[0m\u001b[0;34m\u001b[0m\u001b[0m\n\u001b[1;32m      5\u001b[0m \u001b[0;34m\u001b[0m\u001b[0m\n\u001b[0;32m----> 6\u001b[0;31m \u001b[0msclr_01\u001b[0m \u001b[0;34m=\u001b[0m \u001b[0mMinMaxScaler\u001b[0m\u001b[0;34m(\u001b[0m\u001b[0;34m)\u001b[0m\u001b[0;34m\u001b[0m\u001b[0;34m\u001b[0m\u001b[0m\n\u001b[0m\u001b[1;32m      7\u001b[0m \u001b[0mstd_sclr\u001b[0m \u001b[0;34m=\u001b[0m \u001b[0mStandardScaler\u001b[0m\u001b[0;34m(\u001b[0m\u001b[0;34m)\u001b[0m\u001b[0;34m\u001b[0m\u001b[0;34m\u001b[0m\u001b[0m\n\u001b[1;32m      8\u001b[0m \u001b[0;34m\u001b[0m\u001b[0m\n",
      "\u001b[0;31mNameError\u001b[0m: name 'MinMaxScaler' is not defined"
     ]
    }
   ],
   "source": [
    "#--------\n",
    "### CREATE PIPELINES\n",
    "no_poly = 1\n",
    "no_sel_fts = 2\n",
    "\n",
    "sclr_01 = MinMaxScaler()\n",
    "std_sclr = StandardScaler()\n",
    "\n",
    "polyFt_m = PolynomialFeatures(no_poly,include_bias=False)\n",
    "#polyFt_m = PolynomialFeatures(no_poly)\n",
    "\n",
    "### Initialize Ft Selection\n",
    "sel = SelectKBest(chi2, k=no_sel_fts)\n",
    "#sel = SelectKBest(chi2, k=2)\n",
    "\n",
    "\n",
    "\n",
    "lr_m  = LogisticRegression()\n",
    "\n",
    "dt_m = DecisionTreeClassifier(criterion='entropy',\n",
    "                               max_depth=5,\n",
    "                               min_samples_split = 20, \n",
    "                               random_state=0)\n",
    "\n",
    "\n",
    "knn_m = KNeighborsClassifier(n_neighbors=15)"
   ]
  },
  {
   "cell_type": "code",
   "execution_count": null,
   "metadata": {
    "colab": {},
    "colab_type": "code",
    "id": "Yc2v5qxVkk3p"
   },
   "outputs": [],
   "source": [
    "model_lr = make_pipeline(sclr_01,\n",
    "                         polyFt_m,\n",
    "                         sel,\n",
    "                         lr_m)\n",
    "\n",
    "model_dt = make_pipeline(sclr_01,\n",
    "                         polyFt_m,\n",
    "                         sel,\n",
    "                         dt_m)\n",
    "\n",
    "model_knn = make_pipeline(sclr_01,\n",
    "                          polyFt_m,\n",
    "                          sel,\n",
    "                          knn_m)"
   ]
  },
  {
   "cell_type": "code",
   "execution_count": null,
   "metadata": {
    "colab": {
     "base_uri": "https://localhost:8080/",
     "height": 70
    },
    "colab_type": "code",
    "id": "6XG9ixtMkn8j",
    "outputId": "4bfbff28-bd3f-4325-d970-75d57799afa0"
   },
   "outputs": [
    {
     "name": "stdout",
     "output_type": "stream",
     "text": [
      "TEST ERROR----\n",
      "LR R2:  -0.5263331542096694\n",
      "LR RMSE:  0.5890883648274764 MW\n"
     ]
    }
   ],
   "source": [
    "model_lr.fit(X_train, y_train[:, np.newaxis])\n",
    "# model_dt.fit(X_train, y_train[:, np.newaxis])\n",
    "# model_knn.fit(X_train,y_train[:, np.newaxis])\n",
    "\n",
    "\n",
    "# #--------\n",
    "# ### PREDICT TEST DATA \n",
    "\n",
    "y_hat = model_lr.predict(X_test)\n",
    "# y_hatdt = model_dt.predict(X_test)\n",
    "# y_hatknn = model_knn.predict(X_test)\n",
    "\n",
    "\n",
    "# #--------\n",
    "# ### PRINT SCORES\n",
    "\n",
    "print('TEST ERROR----')\n",
    "\n",
    "print('LR R2: ',r2_score(y_test,y_hat))\n",
    "# print('DT R2: ',r2_score(y_test,y_hatdt))\n",
    "# print('KNN R2: ',r2_score(y_test,y_hatknn))\n",
    "\n",
    "print('LR RMSE: ',mean_squared_error(y_test,y_hat, squared=False), 'MW')\n",
    "# print('DT RMSE: ',mean_squared_error(y_test,y_hatdt, squared=False), 'MW')\n",
    "# print('KNN RMSE: ',mean_squared_error(y_test,y_hatknn, squared=False), 'MW')"
   ]
  },
  {
   "cell_type": "code",
   "execution_count": null,
   "metadata": {
    "colab": {
     "base_uri": "https://localhost:8080/",
     "height": 246
    },
    "colab_type": "code",
    "id": "Hx95crejk8x5",
    "outputId": "965abc52-8341-4339-8cc7-052a9833d729"
   },
   "outputs": [
    {
     "name": "stdout",
     "output_type": "stream",
     "text": [
      "Prediction with Logistic Regression:\n",
      "\n",
      "              precision    recall  f1-score   support\n",
      "\n",
      "           0       0.51      0.18      0.26      6280\n",
      "           1       0.67      0.91      0.77     11687\n",
      "\n",
      "    accuracy                           0.65     17967\n",
      "   macro avg       0.59      0.54      0.52     17967\n",
      "weighted avg       0.62      0.65      0.59     17967\n",
      "\n",
      "0.6529748984248901\n",
      "\n"
     ]
    }
   ],
   "source": [
    "print(\"Prediction with Logistic Regression:\")\n",
    "print()\n",
    "print(classification_report(y_test, y_hat))\n",
    "print(accuracy_score(y_test, y_hat))\n",
    "print()\n",
    "# print(\"Prediction with Decission Tree Classifier:\")\n",
    "# print(classification_report(y_test, y_hatdt))\n",
    "# print(accuracy_score(y_test, y_hatdt))\n",
    "# print()\n",
    "# print(\"Prediction with K-NN Classifier:\")\n",
    "# print(classification_report(y_test, y_hatdt))\n",
    "# print(accuracy_score(y_test, y_hatdt))"
   ]
  },
  {
   "cell_type": "code",
   "execution_count": null,
   "metadata": {
    "colab": {},
    "colab_type": "code",
    "id": "NTP9wsflyjn5"
   },
   "outputs": [],
   "source": [
    "df_cm=metrics.confusion_matrix(y_test, y_hat)\n",
    "TN  = df_cm[0][0]\n",
    "FN  = df_cm[1][0]\n",
    "TP  = df_cm[1][1]\n",
    "FP  = df_cm[0][1]\n",
    "PPV = TP/(TP + FP)\n",
    "NPV = TN/(FN + TN)\n",
    "Sensivity       = TP/(TP + FN)\n",
    "Spec = TN/(FP + TN)\n",
    "print('TN = ',TN)\n",
    "print('FN = ',FN)\n",
    "print('TN = ',TP)\n",
    "print('FN = ',FP)\n",
    "print('PPV = ',PPV)\n",
    "print('NPV = ',NPV)\n",
    "print('Sensitivity = ',Sensitivity)\n",
    "print('Specificitivity = ',Spec)"
   ]
  },
  {
   "cell_type": "code",
   "execution_count": null,
   "metadata": {
    "colab": {
     "base_uri": "https://localhost:8080/",
     "height": 414
    },
    "colab_type": "code",
    "id": "ueljb5d7kukN",
    "outputId": "de29ce4f-0f5b-47e1-a78b-bee581379df2"
   },
   "outputs": [
    {
     "data": {
      "text/plain": [
       "<Figure size 720x432 with 0 Axes>"
      ]
     },
     "metadata": {
      "tags": []
     },
     "output_type": "display_data"
    },
    {
     "data": {
      "image/png": "[encoded data removed]",
      "text/plain": [
       "<Figure size 720x432 with 2 Axes>"
      ]
     },
     "metadata": {
      "needs_background": "light",
      "tags": []
     },
     "output_type": "display_data"
    }
   ],
   "source": [
    "fig = plt.figure()\n",
    "disp = plot_confusion_matrix(model_lr, X_test, y_test,\n",
    "                            #  display_labels=['1','0'],\n",
    "                             cmap=plt.cm.Greens, normalize = 'all'\n",
    "                            )"
   ]
  },
  {
   "cell_type": "code",
   "execution_count": null,
   "metadata": {
    "colab": {
     "base_uri": "https://localhost:8080/",
     "height": 52
    },
    "colab_type": "code",
    "id": "ZpBI1945k0Bo",
    "outputId": "5c99a1b6-b1f9-4306-b148-92e2f54b43f7"
   },
   "outputs": [
    {
     "data": {
      "text/plain": [
       "array([[ 1107,  5173],\n",
       "       [ 1062, 10625]])"
      ]
     },
     "execution_count": 64,
     "metadata": {
      "tags": []
     },
     "output_type": "execute_result"
    }
   ],
   "source": [
    "from sklearn import metrics\n",
    "metrics.confusion_matrix(y_test, y_hat)"
   ]
  }
 ],
 "metadata": {
  "colab": {
   "collapsed_sections": [],
   "name": "comorbilitiesCovid.ipynb",
   "provenance": []
  },
  "kernelspec": {
   "display_name": "Python 3",
   "language": "python",
   "name": "python3"
  },
  "language_info": {
   "codemirror_mode": {
    "name": "ipython",
    "version": 3
   },
   "file_extension": ".py",
   "mimetype": "text/x-python",
   "name": "python",
   "nbconvert_exporter": "python",
   "pygments_lexer": "ipython3",
   "version": "3.8.5"
  }
 },
 "nbformat": 4,
 "nbformat_minor": 1
}
